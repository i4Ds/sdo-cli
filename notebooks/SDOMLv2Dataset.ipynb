{
 "cells": [
  {
   "cell_type": "code",
   "execution_count": 1,
   "id": "c6f6a6f3",
   "metadata": {},
   "outputs": [],
   "source": [
    "from sdo.sood.data.sdo_ml_v2_dataset import SDOMLv2DataModule, SDOMLv2NumpyDataset"
   ]
  },
  {
   "cell_type": "code",
   "execution_count": 2,
   "id": "03e62b8e",
   "metadata": {},
   "outputs": [],
   "source": [
    "from pathlib import Path\n",
    "import numpy as np\n",
    "import os \n",
    "import sunpy\n",
    "from sunpy.visualization.colormaps import cm\n",
    "from PIL import Image\n",
    "import matplotlib.pyplot as plt\n",
    "from matplotlib.colors import LinearSegmentedColormap\n",
    "import torchvision\n",
    "import torch\n",
    "import torchvision.transforms.functional as F\n",
    "\n",
    "#inspect an image\n",
    "\n",
    "#Channels that correspond to HMI Magnetograms \n",
    "HMI_WL = ['Bx','By','Bz']\n",
    "#A colormap for visualizing HMI\n",
    "HMI_CM = LinearSegmentedColormap.from_list(\"bwrblack\", [\"#0000ff\",\"#000000\",\"#ff0000\"])\n",
    "\n",
    "def channel_to_map(name):\n",
    "    \"\"\"Given channel name, return colormap\"\"\"\n",
    "    return HMI_CM if name in HMI_WL else cm.cmlist.get('sdoaia%d' % int(name))\n",
    "\n",
    "def get_clip(X,name):\n",
    "    \"\"\"Given an image and the channel name, get the right clip\"\"\"\n",
    "    return get_signed_pct_clip(X) if name in HMI_WL else get_pct_clip(X)\n",
    "\n",
    "def get_pct_clip(X):\n",
    "    \"\"\"Return the 99.99th percentile\"\"\"\n",
    "    return (0,np.quantile(X.ravel(),0.999))\n",
    "\n",
    "def get_signed_pct_clip(X):\n",
    "    \"\"\"Return the 99.99th percentile by magnitude, but symmetrize it so 0 is in the middle\"\"\"\n",
    "    v = np.quantile(np.abs(X.ravel()),0.999)\n",
    "    return (-v,v)\n",
    "\n",
    "def vis(X, cm, clip):\n",
    "    \"\"\"Given image, colormap, and a clipping, visualize results\"\"\"\n",
    "    Xc = np.clip((X-clip[0])/(clip[1]-clip[0]),0,1)\n",
    "    Xcv = cm(Xc)\n",
    "    return (Xcv[:,:,:3]*255).astype(np.uint8)\n",
    "\n",
    "def show_grid(imgs):\n",
    "    if not isinstance(imgs, list):\n",
    "        imgs = [imgs]\n",
    "    fix, axs = plt.subplots(figsize=(24,24), ncols=4, nrows=int(len(imgs)/4), squeeze=False)\n",
    "    row = 0\n",
    "    for i, img in enumerate(imgs):\n",
    "        col = i % 4\n",
    "        if i != 0 and i % 4 == 0:\n",
    "            row = row + 1\n",
    "        axs[row, col].imshow(img)\n",
    "        axs[row, col].set(xticklabels=[], yticklabels=[], xticks=[], yticks=[])\n",
    "    plt.show()"
   ]
  },
  {
   "cell_type": "code",
   "execution_count": 3,
   "id": "bf640bbd",
   "metadata": {},
   "outputs": [
    {
     "name": "stdout",
     "output_type": "stream",
     "text": [
      "discovered the following zarr directory structure\n",
      "/\n",
      " └── 2010\n",
      "     ├── 131A (6135, 512, 512) float32\n",
      "     ├── 1600A (6136, 512, 512) float32\n",
      "     ├── 1700A (6135, 512, 512) float32\n",
      "     ├── 171A (6135, 512, 512) float32\n",
      "     ├── 193A (6135, 512, 512) float32\n",
      "     ├── 211A (6136, 512, 512) float32\n",
      "     ├── 304A (6134, 512, 512) float32\n",
      "     ├── 335A (6135, 512, 512) float32\n",
      "     └── 94A (6136, 512, 512) float32\n",
      "filtering data between 2010-08-28 00:00:00 and 2010-08-28 23:59:59\n",
      "found 239 images\n",
      "discovered the following zarr directory structure\n",
      "/\n",
      " └── 2010\n",
      "     ├── 131A (6135, 512, 512) float32\n",
      "     ├── 1600A (6136, 512, 512) float32\n",
      "     ├── 1700A (6135, 512, 512) float32\n",
      "     ├── 171A (6135, 512, 512) float32\n",
      "     ├── 193A (6135, 512, 512) float32\n",
      "     ├── 211A (6136, 512, 512) float32\n",
      "     ├── 304A (6134, 512, 512) float32\n",
      "     ├── 335A (6135, 512, 512) float32\n",
      "     └── 94A (6136, 512, 512) float32\n",
      "filtering data between 2010-08-29 00:00:00 and 2010-08-29 23:59:59\n",
      "found 239 images\n",
      "Selecting groups for train-validation split. Number of groups 1, number of groups for training 1, number of groups for validation 0\n",
      "splitting Dataset into two subsets. Train size 239, validation size 0\n"
     ]
    },
    {
     "ename": "ValueError",
     "evalue": "prefetch_factor option could only be specified in multiprocessing.let num_workers > 0 to enable multiprocessing.",
     "output_type": "error",
     "traceback": [
      "\u001b[0;31m---------------------------------------------------------------------------\u001b[0m",
      "\u001b[0;31mValueError\u001b[0m                                Traceback (most recent call last)",
      "Input \u001b[0;32mIn [3]\u001b[0m, in \u001b[0;36m<cell line: 1>\u001b[0;34m()\u001b[0m\n\u001b[0;32m----> 1\u001b[0m loader \u001b[38;5;241m=\u001b[39m \u001b[43mSDOMLv2DataModule\u001b[49m\u001b[43m(\u001b[49m\u001b[38;5;124;43m\"\u001b[39;49m\u001b[38;5;124;43mfdl-sdoml-v2/sdomlv2_small.zarr/\u001b[39;49m\u001b[38;5;124;43m\"\u001b[39;49m\u001b[43m,\u001b[49m\u001b[43m \u001b[49m\u001b[43mchannel\u001b[49m\u001b[38;5;241;43m=\u001b[39;49m\u001b[38;5;124;43m\"\u001b[39;49m\u001b[38;5;124;43m193A\u001b[39;49m\u001b[38;5;124;43m\"\u001b[39;49m\u001b[43m,\u001b[49m\u001b[43m \u001b[49m\u001b[43mtrain_start\u001b[49m\u001b[38;5;241;43m=\u001b[39;49m\u001b[38;5;124;43m\"\u001b[39;49m\u001b[38;5;124;43m2010-08-28 00:00:00\u001b[39;49m\u001b[38;5;124;43m\"\u001b[39;49m\u001b[43m,\u001b[49m\u001b[43m \u001b[49m\u001b[43mtrain_end\u001b[49m\u001b[38;5;241;43m=\u001b[39;49m\u001b[38;5;124;43m\"\u001b[39;49m\u001b[38;5;124;43m2010-08-28 23:59:59\u001b[39;49m\u001b[38;5;124;43m\"\u001b[39;49m\u001b[43m,\u001b[49m\u001b[43m \u001b[49m\u001b[43mtest_start\u001b[49m\u001b[38;5;241;43m=\u001b[39;49m\u001b[38;5;124;43m\"\u001b[39;49m\u001b[38;5;124;43m2010-08-29 00:00:00\u001b[39;49m\u001b[38;5;124;43m\"\u001b[39;49m\u001b[43m,\u001b[49m\u001b[43m \u001b[49m\u001b[43mtest_end\u001b[49m\u001b[38;5;241;43m=\u001b[39;49m\u001b[38;5;124;43m\"\u001b[39;49m\u001b[38;5;124;43m2010-08-29 23:59:59\u001b[39;49m\u001b[38;5;124;43m\"\u001b[39;49m\u001b[43m)\u001b[49m\u001b[38;5;241;43m.\u001b[39;49m\u001b[43mtrain_dataloader\u001b[49m\u001b[43m(\u001b[49m\u001b[43m)\u001b[49m\n",
      "File \u001b[0;32m~/repos/master/sdo-cli/src/sdo/sood/data/sdo_ml_v2_dataset.py:347\u001b[0m, in \u001b[0;36mSDOMLv2DataModule.train_dataloader\u001b[0;34m(self)\u001b[0m\n\u001b[1;32m    346\u001b[0m \u001b[38;5;28;01mdef\u001b[39;00m \u001b[38;5;21mtrain_dataloader\u001b[39m(\u001b[38;5;28mself\u001b[39m):\n\u001b[0;32m--> 347\u001b[0m     \u001b[38;5;28;01mreturn\u001b[39;00m \u001b[43mDataLoader\u001b[49m\u001b[43m(\u001b[49m\u001b[38;5;28;43mself\u001b[39;49m\u001b[38;5;241;43m.\u001b[39;49m\u001b[43mdataset_train\u001b[49m\u001b[43m,\u001b[49m\u001b[43m \u001b[49m\u001b[43mbatch_size\u001b[49m\u001b[38;5;241;43m=\u001b[39;49m\u001b[38;5;28;43mself\u001b[39;49m\u001b[38;5;241;43m.\u001b[39;49m\u001b[43mbatch_size\u001b[49m\u001b[43m,\u001b[49m\n\u001b[1;32m    348\u001b[0m \u001b[43m                      \u001b[49m\u001b[43mshuffle\u001b[49m\u001b[38;5;241;43m=\u001b[39;49m\u001b[38;5;28;43mself\u001b[39;49m\u001b[38;5;241;43m.\u001b[39;49m\u001b[43mshuffle\u001b[49m\u001b[43m,\u001b[49m\n\u001b[1;32m    349\u001b[0m \u001b[43m                      \u001b[49m\u001b[43mnum_workers\u001b[49m\u001b[38;5;241;43m=\u001b[39;49m\u001b[38;5;28;43mself\u001b[39;49m\u001b[38;5;241;43m.\u001b[39;49m\u001b[43mnum_workers\u001b[49m\u001b[43m,\u001b[49m\n\u001b[1;32m    350\u001b[0m \u001b[43m                      \u001b[49m\u001b[43mpin_memory\u001b[49m\u001b[38;5;241;43m=\u001b[39;49m\u001b[38;5;28;43mself\u001b[39;49m\u001b[38;5;241;43m.\u001b[39;49m\u001b[43mpin_memory\u001b[49m\u001b[43m,\u001b[49m\n\u001b[1;32m    351\u001b[0m \u001b[43m                      \u001b[49m\u001b[43mdrop_last\u001b[49m\u001b[38;5;241;43m=\u001b[39;49m\u001b[38;5;28;43mself\u001b[39;49m\u001b[38;5;241;43m.\u001b[39;49m\u001b[43mdrop_last\u001b[49m\u001b[43m,\u001b[49m\n\u001b[1;32m    352\u001b[0m \u001b[43m                      \u001b[49m\u001b[43mprefetch_factor\u001b[49m\u001b[38;5;241;43m=\u001b[39;49m\u001b[38;5;28;43mself\u001b[39;49m\u001b[38;5;241;43m.\u001b[39;49m\u001b[43mprefetch_factor\u001b[49m\u001b[43m,\u001b[49m\n\u001b[1;32m    353\u001b[0m \u001b[43m                      \u001b[49m\u001b[43msampler\u001b[49m\u001b[38;5;241;43m=\u001b[39;49m\u001b[43mSequenceInChunkSampler\u001b[49m\u001b[43m(\u001b[49m\u001b[38;5;28;43mself\u001b[39;49m\u001b[38;5;241;43m.\u001b[39;49m\u001b[43mdataset_train\u001b[49m\u001b[43m)\u001b[49m\u001b[43m)\u001b[49m\n",
      "File \u001b[0;32m~/repos/master/sdo-cli/.venv/lib/python3.9/site-packages/torch/utils/data/dataloader.py:185\u001b[0m, in \u001b[0;36mDataLoader.__init__\u001b[0;34m(self, dataset, batch_size, shuffle, sampler, batch_sampler, num_workers, collate_fn, pin_memory, drop_last, timeout, worker_init_fn, multiprocessing_context, generator, prefetch_factor, persistent_workers)\u001b[0m\n\u001b[1;32m    182\u001b[0m     \u001b[38;5;28;01mraise\u001b[39;00m \u001b[38;5;167;01mValueError\u001b[39;00m(\u001b[38;5;124m'\u001b[39m\u001b[38;5;124mtimeout option should be non-negative\u001b[39m\u001b[38;5;124m'\u001b[39m)\n\u001b[1;32m    184\u001b[0m \u001b[38;5;28;01mif\u001b[39;00m num_workers \u001b[38;5;241m==\u001b[39m \u001b[38;5;241m0\u001b[39m \u001b[38;5;129;01mand\u001b[39;00m prefetch_factor \u001b[38;5;241m!=\u001b[39m \u001b[38;5;241m2\u001b[39m:\n\u001b[0;32m--> 185\u001b[0m     \u001b[38;5;28;01mraise\u001b[39;00m \u001b[38;5;167;01mValueError\u001b[39;00m(\u001b[38;5;124m'\u001b[39m\u001b[38;5;124mprefetch_factor option could only be specified in multiprocessing.\u001b[39m\u001b[38;5;124m'\u001b[39m\n\u001b[1;32m    186\u001b[0m                      \u001b[38;5;124m'\u001b[39m\u001b[38;5;124mlet num_workers > 0 to enable multiprocessing.\u001b[39m\u001b[38;5;124m'\u001b[39m)\n\u001b[1;32m    187\u001b[0m \u001b[38;5;28;01massert\u001b[39;00m prefetch_factor \u001b[38;5;241m>\u001b[39m \u001b[38;5;241m0\u001b[39m\n\u001b[1;32m    189\u001b[0m \u001b[38;5;28;01mif\u001b[39;00m persistent_workers \u001b[38;5;129;01mand\u001b[39;00m num_workers \u001b[38;5;241m==\u001b[39m \u001b[38;5;241m0\u001b[39m:\n",
      "\u001b[0;31mValueError\u001b[0m: prefetch_factor option could only be specified in multiprocessing.let num_workers > 0 to enable multiprocessing."
     ]
    }
   ],
   "source": [
    "loader = SDOMLv2DataModule(\"fdl-sdoml-v2/sdomlv2_small.zarr/\", channel=\"193A\", train_start=\"2010-08-28 00:00:00\", train_end=\"2010-08-28 23:59:59\", test_start=\"2010-08-29 00:00:00\", test_end=\"2010-08-29 23:59:59\").train_dataloader()\n"
   ]
  },
  {
   "cell_type": "code",
   "execution_count": null,
   "id": "60054b20",
   "metadata": {},
   "outputs": [],
   "source": [
    "for batch_idx, samples in enumerate(loader):\n",
    "    X, y = samples\n",
    "    V = []\n",
    "    for x in X:\n",
    "        x = x.permute(1,2,0) # torch to pillow\n",
    "        x = np.squeeze(x.numpy())\n",
    "        v = vis(x, channel_to_map(193), get_clip(x, 171))\n",
    "        V.append(Image.fromarray(v))\n",
    "    show_grid(V)\n",
    "    break"
   ]
  },
  {
   "cell_type": "code",
   "execution_count": null,
   "id": "a9226827",
   "metadata": {},
   "outputs": [],
   "source": [
    "loader = SDOMLv2DataModule(\"fdl-sdoml-v2/sdomlv2_hmi_small.zarr/\", channel=\"Bx\", batch_size=16).train_dataloader()"
   ]
  },
  {
   "cell_type": "code",
   "execution_count": null,
   "id": "3cbd8d7b",
   "metadata": {},
   "outputs": [],
   "source": [
    "for batch_idx, samples in enumerate(loader):\n",
    "    X, y = samples\n",
    "    V = []\n",
    "    for x in X:\n",
    "        x = x.permute(1,2,0) # torch to pillow\n",
    "        x = np.squeeze(x.numpy())\n",
    "        v = vis(x, channel_to_map(\"Bx\"), get_clip(x, \"Bx\"))\n",
    "        V.append(Image.fromarray(v))\n",
    "    show_grid(V)\n",
    "    break"
   ]
  },
  {
   "cell_type": "code",
   "execution_count": null,
   "id": "3a7b33a1",
   "metadata": {},
   "outputs": [],
   "source": []
  }
 ],
 "metadata": {
  "kernelspec": {
   "display_name": "sdo-cli",
   "language": "python",
   "name": "sdo-cli"
  },
  "language_info": {
   "codemirror_mode": {
    "name": "ipython",
    "version": 3
   },
   "file_extension": ".py",
   "mimetype": "text/x-python",
   "name": "python",
   "nbconvert_exporter": "python",
   "pygments_lexer": "ipython3",
   "version": "3.9.13"
  }
 },
 "nbformat": 4,
 "nbformat_minor": 5
}
