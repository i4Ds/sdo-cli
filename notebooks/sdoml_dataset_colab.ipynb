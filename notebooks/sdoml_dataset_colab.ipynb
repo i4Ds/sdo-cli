{
 "cells": [
  {
   "cell_type": "markdown",
   "id": "C1QdNWGH30ga",
   "metadata": {
    "id": "C1QdNWGH30ga"
   },
   "source": [
    "# SDO Machine Learning (SDO ML) Dataset\n",
    "\n",
    "In this notebook we demonstrate the process for interacting with a small sample of the SDO ML dataset."
   ]
  },
  {
   "cell_type": "markdown",
   "id": "3Dsap7YC30ge",
   "metadata": {
    "id": "3Dsap7YC30ge"
   },
   "source": [
    "*Meng Jin, Mark Cheung, & Paul Wright*"
   ]
  },
  {
   "cell_type": "markdown",
   "id": "vTNRN73m30ge",
   "metadata": {
    "id": "vTNRN73m30ge"
   },
   "source": [
    "---"
   ]
  },
  {
   "cell_type": "markdown",
   "id": "QzPKmLuL30gf",
   "metadata": {
    "id": "QzPKmLuL30gf"
   },
   "source": [
    "## Introduction"
   ]
  },
  {
   "cell_type": "markdown",
   "id": "CwkB_JVc30gf",
   "metadata": {
    "id": "CwkB_JVc30gf"
   },
   "source": [
    "### SDO Overview\n",
    "\n",
    "Since its launch in 2010, NASA’s Solar Dynamics Observatory (SDO; ([Pesnell et al. 2012](https://ui.adsabs.harvard.edu/abs/2012SoPh..275....3P/abstract)) has continuously monitored Sun's activity, delivering a wealth of valuable scientific data for heliophysics researchers with the use of three instruments:\n",
    "\n",
    "1. The Atmospheric Imaging Assembly (AIA; [Lemen et al. 2012](https://ui.adsabs.harvard.edu/abs/2012SoPh..275...17L/abstract)), which captures 4096 x 4096 resolution images (with 0.6 arcsecond pixel size) of the full Sun in two ultraviolet (centered at 1600, and 1700 Å), seven extreme ultraviolet (EUV; centered at 94, 131, 171, 193, 211, 304, and 335 Å), and one visible (centered at 4500 Å) wavelength band.\n",
    "\n",
    "\n",
    "2. The Helioseismic and Magnetic Imager (HMI; [Schou et al. 2012](https://ui.adsabs.harvard.edu/abs/2012SoPh..275..229S/abstract)) captures visible wavelength filtergrams of the full Sun at 4096 x 4096 resolution (a pixel size of 0.5 arcsecond), which are then processed into a number of data products, including photospheric Dopplergrams, line-of-sight magnetograms, and vector magnetograms ([Hoeksema et al. 2014](https://ui.adsabs.harvard.edu/abs/2014SoPh..289.3483H/abstract)).\n",
    "\n",
    "\n",
    "3. The EUV Variability Experiment (EVE; [Woods et al. 2012](https://ui.adsabs.harvard.edu/abs/2012SoPh..275..115W/abstract)) monitors the solar EUV spectral irradiance from 1 to 1050 Å. This is done by utilizing multiple EUV Grating Spectrographs (MEGS) that disperse EUV light from the full disk of the Sun and its corona onto a 1024 x 2048 charge coupled device (CCD)."
   ]
  },
  {
   "cell_type": "markdown",
   "id": "_dfn2Phj30gg",
   "metadata": {
    "id": "_dfn2Phj30gg"
   },
   "source": [
    "<img src=\"https://github.com/spaceml-org/helionb-sdoml/blob/main/notebooks/01_sdoml_dataset_2018/spacecraft_detailed.png?raw=1\" width=\"400\">"
   ]
  },
  {
   "cell_type": "markdown",
   "id": "lrntSIJc30gh",
   "metadata": {
    "id": "lrntSIJc30gh"
   },
   "source": [
    "**Figure 1:** The Solar Dynamics Observatory (SDO) spacecraft, shown with the three main instruments (AIA, EVE, and HMI) highlighted. Image courtesy of NASA (https://sdo.gsfc.nasa.gov)."
   ]
  },
  {
   "cell_type": "markdown",
   "id": "Dhwls7SV30gh",
   "metadata": {
    "id": "Dhwls7SV30gh"
   },
   "source": [
    "### The SDO ML Dataset\n",
    "The SDO ML Dataset (covering 2010 - 2018) was originally published as [Galvez et al (2019)](https://ui.adsabs.harvard.edu/abs/2019ApJS..242....7G/abstract), and is hosted on the Stanford Digital Repository in Numpy's compressed array format (.npz). \n",
    "\n",
    "In this notebook, we present an update to the work outlined in Galvez et al (2019), in which the full dataset has been converted to cloud friendly Zarr format. Specifically, SDO/AIA data has been updated to account for a change in calibration after 2019. In addtion to the change in calibration, this updated format includes:\n",
    "\n",
    "1. FITS header/keyword information (such as observation time, and exposure time).\n",
    "\n",
    "2. processes for continually updating the data until the present day."
   ]
  },
  {
   "cell_type": "markdown",
   "id": "ueZYQ4zh30gi",
   "metadata": {
    "id": "ueZYQ4zh30gi"
   },
   "source": [
    "### Who is the SDO ML Dataset for?\n",
    "\n",
    "The sheer volume of structured scientific data recorded by SDO (over 18 PB, and counting) is ideal for a range machine learning tasks (from time-series, to computer vision), as well as more traditional approaches.\n",
    "\n",
    "While the level 1 data are easily accessible, pre-processing these data for scientific analysis often requires  specialized heliophysics (and instrument-specific) knowledge. This may act as an unnecessary hurdle for non-heliophysics machine learning researchers who may wish to experiment with datasets from the physical sciences, but are unaware of domain-specific nuances (e.g., that images must be spatially and temporally adjusted).\n",
    "\n",
    "This notebook demonstrates the process for interacting with a subset of the curated SDO (AIA, HMI, EVE) dataset, that is mission-ready for machine-learning applications. **Our aim is to supply this standardized dataset for heliophysicists who wish to use machine learning in their own research, as well as machine-learning researchers who wish to develop models specialized for the physical sciences.**"
   ]
  },
  {
   "cell_type": "markdown",
   "id": "mPr9KxH530gj",
   "metadata": {
    "id": "mPr9KxH530gj"
   },
   "source": [
    "---"
   ]
  },
  {
   "cell_type": "markdown",
   "id": "wN12n26Q30gj",
   "metadata": {
    "id": "wN12n26Q30gj"
   },
   "source": [
    "## Table of Contents"
   ]
  },
  {
   "cell_type": "markdown",
   "id": "UQqgdYtr30gk",
   "metadata": {
    "id": "UQqgdYtr30gk"
   },
   "source": [
    "The notebook is set out as follows:\n",
    "\n",
    "1. Setting up the notebook\n",
    "2. Reading and loading the data <br>\n",
    "2a. Selecting images based on header information <br>\n",
    "    2b. Selecting a subset of the data based on index <br>\n",
    "    2c. Downsampling the data (resolution)<br>\n",
    "    2d. Downsampling the data (temporally)<br>\n",
    "3. Generating a SunPy map\n",
    "4. Animating AIA data\n",
    "5. Reading and loading HMI data\n",
    "6. Reading and loading EVE data"
   ]
  },
  {
   "cell_type": "markdown",
   "id": "06e3u0qQ30gk",
   "metadata": {
    "id": "06e3u0qQ30gk"
   },
   "source": [
    "## 1. Setting up the notebook"
   ]
  },
  {
   "cell_type": "code",
   "execution_count": 1,
   "id": "QWjqtRTCzsl9",
   "metadata": {
    "id": "QWjqtRTCzsl9"
   },
   "outputs": [
    {
     "name": "stdout",
     "output_type": "stream",
     "text": [
      "zsh:1: no matches found: sunpy[all]\r\n"
     ]
    }
   ],
   "source": [
    "!pip install zarr sunpy[all] gcsfs"
   ]
  },
  {
   "cell_type": "code",
   "execution_count": 1,
   "id": "jaFbHF6Z30gq",
   "metadata": {
    "id": "jaFbHF6Z30gq"
   },
   "outputs": [],
   "source": [
    "%matplotlib inline\n",
    "\n",
    "import gcsfs\n",
    "import zarr\n",
    "import sunpy.map\n",
    "\n",
    "import dask.array as da\n",
    "import numpy as np\n",
    "import matplotlib.pyplot as plt\n",
    "import matplotlib.cm as cm\n",
    "import pandas as pd\n",
    "import sunpy.visualization.colormaps as cm\n",
    "\n",
    "from astropy.time import Time\n",
    "from sunpy.visualization import axis_labels_from_ctype, wcsaxes_compat\n",
    "\n",
    "from matplotlib import animation\n",
    "from IPython.display import HTML"
   ]
  },
  {
   "cell_type": "code",
   "execution_count": 2,
   "id": "XQGn2v6_30gr",
   "metadata": {
    "id": "XQGn2v6_30gr"
   },
   "outputs": [],
   "source": [
    "# this is currently fine for interacting with notebooks from within the project\n",
    "gcs = gcsfs.GCSFileSystem(access=\"read_only\")\n",
    "loc = \"fdl-sdoml-v2/sdomlv2_small.zarr/\"\n",
    "store = gcsfs.GCSMap(loc, gcs=gcs, check=False)"
   ]
  },
  {
   "cell_type": "markdown",
   "id": "pHCnRpFi30gr",
   "metadata": {
    "id": "pHCnRpFi30gr"
   },
   "source": [
    "## 2. Reading and loading the AIA data\n"
   ]
  },
  {
   "cell_type": "markdown",
   "id": "u8yLRK4x30gr",
   "metadata": {
    "id": "u8yLRK4x30gr"
   },
   "source": [
    "The SDO ML dataset is stored in the Zarr format, a format for the storage of chunked, compressed, N-dimensional arrays with Numpy dtype. For an in-depth overview, see https://zarr.readthedocs.io/en/stable/tutorial.html."
   ]
  },
  {
   "cell_type": "code",
   "execution_count": 3,
   "id": "IaWjptjK30gr",
   "metadata": {
    "id": "IaWjptjK30gr"
   },
   "outputs": [],
   "source": [
    "# first, we create a group with the store data located on GCP.\n",
    "root = zarr.group(store)"
   ]
  },
  {
   "cell_type": "code",
   "execution_count": 4,
   "id": "L5sUBFP-30gs",
   "metadata": {
    "id": "L5sUBFP-30gs"
   },
   "outputs": [
    {
     "name": "stdout",
     "output_type": "stream",
     "text": [
      "/\n",
      " └── 2010\n",
      "     ├── 131A (6135, 512, 512) float32\n",
      "     ├── 1600A (6136, 512, 512) float32\n",
      "     ├── 1700A (6135, 512, 512) float32\n",
      "     ├── 171A (6135, 512, 512) float32\n",
      "     ├── 193A (6135, 512, 512) float32\n",
      "     ├── 211A (6136, 512, 512) float32\n",
      "     ├── 304A (6134, 512, 512) float32\n",
      "     ├── 335A (6135, 512, 512) float32\n",
      "     └── 94A (6136, 512, 512) float32\n"
     ]
    }
   ],
   "source": [
    "# Using `root.tree()`, we are able to display the hierarchy (of `loc`).\n",
    "print(root.tree())"
   ]
  },
  {
   "cell_type": "markdown",
   "id": "4rkpT-1q30gs",
   "metadata": {
    "id": "4rkpT-1q30gs"
   },
   "source": [
    "As shown in the tree, the heirachy consists of groups, each shown with their respective shape, and data type. In this example, we will primarily look at the 171 Å channel from 2010. This consists of 6135 512x512 images, stored as float32, and can be accessed as follows:"
   ]
  },
  {
   "cell_type": "code",
   "execution_count": 5,
   "id": "AEKhkUv330gt",
   "metadata": {
    "id": "AEKhkUv330gt"
   },
   "outputs": [],
   "source": [
    "data = root[\"2010\"][\"171A\"]"
   ]
  },
  {
   "cell_type": "markdown",
   "id": "CP-3yVdt30gt",
   "metadata": {
    "id": "CP-3yVdt30gt"
   },
   "source": [
    "We could have alternatively accessed the 2010 data as:\n",
    "\n",
    "```\n",
    "loc = 'fdl-sdoml-v2/sdomlv2_small.zarr/2010'\n",
    "```\n",
    "\n",
    "which becomes increasingly useful in the full dataset (where the heirachy contains years 2010 - present)."
   ]
  },
  {
   "cell_type": "markdown",
   "id": "GOq4PfFF30gt",
   "metadata": {
    "id": "GOq4PfFF30gt"
   },
   "source": [
    "**Loading with Dask**\n",
    "\n",
    "We can then load this data into an array using dask."
   ]
  },
  {
   "cell_type": "code",
   "execution_count": 6,
   "id": "uw-tZXju30gt",
   "metadata": {
    "id": "uw-tZXju30gt"
   },
   "outputs": [
    {
     "data": {
      "text/html": [
       "<table>\n",
       "    <tr>\n",
       "        <td>\n",
       "            <table>\n",
       "                <thead>\n",
       "                    <tr>\n",
       "                        <td> </td>\n",
       "                        <th> Array </th>\n",
       "                        <th> Chunk </th>\n",
       "                    </tr>\n",
       "                </thead>\n",
       "                <tbody>\n",
       "                    \n",
       "                    <tr>\n",
       "                        <th> Bytes </th>\n",
       "                        <td> 5.99 GiB </td>\n",
       "                        <td> 120.00 MiB </td>\n",
       "                    </tr>\n",
       "                    \n",
       "                    <tr>\n",
       "                        <th> Shape </th>\n",
       "                        <td> (6135, 512, 512) </td>\n",
       "                        <td> (120, 512, 512) </td>\n",
       "                    </tr>\n",
       "                    <tr>\n",
       "                        <th> Count </th>\n",
       "                        <td> 53 Tasks </td>\n",
       "                        <td> 52 Chunks </td>\n",
       "                    </tr>\n",
       "                    <tr>\n",
       "                    <th> Type </th>\n",
       "                    <td> float32 </td>\n",
       "                    <td> numpy.ndarray </td>\n",
       "                    </tr>\n",
       "                </tbody>\n",
       "            </table>\n",
       "        </td>\n",
       "        <td>\n",
       "        <svg width=\"168\" height=\"158\" style=\"stroke:rgb(0,0,0);stroke-width:1\" >\n",
       "\n",
       "  <!-- Horizontal lines -->\n",
       "  <line x1=\"10\" y1=\"0\" x2=\"80\" y2=\"70\" style=\"stroke-width:2\" />\n",
       "  <line x1=\"10\" y1=\"37\" x2=\"80\" y2=\"108\" style=\"stroke-width:2\" />\n",
       "\n",
       "  <!-- Vertical lines -->\n",
       "  <line x1=\"10\" y1=\"0\" x2=\"10\" y2=\"37\" style=\"stroke-width:2\" />\n",
       "  <line x1=\"12\" y1=\"2\" x2=\"12\" y2=\"40\" />\n",
       "  <line x1=\"16\" y1=\"6\" x2=\"16\" y2=\"44\" />\n",
       "  <line x1=\"21\" y1=\"11\" x2=\"21\" y2=\"48\" />\n",
       "  <line x1=\"23\" y1=\"13\" x2=\"23\" y2=\"51\" />\n",
       "  <line x1=\"27\" y1=\"17\" x2=\"27\" y2=\"55\" />\n",
       "  <line x1=\"32\" y1=\"22\" x2=\"32\" y2=\"59\" />\n",
       "  <line x1=\"36\" y1=\"26\" x2=\"36\" y2=\"63\" />\n",
       "  <line x1=\"38\" y1=\"28\" x2=\"38\" y2=\"66\" />\n",
       "  <line x1=\"43\" y1=\"33\" x2=\"43\" y2=\"70\" />\n",
       "  <line x1=\"47\" y1=\"37\" x2=\"47\" y2=\"74\" />\n",
       "  <line x1=\"51\" y1=\"41\" x2=\"51\" y2=\"78\" />\n",
       "  <line x1=\"54\" y1=\"44\" x2=\"54\" y2=\"81\" />\n",
       "  <line x1=\"58\" y1=\"48\" x2=\"58\" y2=\"85\" />\n",
       "  <line x1=\"62\" y1=\"52\" x2=\"62\" y2=\"90\" />\n",
       "  <line x1=\"66\" y1=\"56\" x2=\"66\" y2=\"94\" />\n",
       "  <line x1=\"69\" y1=\"59\" x2=\"69\" y2=\"96\" />\n",
       "  <line x1=\"73\" y1=\"63\" x2=\"73\" y2=\"101\" />\n",
       "  <line x1=\"77\" y1=\"67\" x2=\"77\" y2=\"105\" />\n",
       "  <line x1=\"80\" y1=\"70\" x2=\"80\" y2=\"108\" style=\"stroke-width:2\" />\n",
       "\n",
       "  <!-- Colored Rectangle -->\n",
       "  <polygon points=\"10.0,0.0 80.58823529411765,70.58823529411765 80.58823529411765,108.1602978324001 10.0,37.57206253828245\" style=\"fill:#8B4903A0;stroke-width:0\"/>\n",
       "\n",
       "  <!-- Horizontal lines -->\n",
       "  <line x1=\"10\" y1=\"0\" x2=\"47\" y2=\"0\" style=\"stroke-width:2\" />\n",
       "  <line x1=\"12\" y1=\"2\" x2=\"50\" y2=\"2\" />\n",
       "  <line x1=\"16\" y1=\"6\" x2=\"54\" y2=\"6\" />\n",
       "  <line x1=\"21\" y1=\"11\" x2=\"58\" y2=\"11\" />\n",
       "  <line x1=\"23\" y1=\"13\" x2=\"61\" y2=\"13\" />\n",
       "  <line x1=\"27\" y1=\"17\" x2=\"65\" y2=\"17\" />\n",
       "  <line x1=\"32\" y1=\"22\" x2=\"69\" y2=\"22\" />\n",
       "  <line x1=\"36\" y1=\"26\" x2=\"73\" y2=\"26\" />\n",
       "  <line x1=\"38\" y1=\"28\" x2=\"76\" y2=\"28\" />\n",
       "  <line x1=\"43\" y1=\"33\" x2=\"80\" y2=\"33\" />\n",
       "  <line x1=\"47\" y1=\"37\" x2=\"84\" y2=\"37\" />\n",
       "  <line x1=\"51\" y1=\"41\" x2=\"88\" y2=\"41\" />\n",
       "  <line x1=\"54\" y1=\"44\" x2=\"91\" y2=\"44\" />\n",
       "  <line x1=\"58\" y1=\"48\" x2=\"95\" y2=\"48\" />\n",
       "  <line x1=\"62\" y1=\"52\" x2=\"100\" y2=\"52\" />\n",
       "  <line x1=\"66\" y1=\"56\" x2=\"104\" y2=\"56\" />\n",
       "  <line x1=\"69\" y1=\"59\" x2=\"106\" y2=\"59\" />\n",
       "  <line x1=\"73\" y1=\"63\" x2=\"111\" y2=\"63\" />\n",
       "  <line x1=\"77\" y1=\"67\" x2=\"115\" y2=\"67\" />\n",
       "  <line x1=\"80\" y1=\"70\" x2=\"118\" y2=\"70\" style=\"stroke-width:2\" />\n",
       "\n",
       "  <!-- Vertical lines -->\n",
       "  <line x1=\"10\" y1=\"0\" x2=\"80\" y2=\"70\" style=\"stroke-width:2\" />\n",
       "  <line x1=\"47\" y1=\"0\" x2=\"118\" y2=\"70\" style=\"stroke-width:2\" />\n",
       "\n",
       "  <!-- Colored Rectangle -->\n",
       "  <polygon points=\"10.0,0.0 47.57206253828245,0.0 118.1602978324001,70.58823529411765 80.58823529411765,70.58823529411765\" style=\"fill:#8B4903A0;stroke-width:0\"/>\n",
       "\n",
       "  <!-- Horizontal lines -->\n",
       "  <line x1=\"80\" y1=\"70\" x2=\"118\" y2=\"70\" style=\"stroke-width:2\" />\n",
       "  <line x1=\"80\" y1=\"108\" x2=\"118\" y2=\"108\" style=\"stroke-width:2\" />\n",
       "\n",
       "  <!-- Vertical lines -->\n",
       "  <line x1=\"80\" y1=\"70\" x2=\"80\" y2=\"108\" style=\"stroke-width:2\" />\n",
       "  <line x1=\"118\" y1=\"70\" x2=\"118\" y2=\"108\" style=\"stroke-width:2\" />\n",
       "\n",
       "  <!-- Colored Rectangle -->\n",
       "  <polygon points=\"80.58823529411765,70.58823529411765 118.1602978324001,70.58823529411765 118.1602978324001,108.1602978324001 80.58823529411765,108.1602978324001\" style=\"fill:#ECB172A0;stroke-width:0\"/>\n",
       "\n",
       "  <!-- Text -->\n",
       "  <text x=\"99.374267\" y=\"128.160298\" font-size=\"1.0rem\" font-weight=\"100\" text-anchor=\"middle\" >512</text>\n",
       "  <text x=\"138.160298\" y=\"89.374267\" font-size=\"1.0rem\" font-weight=\"100\" text-anchor=\"middle\" transform=\"rotate(-90,138.160298,89.374267)\">512</text>\n",
       "  <text x=\"35.294118\" y=\"92.866180\" font-size=\"1.0rem\" font-weight=\"100\" text-anchor=\"middle\" transform=\"rotate(45,35.294118,92.866180)\">6135</text>\n",
       "</svg>\n",
       "        </td>\n",
       "    </tr>\n",
       "</table>"
      ],
      "text/plain": [
       "dask.array<array, shape=(6135, 512, 512), dtype=float32, chunksize=(120, 512, 512), chunktype=numpy.ndarray>"
      ]
     },
     "execution_count": 6,
     "metadata": {},
     "output_type": "execute_result"
    }
   ],
   "source": [
    "all_image = da.from_array(data)\n",
    "all_image"
   ]
  },
  {
   "cell_type": "markdown",
   "id": "39fny1di30gt",
   "metadata": {
    "id": "39fny1di30gt"
   },
   "source": [
    "As shown above, the data has the shape (6135, 512, 512), and is split into 52 chunks of (120, 512, 512), each of 125.83 MB; this is further visualised on the right. The data is now in a form to be manipulated like a Numpy array.\n",
    "\n",
    "We can load and display one image now:"
   ]
  },
  {
   "cell_type": "code",
   "execution_count": null,
   "id": "67co7JRT30gu",
   "metadata": {
    "id": "67co7JRT30gu"
   },
   "outputs": [],
   "source": [
    "image=all_image[6000,:,:]\n",
    "plt.figure(figsize=(10,10))\n",
    "colormap = plt.get_cmap('sdoaia171')\n",
    "plt.imshow(image,origin='lower',vmin=10,vmax=1000,cmap=colormap)"
   ]
  },
  {
   "cell_type": "markdown",
   "id": "nfMrsRiQ30gu",
   "metadata": {
    "id": "nfMrsRiQ30gu"
   },
   "source": [
    "Depending on the use-case, we may wish to extract a subset of this data in various ways. In the following sections we step through a number of potential operations that we may wish to make with the data."
   ]
  },
  {
   "cell_type": "markdown",
   "id": "9NCHr5-930gu",
   "metadata": {
    "id": "9NCHr5-930gu"
   },
   "source": [
    "### 2a. Selecting images based on header information"
   ]
  },
  {
   "cell_type": "markdown",
   "id": "gLRnFQv930gu",
   "metadata": {
    "id": "gLRnFQv930gu"
   },
   "source": [
    "The new data includes all fits header information with the same keywords. To find out the AIA keyword definition, one can refer to the following online document: \n",
    "http://jsoc.stanford.edu/~jsoc/keywords/AIA/AIA02840_K_AIA-SDO_FITS_Keyword_Document.pdf \n",
    "\n",
    "And one can list all the AIA keywords included:"
   ]
  },
  {
   "cell_type": "code",
   "execution_count": null,
   "id": "Mi9WkhZr30gu",
   "metadata": {
    "id": "Mi9WkhZr30gu"
   },
   "outputs": [],
   "source": [
    "sorted(data.attrs)"
   ]
  },
  {
   "cell_type": "markdown",
   "id": "pCxxPVNz30gu",
   "metadata": {
    "id": "pCxxPVNz30gu"
   },
   "source": [
    "We can extract the exposure (and observation) time from the data attributes (the header information), and downsample our data based upon that information."
   ]
  },
  {
   "cell_type": "code",
   "execution_count": null,
   "id": "4bgxwZZv30gu",
   "metadata": {
    "id": "4bgxwZZv30gu"
   },
   "outputs": [],
   "source": [
    "exptime = np.array(data.attrs[\"EXPTIME\"])\n",
    "t_obs = np.array(data.attrs[\"T_OBS\"])"
   ]
  },
  {
   "cell_type": "code",
   "execution_count": null,
   "id": "UK7mewfd30gv",
   "metadata": {
    "id": "UK7mewfd30gv"
   },
   "outputs": [],
   "source": [
    "plt.plot(exptime)"
   ]
  },
  {
   "cell_type": "code",
   "execution_count": null,
   "id": "GCgkSO8j30gv",
   "metadata": {
    "id": "GCgkSO8j30gv"
   },
   "outputs": [],
   "source": [
    "# select indices where the exposure time is less than 2 seconds\n",
    "index = np.where(exptime < 2.0)\n",
    "selected_images = da.from_array(data)[index[0], :, :]"
   ]
  },
  {
   "cell_type": "code",
   "execution_count": null,
   "id": "1f5JmUaN30gv",
   "metadata": {
    "id": "1f5JmUaN30gv"
   },
   "outputs": [],
   "source": [
    "selected_images"
   ]
  },
  {
   "cell_type": "markdown",
   "id": "p8nxNvye30gv",
   "metadata": {
    "id": "p8nxNvye30gv"
   },
   "source": [
    "### 2b. Selecting images based on indices"
   ]
  },
  {
   "cell_type": "markdown",
   "id": "Xf5x4ocU30gv",
   "metadata": {
    "id": "Xf5x4ocU30gv"
   },
   "source": [
    "While the data is not currently ordered by observation time, we can simple index the array to extract a number of observations"
   ]
  },
  {
   "cell_type": "code",
   "execution_count": null,
   "id": "aG9u9fol30gv",
   "metadata": {
    "id": "aG9u9fol30gv"
   },
   "outputs": [],
   "source": [
    "# select a subset of the data based on index\n",
    "selected_images = da.from_array(data)[100:200, :, :]\n",
    "selected_header = {keys: values[100:200] for keys, values in data.attrs.items()}\n",
    "\n",
    "# and even compute the mean of the selected images\n",
    "print(f\"mean of selected images: {da.mean(selected_images).compute():.2f}\")"
   ]
  },
  {
   "cell_type": "code",
   "execution_count": null,
   "id": "6VePACQK30gw",
   "metadata": {
    "id": "6VePACQK30gw"
   },
   "outputs": [],
   "source": [
    "selected_images"
   ]
  },
  {
   "cell_type": "markdown",
   "id": "_dSPjfYe30gw",
   "metadata": {
    "id": "_dSPjfYe30gw"
   },
   "source": [
    "### 2c. Downsampling the data (resolution)"
   ]
  },
  {
   "cell_type": "markdown",
   "id": "LlYoMytG30gw",
   "metadata": {
    "id": "LlYoMytG30gw"
   },
   "source": [
    "Downsample the 512x512 images to 256x256"
   ]
  },
  {
   "cell_type": "code",
   "execution_count": null,
   "id": "9JUtmwTn30gw",
   "metadata": {
    "id": "9JUtmwTn30gw"
   },
   "outputs": [],
   "source": [
    "# downsample the data to 256 by sampling every other pixel\n",
    "sub_index = np.arange(0, 512, 2)\n",
    "\n",
    "sub_image = da.from_array(data)[0:600, sub_index, :]\n",
    "sub_image = sub_image[:, :, sub_index]\n",
    "# is this becuase dask doesn't support nd fancy indexing?\n",
    "\n",
    "print(f\"mean of selected images: {da.mean(sub_image).compute():.2f}\")"
   ]
  },
  {
   "cell_type": "code",
   "execution_count": null,
   "id": "32hRZOKH30gw",
   "metadata": {
    "id": "32hRZOKH30gw"
   },
   "outputs": [],
   "source": [
    "sub_image"
   ]
  },
  {
   "cell_type": "markdown",
   "id": "6oLPymD_30gw",
   "metadata": {
    "id": "6oLPymD_30gw"
   },
   "source": [
    "### 2d. Downsampling the data (temporally)"
   ]
  },
  {
   "cell_type": "markdown",
   "id": "Rt7HPIPV30gx",
   "metadata": {
    "id": "Rt7HPIPV30gx"
   },
   "source": [
    "We can use pandas to downstample the data within a time-range. Here, we choose 1 day of observations at 12 minute frequency"
   ]
  },
  {
   "cell_type": "code",
   "execution_count": null,
   "id": "KrNjtNOx30gx",
   "metadata": {
    "id": "KrNjtNOx30gx"
   },
   "outputs": [],
   "source": [
    "df_time = pd.DataFrame(t_obs, index=np.arange(np.shape(t_obs)[0]), columns=[\"Time\"])\n",
    "df_time[\"Time\"] = pd.to_datetime(df_time[\"Time\"])\n",
    "\n",
    "# select times at a frequency of 12 minutes\n",
    "selected_times = pd.date_range(\n",
    "    start=\"2010-08-28 00:00:00\", end=\"2010-08-28 23:59:59\", freq=\"12T\", tz=\"UTC\"\n",
    ")"
   ]
  },
  {
   "cell_type": "code",
   "execution_count": null,
   "id": "szM-eUrk30gx",
   "metadata": {
    "id": "szM-eUrk30gx"
   },
   "outputs": [],
   "source": [
    "selected_index = []\n",
    "for i in selected_times:\n",
    "    selected_index.append(np.argmin(abs(df_time[\"Time\"] - i)))\n",
    "# may be a more efficient way of doing this\n",
    "time_index = list(filter(lambda x: x > 0, selected_index))\n",
    "da.from_array(data)[time_index, :, :]"
   ]
  },
  {
   "cell_type": "markdown",
   "id": "I-DT3Hrj30gx",
   "metadata": {
    "id": "I-DT3Hrj30gx"
   },
   "source": [
    "## 3. Generating a SunPy Map"
   ]
  },
  {
   "cell_type": "markdown",
   "id": "qmh6Io_730gx",
   "metadata": {
    "id": "qmh6Io_730gx"
   },
   "source": [
    "SunPy is an open-source Python library for Solar Physics data analysis and visualization. \n",
    "\n",
    "In this section we will demonstrate how SunPy’s [Map](https://docs.sunpy.org/en/stable/api/sunpy.map.Map.html#sunpy.map.Map) with the Zarr-formatted data. We demonstrate this for a single index."
   ]
  },
  {
   "cell_type": "code",
   "execution_count": null,
   "id": "CLSbUjXC30gx",
   "metadata": {
    "id": "CLSbUjXC30gx"
   },
   "outputs": [],
   "source": [
    "# specify an image index\n",
    "img_index = time_index[-1]"
   ]
  },
  {
   "cell_type": "code",
   "execution_count": null,
   "id": "Gaj_LVsW30gx",
   "metadata": {
    "id": "Gaj_LVsW30gx"
   },
   "outputs": [],
   "source": [
    "# select the respective image, and header required for sunpy.map.Map()\n",
    "selected_image = da.from_array(data)[img_index, :, :]\n",
    "selected_headr = {keys: values[img_index] for keys, values in data.attrs.items()}"
   ]
  },
  {
   "cell_type": "code",
   "execution_count": null,
   "id": "X28jmtbg30gx",
   "metadata": {
    "id": "X28jmtbg30gx"
   },
   "outputs": [],
   "source": [
    "my_map = sunpy.map.Map((np.array(selected_image), selected_headr))"
   ]
  },
  {
   "cell_type": "code",
   "execution_count": null,
   "id": "YWpfJrQr30gy",
   "metadata": {
    "id": "YWpfJrQr30gy"
   },
   "outputs": [],
   "source": [
    "plt.figure(figsize=(7, 7))\n",
    "ax = plt.subplot(projection=my_map)\n",
    "my_map.plot()"
   ]
  },
  {
   "cell_type": "markdown",
   "id": "Mtc9Z9kz30gy",
   "metadata": {
    "id": "Mtc9Z9kz30gy"
   },
   "source": [
    "As this is then a SunPy Map object, we can manipulate it as such."
   ]
  },
  {
   "cell_type": "code",
   "execution_count": null,
   "id": "3qw7pUhL30gy",
   "metadata": {
    "id": "3qw7pUhL30gy"
   },
   "outputs": [],
   "source": [
    "my_map"
   ]
  },
  {
   "cell_type": "markdown",
   "id": "ygreYJqx30gy",
   "metadata": {
    "id": "ygreYJqx30gy"
   },
   "source": [
    "For more information about SunPy, and Map, see the SunPy project: https://readthedocs.org/projects/sunpy/"
   ]
  },
  {
   "cell_type": "markdown",
   "id": "dvlyGtJH30gy",
   "metadata": {
    "id": "dvlyGtJH30gy"
   },
   "source": [
    "## 4. Generating an AIA animation"
   ]
  },
  {
   "cell_type": "code",
   "execution_count": null,
   "id": "BzDlpSNm30gy",
   "metadata": {
    "id": "BzDlpSNm30gy"
   },
   "outputs": [],
   "source": [
    "maps = []\n",
    "\n",
    "for i in time_index:\n",
    "    selected_image = da.from_array(data)[i, :, :]\n",
    "    selected_headr = {keys: values[i] for keys, values in data.attrs.items()}\n",
    "    maps.append(sunpy.map.Map((np.array(selected_image), selected_headr)))\n",
    "\n",
    "sq = sunpy.map.Map(maps, sequence=True, sortby=\"date\")"
   ]
  },
  {
   "cell_type": "code",
   "execution_count": null,
   "id": "Rfo9od9W30gz",
   "metadata": {
    "id": "Rfo9od9W30gz"
   },
   "outputs": [],
   "source": [
    "def animate_sequence(sequence, vmin = None, vmax = None):\n",
    "    \"\"\"\n",
    "    An animation plotting routine to animate each element in MapSequence\n",
    "\n",
    "    Parameters\n",
    "    ----------\n",
    "    sequence : `sunpy.map.mapsequence.MapSequence`\n",
    "        a set of sunpy maps to animate\n",
    "\n",
    "    Returns\n",
    "    -------\n",
    "    `matplotlib.animation.FuncAnimation`\n",
    "        A FuncAnimation instance.\n",
    "    \"\"\"\n",
    "\n",
    "    # fig, ax = plt.subplots(figsize=(7,7),\n",
    "    #                       subplot_kw=dict(projection=sequence[0].wcs)\n",
    "    #                      )\n",
    "\n",
    "    ax = wcsaxes_compat.gca_wcs(sequence[0].wcs)\n",
    "    fig = ax.get_figure()\n",
    "    fig.figsize = (7, 7)\n",
    "\n",
    "    plot_obj = sequence[0].plot(vmin = vmin, vmax = vmax)\n",
    "    ax.set_title(sequence[0].latex_name)\n",
    "\n",
    "    cbar = plt.colorbar()\n",
    "\n",
    "    def update_fig(i):\n",
    "        ax.set_title(sequence[i].latex_name)\n",
    "\n",
    "        # set the data to that of the image being plot\n",
    "        # Each image should be scaled as the first.\n",
    "        plot_obj.set_data(sequence[i].data)\n",
    "\n",
    "        # reset the WCS to that of the image being plot\n",
    "        plot_obj.axes.reset_wcs(sequence[i].wcs)\n",
    "\n",
    "        wcsaxes_compat.default_wcs_grid(ax)\n",
    "        ax.set_xlabel(\n",
    "            axis_labels_from_ctype(\n",
    "                sequence[i].coordinate_system[0], sequence[i].spatial_units[0]\n",
    "            )\n",
    "        )\n",
    "        ax.set_ylabel(\n",
    "            axis_labels_from_ctype(\n",
    "                sequence[i].coordinate_system[1], sequence[i].spatial_units[1]\n",
    "            )\n",
    "        )\n",
    "\n",
    "        # basic test:\n",
    "        # expect the wcs of the plot_obj to follow the sequence\n",
    "        # print(sequence[i].wcs == plot_obj.axes.wcs, sequence[0].wcs == sequence[i].wcs)\n",
    "        return (plot_obj,)\n",
    "\n",
    "    anim = animation.FuncAnimation(\n",
    "        fig, update_fig, init_func=None, frames=len(sequence), interval=60, repeat=True\n",
    "    )\n",
    "    plt.close(fig)\n",
    "\n",
    "    return anim"
   ]
  },
  {
   "cell_type": "code",
   "execution_count": null,
   "id": "dKTP__Uh30gz",
   "metadata": {
    "id": "dKTP__Uh30gz"
   },
   "outputs": [],
   "source": [
    "anim = animate_sequence(sq)\n",
    "HTML(anim.to_jshtml())"
   ]
  },
  {
   "cell_type": "markdown",
   "id": "DV2bujqc30gz",
   "metadata": {
    "id": "DV2bujqc30gz"
   },
   "source": [
    "## 5. Reading and loading HMI data"
   ]
  },
  {
   "cell_type": "markdown",
   "id": "-e7JJPQT30gz",
   "metadata": {
    "id": "-e7JJPQT30gz"
   },
   "source": [
    "Now, we demonstrste how to read the HMI data within the SDOML dataset. In general, the HMI data structure is very similar to the AIA data. Instead of 9 AIA channels, for each time step, HMI has 3 channels that represent the 3 component of the vector magnetic field (i.e., Bx, By, and Bz). Using the same method described in section 2, we can load the HMI data in 2010:"
   ]
  },
  {
   "cell_type": "code",
   "execution_count": null,
   "id": "Os-PH8IY30gz",
   "metadata": {
    "id": "Os-PH8IY30gz"
   },
   "outputs": [],
   "source": [
    "loc_hmi = \"fdl-sdoml-v2/sdomlv2_hmi.zarr/2010\"\n",
    "store = gcsfs.GCSMap(loc_hmi, gcs=gcs, check=False)\n",
    "root = zarr.group(store)\n",
    "print(root.tree())"
   ]
  },
  {
   "cell_type": "markdown",
   "id": "lO_D6eA830gz",
   "metadata": {
    "id": "lO_D6eA830gz"
   },
   "source": [
    "Same as AIA data, the new HMI data also includes all fits header information with the same keywords. To find out the HMI keyword definition, one can refer to the following online document:\n",
    "http://jsoc.stanford.edu/doc/keywords/JSOC_Keywords_for_metadata.pdf\n",
    "\n",
    "And one can list all the HMI keywords included:"
   ]
  },
  {
   "cell_type": "code",
   "execution_count": null,
   "id": "Ojs8qyJ_30gz",
   "metadata": {
    "id": "Ojs8qyJ_30gz"
   },
   "outputs": [],
   "source": [
    "data = root[\"Bz\"]\n",
    "sorted(data.attrs)"
   ]
  },
  {
   "cell_type": "markdown",
   "id": "54ezje7u30g0",
   "metadata": {
    "id": "54ezje7u30g0"
   },
   "source": [
    "Note that the HMI keywords are slightly different comparing with AIA keywords. For example, there is no exposure time ('EXPTIME') in the HMI metadata. Also, the 'T_OBS' format is a bit different:"
   ]
  },
  {
   "cell_type": "code",
   "execution_count": null,
   "id": "mv0LbDVD30g0",
   "metadata": {
    "id": "mv0LbDVD30g0"
   },
   "outputs": [],
   "source": [
    "t_obs = np.array(data.attrs[\"T_OBS\"])\n",
    "t_obs"
   ]
  },
  {
   "cell_type": "markdown",
   "id": "s6CiVmSI30g0",
   "metadata": {
    "id": "s6CiVmSI30g0"
   },
   "source": [
    "To keep it consistent with the AIA metadata, one can simply convert the time format:"
   ]
  },
  {
   "cell_type": "code",
   "execution_count": null,
   "id": "k83WyMlq30g0",
   "metadata": {
    "id": "k83WyMlq30g0"
   },
   "outputs": [],
   "source": [
    "t_obs_new = []\n",
    "for string in t_obs:\n",
    "    new_string = string.replace('_TAI', 'Z')\n",
    "    new_string = new_string.replace('_','T')\n",
    "    new_string = new_string.replace('.','-')\n",
    "    new_string = new_string.replace('Z', '.00')\n",
    "    t_obs_new.append(new_string)\n",
    "t = Time(t_obs_new, format='isot', scale='tai')\n",
    "t_obs_new=t.value"
   ]
  },
  {
   "cell_type": "markdown",
   "id": "w4laL4fr30g0",
   "metadata": {
    "id": "w4laL4fr30g0"
   },
   "source": [
    "Now we can load a magnetic map using Sunpy Map:"
   ]
  },
  {
   "cell_type": "code",
   "execution_count": null,
   "id": "-TwHnObs5JQG",
   "metadata": {
    "id": "-TwHnObs5JQG"
   },
   "outputs": [],
   "source": [
    "da.from_array(data)[0, :, :]"
   ]
  },
  {
   "cell_type": "code",
   "execution_count": null,
   "id": "5pYhCnCf5gsZ",
   "metadata": {
    "id": "5pYhCnCf5gsZ"
   },
   "outputs": [],
   "source": [
    "selected_headr"
   ]
  },
  {
   "cell_type": "code",
   "execution_count": null,
   "id": "HdWQLzRa30g0",
   "metadata": {
    "id": "HdWQLzRa30g0"
   },
   "outputs": [],
   "source": [
    "selected_image = da.from_array(data)[0, :, :]\n",
    "selected_headr = {keys: values[0] for keys, values in data.attrs.items()}\n",
    "selected_headr['WAVEUNIT'] = 'angstrom'\n",
    "my_map = sunpy.map.Map((np.array(selected_image), selected_headr))\n",
    "my_map"
   ]
  },
  {
   "cell_type": "markdown",
   "id": "zwbmz9QV30g0",
   "metadata": {
    "id": "zwbmz9QV30g0"
   },
   "source": [
    "We can load a movie of HMI Bz component in the same time range as shown for AIA in the previous section:"
   ]
  },
  {
   "cell_type": "code",
   "execution_count": null,
   "id": "pOENhFnD30g0",
   "metadata": {
    "id": "pOENhFnD30g0"
   },
   "outputs": [],
   "source": [
    "df_time = pd.DataFrame(t_obs_new, index=np.arange(np.shape(t_obs_new)[0]), columns=[\"Time\"])\n",
    "df_time[\"Time\"] = pd.to_datetime(df_time[\"Time\"])\n",
    "\n",
    "# select times at a frequency of 12 minutes\n",
    "selected_times = pd.date_range(\n",
    "    start=\"2010-08-28 00:00:00\", end=\"2010-08-28 23:59:59\", freq=\"12T\")\n",
    "\n",
    "selected_index = []\n",
    "for i in selected_times:\n",
    "    selected_index.append(np.argmin(abs(df_time[\"Time\"] - i)))\n",
    "\n",
    "#mark the missing timestamps in the data\n",
    "missing_index=np.where(abs(df_time['Time'][selected_index]-selected_times)>pd.Timedelta('3m'))[0].tolist()\n",
    "for i in missing_index:\n",
    "    selected_index[i]=-1\n",
    "        \n",
    "# may be a more efficient way of doing this\n",
    "time_index = list(filter(lambda x: x > 0, selected_index))\n",
    "da.from_array(data)[time_index, :, :]"
   ]
  },
  {
   "cell_type": "code",
   "execution_count": null,
   "id": "WbQwF3BE30g1",
   "metadata": {
    "id": "WbQwF3BE30g1"
   },
   "outputs": [],
   "source": [
    "maps = []\n",
    "\n",
    "for i in time_index:\n",
    "    selected_image = da.from_array(data)[i, :, :]\n",
    "    selected_headr = {keys: values[i] for keys, values in data.attrs.items()}\n",
    "    selected_headr['WAVEUNIT'] = 'angstrom'\n",
    "    maps.append(sunpy.map.Map((np.array(selected_image), selected_headr)))\n",
    "\n",
    "sq = sunpy.map.Map(maps, sequence=True, sortby=\"date\")"
   ]
  },
  {
   "cell_type": "code",
   "execution_count": null,
   "id": "WO2RwJ6v30g1",
   "metadata": {
    "id": "WO2RwJ6v30g1",
    "scrolled": true
   },
   "outputs": [],
   "source": [
    "# The plot range can be specified by vmin and vmax\n",
    "anim = animate_sequence(sq, vmin=-20, vmax=20)\n",
    "HTML(anim.to_jshtml())"
   ]
  },
  {
   "cell_type": "markdown",
   "id": "8sdL0W7q30g1",
   "metadata": {
    "id": "8sdL0W7q30g1"
   },
   "source": [
    "## 6. Reading and loading EVE data"
   ]
  },
  {
   "cell_type": "markdown",
   "id": "0iL1hhfL30g1",
   "metadata": {
    "id": "0iL1hhfL30g1"
   },
   "source": [
    "The EVE data is timeseries data in 39 wavelengths from 2010 May 1 to 2014 May 26. The temporal resolution is 1 minute. In this section, we demonstrate how to read and load EVE data."
   ]
  },
  {
   "cell_type": "code",
   "execution_count": null,
   "id": "DVxBAlBN30g1",
   "metadata": {
    "id": "DVxBAlBN30g1"
   },
   "outputs": [],
   "source": [
    "loc_eve = \"fdl-sdoml-v2/sdomlv2_eve.zarr\"\n",
    "store = gcsfs.GCSMap(loc_eve, gcs=gcs, check=False)\n",
    "root = zarr.group(store)\n",
    "print(root.tree())"
   ]
  },
  {
   "cell_type": "markdown",
   "id": "hfzyKr4S30g1",
   "metadata": {
    "id": "hfzyKr4S30g1"
   },
   "source": [
    "As shown in the data structure tree, the ion line names can be identified. For some ions, there are multiple emission lines and the spectral line names end with '_1', '_2' to distinguish them. The details (e.g., ion, wavelength, emission temperature) are included in the metadata, which can be checked similar as AIA and HMI data:"
   ]
  },
  {
   "cell_type": "code",
   "execution_count": null,
   "id": "xPuHTq0I30g1",
   "metadata": {
    "id": "xPuHTq0I30g1"
   },
   "outputs": [],
   "source": [
    "data = root[\"MEGS-A\"][\"Fe XX\"]\n",
    "sorted(data.attrs)"
   ]
  },
  {
   "cell_type": "code",
   "execution_count": null,
   "id": "wmvhmxpS30g1",
   "metadata": {
    "id": "wmvhmxpS30g1"
   },
   "outputs": [],
   "source": [
    "data.attrs['ion'],data.attrs['wavelength'], data.attrs['logT']"
   ]
  },
  {
   "cell_type": "markdown",
   "id": "_nOklhER30g2",
   "metadata": {
    "id": "_nOklhER30g2"
   },
   "source": [
    "In addition, the 'Time' variable contains all timestamps of the data:"
   ]
  },
  {
   "cell_type": "code",
   "execution_count": null,
   "id": "Y-UxiMwZ30g2",
   "metadata": {
    "id": "Y-UxiMwZ30g2"
   },
   "outputs": [],
   "source": [
    "time = root['MEGS-A']['Time']\n",
    "time[0:10]"
   ]
  },
  {
   "cell_type": "markdown",
   "id": "kwmVnHVI30g2",
   "metadata": {
    "id": "kwmVnHVI30g2"
   },
   "source": [
    "We can plot the spectral line timeseries data:"
   ]
  },
  {
   "cell_type": "code",
   "execution_count": null,
   "id": "u8sdGoA030g2",
   "metadata": {
    "id": "u8sdGoA030g2"
   },
   "outputs": [],
   "source": [
    "df = pd.Series(data,index=pd.to_datetime(time))\n",
    "ax = df.plot(ylim=(0,2.e-4),figsize=(20,10),fontsize=20)\n",
    "ax.set_title(str(data.attrs['ion'])+' '+str(data.attrs['wavelength'])+' LogT = '+str(data.attrs['logT']),fontsize=20)\n",
    "ax.set_xlabel(\"Time\",fontsize=20)\n",
    "ax.set_ylabel(\"Intensity [W/m^2]\",fontsize=20)"
   ]
  },
  {
   "cell_type": "markdown",
   "id": "HBSb6FFH30g2",
   "metadata": {
    "id": "HBSb6FFH30g2"
   },
   "source": [
    "----"
   ]
  },
  {
   "cell_type": "markdown",
   "id": "fMk-BmkT30g2",
   "metadata": {
    "id": "fMk-BmkT30g2"
   },
   "source": [
    "This project was conducted during the 2018 NASA Frontier Development Lab (FDL) program, a public/private partnership between NASA and SETI and industry partners including NVIDIA Corporation, Lockheed Martin, and IBM. The authors thank IBM (especially Naeem Altaf) for generously providing computing resources on the IBM Cloud."
   ]
  }
 ],
 "metadata": {
  "colab": {
   "collapsed_sections": [],
   "name": "sdoml_dataset_colab.ipynb",
   "provenance": []
  },
  "kernelspec": {
   "display_name": "sdo-cli",
   "language": "python",
   "name": "sdo-cli"
  },
  "language_info": {
   "codemirror_mode": {
    "name": "ipython",
    "version": 3
   },
   "file_extension": ".py",
   "mimetype": "text/x-python",
   "name": "python",
   "nbconvert_exporter": "python",
   "pygments_lexer": "ipython3",
   "version": "3.9.13"
  }
 },
 "nbformat": 4,
 "nbformat_minor": 5
}
