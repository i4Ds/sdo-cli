{
 "cells": [
  {
   "cell_type": "code",
   "execution_count": 1,
   "metadata": {},
   "outputs": [],
   "source": [
    "import matplotlib.pyplot as plt\n",
    "import numpy as np\n",
    "\n",
    "from sunpy import timeseries as ts\n",
    "from sunpy.net import Fido\n",
    "from sunpy.net import attrs as a"
   ]
  },
  {
   "cell_type": "code",
   "execution_count": 2,
   "metadata": {},
   "outputs": [
    {
     "name": "stdout",
     "output_type": "stream",
     "text": [
      "Results from 1 Provider:\n",
      "\n",
      "1265 Results from the XRSClient:\n",
      "       Start Time               End Time        Instrument ... Source Provider\n",
      "----------------------- ----------------------- ---------- ... ------ --------\n",
      "2018-01-01 00:00:00.000 2018-01-01 23:59:59.999        XRS ...   GOES     NOAA\n",
      "2018-01-02 00:00:00.000 2018-01-02 23:59:59.999        XRS ...   GOES     NOAA\n",
      "2018-01-03 00:00:00.000 2018-01-03 23:59:59.999        XRS ...   GOES     NOAA\n",
      "2018-01-04 00:00:00.000 2018-01-04 23:59:59.999        XRS ...   GOES     NOAA\n",
      "2018-01-05 00:00:00.000 2018-01-05 23:59:59.999        XRS ...   GOES     NOAA\n",
      "2018-01-06 00:00:00.000 2018-01-06 23:59:59.999        XRS ...   GOES     NOAA\n",
      "2018-01-07 00:00:00.000 2018-01-07 23:59:59.999        XRS ...   GOES     NOAA\n",
      "2018-01-08 00:00:00.000 2018-01-08 23:59:59.999        XRS ...   GOES     NOAA\n",
      "2018-01-09 00:00:00.000 2018-01-09 23:59:59.999        XRS ...   GOES     NOAA\n",
      "2018-01-10 00:00:00.000 2018-01-10 23:59:59.999        XRS ...   GOES     NOAA\n",
      "                    ...                     ...        ... ...    ...      ...\n",
      "2018-12-21 00:00:00.000 2018-12-21 23:59:59.999        XRS ...   GOES     NOAA\n",
      "2018-12-22 00:00:00.000 2018-12-22 23:59:59.999        XRS ...   GOES     NOAA\n",
      "2018-12-23 00:00:00.000 2018-12-23 23:59:59.999        XRS ...   GOES     NOAA\n",
      "2018-12-24 00:00:00.000 2018-12-24 23:59:59.999        XRS ...   GOES     NOAA\n",
      "2018-12-25 00:00:00.000 2018-12-25 23:59:59.999        XRS ...   GOES     NOAA\n",
      "2018-12-26 00:00:00.000 2018-12-26 23:59:59.999        XRS ...   GOES     NOAA\n",
      "2018-12-27 00:00:00.000 2018-12-27 23:59:59.999        XRS ...   GOES     NOAA\n",
      "2018-12-28 00:00:00.000 2018-12-28 23:59:59.999        XRS ...   GOES     NOAA\n",
      "2018-12-29 00:00:00.000 2018-12-29 23:59:59.999        XRS ...   GOES     NOAA\n",
      "2018-12-30 00:00:00.000 2018-12-30 23:59:59.999        XRS ...   GOES     NOAA\n",
      "2018-12-31 00:00:00.000 2018-12-31 23:59:59.999        XRS ...   GOES     NOAA\n",
      "Length = 1265 rows\n",
      "\n",
      "\n"
     ]
    },
    {
     "name": "stderr",
     "output_type": "stream",
     "text": [
      "/Users/mariusgiger/repos/master/sdo-cli/.venv/lib/python3.8/site-packages/astropy/table/table.py:3197: FutureWarning: elementwise == comparison failed and returning scalar instead; this will raise an error or perform elementwise comparison in the future.\n",
      "  result = self.as_array() == other\n"
     ]
    }
   ],
   "source": [
    "tstart = \"2018-01-01 00:00\"\n",
    "tend = \"2018-12-31 23:59\"\n",
    "result = Fido.search(a.Time(tstart, tend), a.Instrument(\"XRS\"))\n",
    "print(result)"
   ]
  },
  {
   "cell_type": "code",
   "execution_count": 3,
   "metadata": {},
   "outputs": [
    {
     "data": {
      "application/vnd.jupyter.widget-view+json": {
       "model_id": "cad994e03cc04495a957e25de929d806",
       "version_major": 2,
       "version_minor": 0
      },
      "text/plain": [
       "Files Downloaded:   0%|          | 0/1265 [00:00<?, ?file/s]"
      ]
     },
     "metadata": {},
     "output_type": "display_data"
    },
    {
     "data": {
      "application/vnd.jupyter.widget-view+json": {
       "model_id": "aade8e17a29c468dbc808116ee31395f",
       "version_major": 2,
       "version_minor": 0
      },
      "text/plain": [
       "sci_xrsf-l2-flx1s_g16_d20180102_v2-1-0.nc:   0%|          | 0.00/5.01M [00:00<?, ?B/s]"
      ]
     },
     "metadata": {},
     "output_type": "display_data"
    },
    {
     "data": {
      "application/vnd.jupyter.widget-view+json": {
       "model_id": "911c076bc5d04c16ae7676bb13f3a3c3",
       "version_major": 2,
       "version_minor": 0
      },
      "text/plain": [
       "sci_xrsf-l2-flx1s_g16_d20180101_v2-1-0.nc:   0%|          | 0.00/1.76M [00:00<?, ?B/s]"
      ]
     },
     "metadata": {},
     "output_type": "display_data"
    },
    {
     "data": {
      "application/vnd.jupyter.widget-view+json": {
       "model_id": "0ab988fb3e5244cabfb9644b9d0446a5",
       "version_major": 2,
       "version_minor": 0
      },
      "text/plain": [
       "sci_xrsf-l2-flx1s_g16_d20180104_v2-1-0.nc:   0%|          | 0.00/5.01M [00:00<?, ?B/s]"
      ]
     },
     "metadata": {},
     "output_type": "display_data"
    },
    {
     "data": {
      "application/vnd.jupyter.widget-view+json": {
       "model_id": "798e5f07720146d5b9820a2923f509c7",
       "version_major": 2,
       "version_minor": 0
      },
      "text/plain": [
       "sci_xrsf-l2-flx1s_g16_d20180103_v2-1-0.nc:   0%|          | 0.00/5.02M [00:00<?, ?B/s]"
      ]
     },
     "metadata": {},
     "output_type": "display_data"
    },
    {
     "data": {
      "application/vnd.jupyter.widget-view+json": {
       "model_id": "6f9331b8a0a5418da4e93e64f3e9cf71",
       "version_major": 2,
       "version_minor": 0
      },
      "text/plain": [
       "sci_xrsf-l2-flx1s_g16_d20180105_v2-1-0.nc:   0%|          | 0.00/5.01M [00:00<?, ?B/s]"
      ]
     },
     "metadata": {},
     "output_type": "display_data"
    },
    {
     "data": {
      "application/vnd.jupyter.widget-view+json": {
       "model_id": "095a5e7e11a04dabb545ee7ce651313b",
       "version_major": 2,
       "version_minor": 0
      },
      "text/plain": [
       "sci_xrsf-l2-flx1s_g16_d20180106_v2-1-0.nc:   0%|          | 0.00/5.02M [00:00<?, ?B/s]"
      ]
     },
     "metadata": {},
     "output_type": "display_data"
    },
    {
     "data": {
      "application/vnd.jupyter.widget-view+json": {
       "model_id": "b16f43a7edf04bb4a28c46ed2369ec58",
       "version_major": 2,
       "version_minor": 0
      },
      "text/plain": [
       "sci_xrsf-l2-flx1s_g16_d20180107_v2-1-0.nc:   0%|          | 0.00/5.01M [00:00<?, ?B/s]"
      ]
     },
     "metadata": {},
     "output_type": "display_data"
    },
    {
     "data": {
      "application/vnd.jupyter.widget-view+json": {
       "model_id": "53cb742e9a0f4c3dbd317a63b7631bb3",
       "version_major": 2,
       "version_minor": 0
      },
      "text/plain": [
       "sci_xrsf-l2-flx1s_g16_d20180108_v2-1-0.nc:   0%|          | 0.00/5.02M [00:00<?, ?B/s]"
      ]
     },
     "metadata": {},
     "output_type": "display_data"
    },
    {
     "data": {
      "application/vnd.jupyter.widget-view+json": {
       "model_id": "5082a26046e14c37b9c945e247f7acfb",
       "version_major": 2,
       "version_minor": 0
      },
      "text/plain": [
       "sci_xrsf-l2-flx1s_g16_d20180109_v2-1-0.nc:   0%|          | 0.00/5.01M [00:00<?, ?B/s]"
      ]
     },
     "metadata": {},
     "output_type": "display_data"
    },
    {
     "data": {
      "application/vnd.jupyter.widget-view+json": {
       "model_id": "a8127069aa2149f08d5d07bddf25c506",
       "version_major": 2,
       "version_minor": 0
      },
      "text/plain": [
       "sci_xrsf-l2-flx1s_g16_d20180110_v2-1-0.nc:   0%|          | 0.00/5.02M [00:00<?, ?B/s]"
      ]
     },
     "metadata": {},
     "output_type": "display_data"
    },
    {
     "data": {
      "application/vnd.jupyter.widget-view+json": {
       "model_id": "5dfebb94440e4c63b9ba85cb33fd7d31",
       "version_major": 2,
       "version_minor": 0
      },
      "text/plain": [
       "sci_xrsf-l2-flx1s_g16_d20180111_v2-1-0.nc:   0%|          | 0.00/5.01M [00:00<?, ?B/s]"
      ]
     },
     "metadata": {},
     "output_type": "display_data"
    },
    {
     "data": {
      "application/vnd.jupyter.widget-view+json": {
       "model_id": "bcecd3369fe64dc1b68cbed338a3239f",
       "version_major": 2,
       "version_minor": 0
      },
      "text/plain": [
       "sci_xrsf-l2-flx1s_g16_d20180115_v2-1-0.nc:   0%|          | 0.00/5.01M [00:00<?, ?B/s]"
      ]
     },
     "metadata": {},
     "output_type": "display_data"
    },
    {
     "data": {
      "application/vnd.jupyter.widget-view+json": {
       "model_id": "c7b23517edcf44e0a8c315e418bc75e4",
       "version_major": 2,
       "version_minor": 0
      },
      "text/plain": [
       "sci_xrsf-l2-flx1s_g16_d20180114_v2-1-0.nc:   0%|          | 0.00/5.02M [00:00<?, ?B/s]"
      ]
     },
     "metadata": {},
     "output_type": "display_data"
    },
    {
     "data": {
      "application/vnd.jupyter.widget-view+json": {
       "model_id": "cb27c4d153c84afa870f0964050ffa87",
       "version_major": 2,
       "version_minor": 0
      },
      "text/plain": [
       "sci_xrsf-l2-flx1s_g16_d20180112_v2-1-0.nc:   0%|          | 0.00/5.02M [00:00<?, ?B/s]"
      ]
     },
     "metadata": {},
     "output_type": "display_data"
    },
    {
     "data": {
      "application/vnd.jupyter.widget-view+json": {
       "model_id": "13a33918b17343d4802598459e30ceaa",
       "version_major": 2,
       "version_minor": 0
      },
      "text/plain": [
       "sci_xrsf-l2-flx1s_g16_d20180116_v2-1-0.nc:   0%|          | 0.00/5.02M [00:00<?, ?B/s]"
      ]
     },
     "metadata": {},
     "output_type": "display_data"
    },
    {
     "data": {
      "application/vnd.jupyter.widget-view+json": {
       "model_id": "161f64dc2fd749d9b003488351b45527",
       "version_major": 2,
       "version_minor": 0
      },
      "text/plain": [
       "sci_xrsf-l2-flx1s_g16_d20180113_v2-1-0.nc:   0%|          | 0.00/5.03M [00:00<?, ?B/s]"
      ]
     },
     "metadata": {},
     "output_type": "display_data"
    },
    {
     "data": {
      "application/vnd.jupyter.widget-view+json": {
       "model_id": "514de1be11a0403199413552048935ea",
       "version_major": 2,
       "version_minor": 0
      },
      "text/plain": [
       "sci_xrsf-l2-flx1s_g16_d20180118_v2-1-0.nc:   0%|          | 0.00/5.02M [00:00<?, ?B/s]"
      ]
     },
     "metadata": {},
     "output_type": "display_data"
    },
    {
     "data": {
      "application/vnd.jupyter.widget-view+json": {
       "model_id": "ecccb7a163914693bde77156ae63db44",
       "version_major": 2,
       "version_minor": 0
      },
      "text/plain": [
       "sci_xrsf-l2-flx1s_g16_d20180120_v2-1-0.nc:   0%|          | 0.00/5.03M [00:00<?, ?B/s]"
      ]
     },
     "metadata": {},
     "output_type": "display_data"
    },
    {
     "data": {
      "application/vnd.jupyter.widget-view+json": {
       "model_id": "d8b0a70be258462792f8bda7d0656819",
       "version_major": 2,
       "version_minor": 0
      },
      "text/plain": [
       "sci_xrsf-l2-flx1s_g16_d20180119_v2-1-0.nc:   0%|          | 0.00/5.02M [00:00<?, ?B/s]"
      ]
     },
     "metadata": {},
     "output_type": "display_data"
    },
    {
     "data": {
      "application/vnd.jupyter.widget-view+json": {
       "model_id": "7ad43d3983ac4d4e8394af4308c01117",
       "version_major": 2,
       "version_minor": 0
      },
      "text/plain": [
       "sci_xrsf-l2-flx1s_g16_d20180117_v2-1-0.nc:   0%|          | 0.00/5.01M [00:00<?, ?B/s]"
      ]
     },
     "metadata": {},
     "output_type": "display_data"
    },
    {
     "data": {
      "application/vnd.jupyter.widget-view+json": {
       "model_id": "baf0ea46d825450189422b8e4757a6b9",
       "version_major": 2,
       "version_minor": 0
      },
      "text/plain": [
       "sci_xrsf-l2-flx1s_g16_d20180121_v2-1-0.nc:   0%|          | 0.00/5.03M [00:00<?, ?B/s]"
      ]
     },
     "metadata": {},
     "output_type": "display_data"
    },
    {
     "data": {
      "application/vnd.jupyter.widget-view+json": {
       "model_id": "131d12f40e224b2180e1fda4dbf7cc29",
       "version_major": 2,
       "version_minor": 0
      },
      "text/plain": [
       "sci_xrsf-l2-flx1s_g16_d20180122_v2-1-0.nc:   0%|          | 0.00/5.03M [00:00<?, ?B/s]"
      ]
     },
     "metadata": {},
     "output_type": "display_data"
    },
    {
     "data": {
      "application/vnd.jupyter.widget-view+json": {
       "model_id": "cbd6c9906a4043939d352e88d35c6a83",
       "version_major": 2,
       "version_minor": 0
      },
      "text/plain": [
       "sci_xrsf-l2-flx1s_g16_d20180124_v2-1-0.nc:   0%|          | 0.00/5.05M [00:00<?, ?B/s]"
      ]
     },
     "metadata": {},
     "output_type": "display_data"
    },
    {
     "data": {
      "application/vnd.jupyter.widget-view+json": {
       "model_id": "7b5d39f03fdd435eb0a324b06010b4e0",
       "version_major": 2,
       "version_minor": 0
      },
      "text/plain": [
       "sci_xrsf-l2-flx1s_g16_d20180123_v2-1-0.nc:   0%|          | 0.00/5.04M [00:00<?, ?B/s]"
      ]
     },
     "metadata": {},
     "output_type": "display_data"
    },
    {
     "data": {
      "application/vnd.jupyter.widget-view+json": {
       "model_id": "9ef39544deca4a3889dcbf6b18407896",
       "version_major": 2,
       "version_minor": 0
      },
      "text/plain": [
       "sci_xrsf-l2-flx1s_g16_d20180125_v2-1-0.nc:   0%|          | 0.00/5.02M [00:00<?, ?B/s]"
      ]
     },
     "metadata": {},
     "output_type": "display_data"
    },
    {
     "data": {
      "application/vnd.jupyter.widget-view+json": {
       "model_id": "8feb470ce0ca48acbeac69d0d0d264b2",
       "version_major": 2,
       "version_minor": 0
      },
      "text/plain": [
       "sci_xrsf-l2-flx1s_g16_d20180126_v2-1-0.nc:   0%|          | 0.00/5.02M [00:00<?, ?B/s]"
      ]
     },
     "metadata": {},
     "output_type": "display_data"
    },
    {
     "data": {
      "application/vnd.jupyter.widget-view+json": {
       "model_id": "15bac5ef073f49db912b2cc8d3aded18",
       "version_major": 2,
       "version_minor": 0
      },
      "text/plain": [
       "sci_xrsf-l2-flx1s_g16_d20180127_v2-1-0.nc:   0%|          | 0.00/5.03M [00:00<?, ?B/s]"
      ]
     },
     "metadata": {},
     "output_type": "display_data"
    },
    {
     "data": {
      "application/vnd.jupyter.widget-view+json": {
       "model_id": "da20b4c50d364fbab4fb7893b62650b0",
       "version_major": 2,
       "version_minor": 0
      },
      "text/plain": [
       "sci_xrsf-l2-flx1s_g16_d20180128_v2-1-0.nc:   0%|          | 0.00/5.03M [00:00<?, ?B/s]"
      ]
     },
     "metadata": {},
     "output_type": "display_data"
    },
    {
     "data": {
      "application/vnd.jupyter.widget-view+json": {
       "model_id": "3354e2287e9b4ce1b9d2dc107a1d2edd",
       "version_major": 2,
       "version_minor": 0
      },
      "text/plain": [
       "sci_xrsf-l2-flx1s_g16_d20180130_v2-1-0.nc:   0%|          | 0.00/5.03M [00:00<?, ?B/s]"
      ]
     },
     "metadata": {},
     "output_type": "display_data"
    },
    {
     "data": {
      "application/vnd.jupyter.widget-view+json": {
       "model_id": "7819f0f56f424b02b4159aa43e467f16",
       "version_major": 2,
       "version_minor": 0
      },
      "text/plain": [
       "sci_xrsf-l2-flx1s_g16_d20180129_v2-1-0.nc:   0%|          | 0.00/5.03M [00:00<?, ?B/s]"
      ]
     },
     "metadata": {},
     "output_type": "display_data"
    },
    {
     "data": {
      "application/vnd.jupyter.widget-view+json": {
       "model_id": "f5e5b252e866416bb639eb59b3c8e7c6",
       "version_major": 2,
       "version_minor": 0
      },
      "text/plain": [
       "sci_xrsf-l2-flx1s_g16_d20180203_v2-1-0.nc:   0%|          | 0.00/5.02M [00:00<?, ?B/s]"
      ]
     },
     "metadata": {},
     "output_type": "display_data"
    },
    {
     "data": {
      "application/vnd.jupyter.widget-view+json": {
       "model_id": "e4e64ca6220e4c83875b4b0990f5e461",
       "version_major": 2,
       "version_minor": 0
      },
      "text/plain": [
       "sci_xrsf-l2-flx1s_g16_d20180201_v2-1-0.nc:   0%|          | 0.00/5.03M [00:00<?, ?B/s]"
      ]
     },
     "metadata": {},
     "output_type": "display_data"
    },
    {
     "data": {
      "application/vnd.jupyter.widget-view+json": {
       "model_id": "cd9f20a7393d45488d650ea2e59963dc",
       "version_major": 2,
       "version_minor": 0
      },
      "text/plain": [
       "sci_xrsf-l2-flx1s_g16_d20180202_v2-1-0.nc:   0%|          | 0.00/5.03M [00:00<?, ?B/s]"
      ]
     },
     "metadata": {},
     "output_type": "display_data"
    },
    {
     "data": {
      "application/vnd.jupyter.widget-view+json": {
       "model_id": "4cc77aa67d6a48078093cc4321357a31",
       "version_major": 2,
       "version_minor": 0
      },
      "text/plain": [
       "sci_xrsf-l2-flx1s_g16_d20180131_v2-1-0.nc:   0%|          | 0.00/5.02M [00:00<?, ?B/s]"
      ]
     },
     "metadata": {},
     "output_type": "display_data"
    },
    {
     "data": {
      "application/vnd.jupyter.widget-view+json": {
       "model_id": "523eda824e9c4906b3838037dcb79e1f",
       "version_major": 2,
       "version_minor": 0
      },
      "text/plain": [
       "sci_xrsf-l2-flx1s_g16_d20180207_v2-1-0.nc:   0%|          | 0.00/5.02M [00:00<?, ?B/s]"
      ]
     },
     "metadata": {},
     "output_type": "display_data"
    },
    {
     "data": {
      "application/vnd.jupyter.widget-view+json": {
       "model_id": "ebff97efe8124baea7d9258515ecb464",
       "version_major": 2,
       "version_minor": 0
      },
      "text/plain": [
       "sci_xrsf-l2-flx1s_g16_d20180206_v2-1-0.nc:   0%|          | 0.00/5.01M [00:00<?, ?B/s]"
      ]
     },
     "metadata": {},
     "output_type": "display_data"
    },
    {
     "data": {
      "application/vnd.jupyter.widget-view+json": {
       "model_id": "6a72c5692e604aa18aa33b48042747ea",
       "version_major": 2,
       "version_minor": 0
      },
      "text/plain": [
       "sci_xrsf-l2-flx1s_g16_d20180208_v2-1-0.nc:   0%|          | 0.00/5.02M [00:00<?, ?B/s]"
      ]
     },
     "metadata": {},
     "output_type": "display_data"
    },
    {
     "data": {
      "application/vnd.jupyter.widget-view+json": {
       "model_id": "76c498cb3a6b4a2a85074e41ae22b146",
       "version_major": 2,
       "version_minor": 0
      },
      "text/plain": [
       "sci_xrsf-l2-flx1s_g16_d20180205_v2-1-0.nc:   0%|          | 0.00/5.01M [00:00<?, ?B/s]"
      ]
     },
     "metadata": {},
     "output_type": "display_data"
    },
    {
     "data": {
      "application/vnd.jupyter.widget-view+json": {
       "model_id": "e0f5323c2bed4b8ab0e0db9f75ae34ad",
       "version_major": 2,
       "version_minor": 0
      },
      "text/plain": [
       "sci_xrsf-l2-flx1s_g16_d20180204_v2-1-0.nc:   0%|          | 0.00/5.01M [00:00<?, ?B/s]"
      ]
     },
     "metadata": {},
     "output_type": "display_data"
    },
    {
     "data": {
      "application/vnd.jupyter.widget-view+json": {
       "model_id": "10565861e2174786973a2011e2d10d03",
       "version_major": 2,
       "version_minor": 0
      },
      "text/plain": [
       "sci_xrsf-l2-flx1s_g16_d20180209_v2-1-0.nc:   0%|          | 0.00/5.01M [00:00<?, ?B/s]"
      ]
     },
     "metadata": {},
     "output_type": "display_data"
    },
    {
     "data": {
      "application/vnd.jupyter.widget-view+json": {
       "model_id": "3feccf0a4cf5496f88e8a2e9ad66118c",
       "version_major": 2,
       "version_minor": 0
      },
      "text/plain": [
       "sci_xrsf-l2-flx1s_g16_d20180211_v2-1-0.nc:   0%|          | 0.00/5.03M [00:00<?, ?B/s]"
      ]
     },
     "metadata": {},
     "output_type": "display_data"
    },
    {
     "data": {
      "application/vnd.jupyter.widget-view+json": {
       "model_id": "b4e433b8d53a4e70a209a7c7a8280864",
       "version_major": 2,
       "version_minor": 0
      },
      "text/plain": [
       "sci_xrsf-l2-flx1s_g16_d20180213_v2-1-0.nc:   0%|          | 0.00/5.02M [00:00<?, ?B/s]"
      ]
     },
     "metadata": {},
     "output_type": "display_data"
    },
    {
     "data": {
      "application/vnd.jupyter.widget-view+json": {
       "model_id": "68fbf1fa406346fcaa3d72c9b9a974c0",
       "version_major": 2,
       "version_minor": 0
      },
      "text/plain": [
       "sci_xrsf-l2-flx1s_g16_d20180210_v2-1-0.nc:   0%|          | 0.00/5.02M [00:00<?, ?B/s]"
      ]
     },
     "metadata": {},
     "output_type": "display_data"
    },
    {
     "data": {
      "application/vnd.jupyter.widget-view+json": {
       "model_id": "48502724239142a790d142681b90a3c6",
       "version_major": 2,
       "version_minor": 0
      },
      "text/plain": [
       "sci_xrsf-l2-flx1s_g16_d20180212_v2-1-0.nc:   0%|          | 0.00/5.01M [00:00<?, ?B/s]"
      ]
     },
     "metadata": {},
     "output_type": "display_data"
    },
    {
     "data": {
      "application/vnd.jupyter.widget-view+json": {
       "model_id": "187fbd43ae564ae69ae8690010c358ba",
       "version_major": 2,
       "version_minor": 0
      },
      "text/plain": [
       "sci_xrsf-l2-flx1s_g16_d20180216_v2-1-0.nc:   0%|          | 0.00/5.02M [00:00<?, ?B/s]"
      ]
     },
     "metadata": {},
     "output_type": "display_data"
    },
    {
     "data": {
      "application/vnd.jupyter.widget-view+json": {
       "model_id": "bc659dfce37c4d27b85f49ae21b2f951",
       "version_major": 2,
       "version_minor": 0
      },
      "text/plain": [
       "sci_xrsf-l2-flx1s_g16_d20180218_v2-1-0.nc:   0%|          | 0.00/5.04M [00:00<?, ?B/s]"
      ]
     },
     "metadata": {},
     "output_type": "display_data"
    },
    {
     "data": {
      "application/vnd.jupyter.widget-view+json": {
       "model_id": "b5d4f2cb85e3494e9db158f3acc45f7c",
       "version_major": 2,
       "version_minor": 0
      },
      "text/plain": [
       "sci_xrsf-l2-flx1s_g16_d20180215_v2-1-0.nc:   0%|          | 0.00/5.02M [00:00<?, ?B/s]"
      ]
     },
     "metadata": {},
     "output_type": "display_data"
    },
    {
     "data": {
      "application/vnd.jupyter.widget-view+json": {
       "model_id": "4ca117387a5e4449a44533487678a254",
       "version_major": 2,
       "version_minor": 0
      },
      "text/plain": [
       "sci_xrsf-l2-flx1s_g16_d20180217_v2-1-0.nc:   0%|          | 0.00/5.02M [00:00<?, ?B/s]"
      ]
     },
     "metadata": {},
     "output_type": "display_data"
    },
    {
     "data": {
      "application/vnd.jupyter.widget-view+json": {
       "model_id": "fe3718a9ab55435f8128e673f1920e39",
       "version_major": 2,
       "version_minor": 0
      },
      "text/plain": [
       "sci_xrsf-l2-flx1s_g16_d20180214_v2-1-0.nc:   0%|          | 0.00/5.02M [00:00<?, ?B/s]"
      ]
     },
     "metadata": {},
     "output_type": "display_data"
    },
    {
     "data": {
      "application/vnd.jupyter.widget-view+json": {
       "model_id": "1840b9c5cc3f4b62a062829f0165cd50",
       "version_major": 2,
       "version_minor": 0
      },
      "text/plain": [
       "sci_xrsf-l2-flx1s_g16_d20180220_v2-1-0.nc:   0%|          | 0.00/4.93M [00:00<?, ?B/s]"
      ]
     },
     "metadata": {},
     "output_type": "display_data"
    },
    {
     "data": {
      "application/vnd.jupyter.widget-view+json": {
       "model_id": "fce4a52dc38741ab8faf3d815e72a999",
       "version_major": 2,
       "version_minor": 0
      },
      "text/plain": [
       "sci_xrsf-l2-flx1s_g16_d20180221_v2-1-0.nc:   0%|          | 0.00/5.04M [00:00<?, ?B/s]"
      ]
     },
     "metadata": {},
     "output_type": "display_data"
    },
    {
     "data": {
      "application/vnd.jupyter.widget-view+json": {
       "model_id": "3cc10353386341d9a981ac80f3bbd2f5",
       "version_major": 2,
       "version_minor": 0
      },
      "text/plain": [
       "sci_xrsf-l2-flx1s_g16_d20180223_v2-1-0.nc:   0%|          | 0.00/5.04M [00:00<?, ?B/s]"
      ]
     },
     "metadata": {},
     "output_type": "display_data"
    },
    {
     "data": {
      "application/vnd.jupyter.widget-view+json": {
       "model_id": "7172a6731268416a8472a83717036fbe",
       "version_major": 2,
       "version_minor": 0
      },
      "text/plain": [
       "sci_xrsf-l2-flx1s_g16_d20180219_v2-1-0.nc:   0%|          | 0.00/5.06M [00:00<?, ?B/s]"
      ]
     },
     "metadata": {},
     "output_type": "display_data"
    },
    {
     "data": {
      "application/vnd.jupyter.widget-view+json": {
       "model_id": "5e70428605df45098fe4331de3ab9d44",
       "version_major": 2,
       "version_minor": 0
      },
      "text/plain": [
       "sci_xrsf-l2-flx1s_g16_d20180222_v2-1-0.nc:   0%|          | 0.00/1.75M [00:00<?, ?B/s]"
      ]
     },
     "metadata": {},
     "output_type": "display_data"
    },
    {
     "data": {
      "application/vnd.jupyter.widget-view+json": {
       "model_id": "c4b034243ca045d19f2dc5943534746d",
       "version_major": 2,
       "version_minor": 0
      },
      "text/plain": [
       "sci_xrsf-l2-flx1s_g16_d20180225_v2-1-0.nc:   0%|          | 0.00/5.05M [00:00<?, ?B/s]"
      ]
     },
     "metadata": {},
     "output_type": "display_data"
    },
    {
     "data": {
      "application/vnd.jupyter.widget-view+json": {
       "model_id": "d8fb6bd3d68b4e26bb05f7cd525150e1",
       "version_major": 2,
       "version_minor": 0
      },
      "text/plain": [
       "sci_xrsf-l2-flx1s_g16_d20180224_v2-1-0.nc:   0%|          | 0.00/5.03M [00:00<?, ?B/s]"
      ]
     },
     "metadata": {},
     "output_type": "display_data"
    },
    {
     "data": {
      "application/vnd.jupyter.widget-view+json": {
       "model_id": "05031fccf1d14115ba113c9e056c5abc",
       "version_major": 2,
       "version_minor": 0
      },
      "text/plain": [
       "sci_xrsf-l2-flx1s_g16_d20180226_v2-1-0.nc:   0%|          | 0.00/5.04M [00:00<?, ?B/s]"
      ]
     },
     "metadata": {},
     "output_type": "display_data"
    },
    {
     "data": {
      "application/vnd.jupyter.widget-view+json": {
       "model_id": "3cd888e606f74688991720cc745ad326",
       "version_major": 2,
       "version_minor": 0
      },
      "text/plain": [
       "sci_xrsf-l2-flx1s_g16_d20180228_v2-1-0.nc:   0%|          | 0.00/5.06M [00:00<?, ?B/s]"
      ]
     },
     "metadata": {},
     "output_type": "display_data"
    },
    {
     "data": {
      "application/vnd.jupyter.widget-view+json": {
       "model_id": "30bfaa58378842d29427426cdd495d40",
       "version_major": 2,
       "version_minor": 0
      },
      "text/plain": [
       "sci_xrsf-l2-flx1s_g16_d20180227_v2-1-0.nc:   0%|          | 0.00/5.05M [00:00<?, ?B/s]"
      ]
     },
     "metadata": {},
     "output_type": "display_data"
    },
    {
     "data": {
      "application/vnd.jupyter.widget-view+json": {
       "model_id": "3575d640d44c4636ad14cdc4cfea4b08",
       "version_major": 2,
       "version_minor": 0
      },
      "text/plain": [
       "sci_xrsf-l2-flx1s_g16_d20180301_v2-1-0.nc:   0%|          | 0.00/5.07M [00:00<?, ?B/s]"
      ]
     },
     "metadata": {},
     "output_type": "display_data"
    },
    {
     "data": {
      "application/vnd.jupyter.widget-view+json": {
       "model_id": "b363af1a30fb4438ad8c8980dc413415",
       "version_major": 2,
       "version_minor": 0
      },
      "text/plain": [
       "sci_xrsf-l2-flx1s_g16_d20180304_v2-1-0.nc:   0%|          | 0.00/5.08M [00:00<?, ?B/s]"
      ]
     },
     "metadata": {},
     "output_type": "display_data"
    },
    {
     "data": {
      "application/vnd.jupyter.widget-view+json": {
       "model_id": "81c4d0b91bf14709bc3ca3de1fd6d567",
       "version_major": 2,
       "version_minor": 0
      },
      "text/plain": [
       "sci_xrsf-l2-flx1s_g16_d20180302_v2-1-0.nc:   0%|          | 0.00/5.08M [00:00<?, ?B/s]"
      ]
     },
     "metadata": {},
     "output_type": "display_data"
    },
    {
     "data": {
      "application/vnd.jupyter.widget-view+json": {
       "model_id": "160693ce56c64d8eb2027c6d8984723d",
       "version_major": 2,
       "version_minor": 0
      },
      "text/plain": [
       "sci_xrsf-l2-flx1s_g16_d20180303_v2-1-0.nc:   0%|          | 0.00/5.08M [00:00<?, ?B/s]"
      ]
     },
     "metadata": {},
     "output_type": "display_data"
    },
    {
     "data": {
      "application/vnd.jupyter.widget-view+json": {
       "model_id": "6c48144a285348d99f0c6c5fb42795c1",
       "version_major": 2,
       "version_minor": 0
      },
      "text/plain": [
       "sci_xrsf-l2-flx1s_g16_d20180305_v2-1-0.nc:   0%|          | 0.00/5.09M [00:00<?, ?B/s]"
      ]
     },
     "metadata": {},
     "output_type": "display_data"
    },
    {
     "data": {
      "application/vnd.jupyter.widget-view+json": {
       "model_id": "9030542f2a3b4c8a930e88e9f03a51d9",
       "version_major": 2,
       "version_minor": 0
      },
      "text/plain": [
       "sci_xrsf-l2-flx1s_g16_d20180307_v2-1-0.nc:   0%|          | 0.00/5.10M [00:00<?, ?B/s]"
      ]
     },
     "metadata": {},
     "output_type": "display_data"
    },
    {
     "data": {
      "application/vnd.jupyter.widget-view+json": {
       "model_id": "b83c553cfc0e4156aa8c8c2a36da111e",
       "version_major": 2,
       "version_minor": 0
      },
      "text/plain": [
       "sci_xrsf-l2-flx1s_g16_d20180308_v2-1-0.nc:   0%|          | 0.00/1.76M [00:00<?, ?B/s]"
      ]
     },
     "metadata": {},
     "output_type": "display_data"
    },
    {
     "data": {
      "application/vnd.jupyter.widget-view+json": {
       "model_id": "ca9fd0eead864726990c412ce35318b5",
       "version_major": 2,
       "version_minor": 0
      },
      "text/plain": [
       "sci_xrsf-l2-flx1s_g16_d20180309_v2-1-0.nc:   0%|          | 0.00/5.10M [00:00<?, ?B/s]"
      ]
     },
     "metadata": {},
     "output_type": "display_data"
    },
    {
     "data": {
      "application/vnd.jupyter.widget-view+json": {
       "model_id": "29577c2e729f47eab445cd3e718ba2c2",
       "version_major": 2,
       "version_minor": 0
      },
      "text/plain": [
       "sci_xrsf-l2-flx1s_g16_d20180306_v2-1-0.nc:   0%|          | 0.00/5.09M [00:00<?, ?B/s]"
      ]
     },
     "metadata": {},
     "output_type": "display_data"
    },
    {
     "data": {
      "application/vnd.jupyter.widget-view+json": {
       "model_id": "ee8018becf434f6a861159dc1c265a07",
       "version_major": 2,
       "version_minor": 0
      },
      "text/plain": [
       "sci_xrsf-l2-flx1s_g16_d20180310_v2-1-0.nc:   0%|          | 0.00/5.10M [00:00<?, ?B/s]"
      ]
     },
     "metadata": {},
     "output_type": "display_data"
    },
    {
     "data": {
      "application/vnd.jupyter.widget-view+json": {
       "model_id": "e39ddbe24d224a70b59c20e4fc091252",
       "version_major": 2,
       "version_minor": 0
      },
      "text/plain": [
       "sci_xrsf-l2-flx1s_g16_d20180311_v2-1-0.nc:   0%|          | 0.00/5.10M [00:00<?, ?B/s]"
      ]
     },
     "metadata": {},
     "output_type": "display_data"
    },
    {
     "data": {
      "application/vnd.jupyter.widget-view+json": {
       "model_id": "ded8b832c03e45f6a4ef0ea5d770bac9",
       "version_major": 2,
       "version_minor": 0
      },
      "text/plain": [
       "sci_xrsf-l2-flx1s_g16_d20180312_v2-1-0.nc:   0%|          | 0.00/5.11M [00:00<?, ?B/s]"
      ]
     },
     "metadata": {},
     "output_type": "display_data"
    },
    {
     "data": {
      "application/vnd.jupyter.widget-view+json": {
       "model_id": "09494a3ad5b94645ad9431f07421c47f",
       "version_major": 2,
       "version_minor": 0
      },
      "text/plain": [
       "sci_xrsf-l2-flx1s_g16_d20180313_v2-1-0.nc:   0%|          | 0.00/5.11M [00:00<?, ?B/s]"
      ]
     },
     "metadata": {},
     "output_type": "display_data"
    },
    {
     "data": {
      "application/vnd.jupyter.widget-view+json": {
       "model_id": "affecc1b1685446ca028f4b925458009",
       "version_major": 2,
       "version_minor": 0
      },
      "text/plain": [
       "sci_xrsf-l2-flx1s_g16_d20180314_v2-1-0.nc:   0%|          | 0.00/5.11M [00:00<?, ?B/s]"
      ]
     },
     "metadata": {},
     "output_type": "display_data"
    },
    {
     "data": {
      "application/vnd.jupyter.widget-view+json": {
       "model_id": "ac647dba8d044490b49efcf4a09ba1c7",
       "version_major": 2,
       "version_minor": 0
      },
      "text/plain": [
       "sci_xrsf-l2-flx1s_g16_d20180318_v2-1-0.nc:   0%|          | 0.00/5.12M [00:00<?, ?B/s]"
      ]
     },
     "metadata": {},
     "output_type": "display_data"
    },
    {
     "data": {
      "application/vnd.jupyter.widget-view+json": {
       "model_id": "44db962e138d4530b4f9d9117ea86a3f",
       "version_major": 2,
       "version_minor": 0
      },
      "text/plain": [
       "sci_xrsf-l2-flx1s_g16_d20180316_v2-1-0.nc:   0%|          | 0.00/5.12M [00:00<?, ?B/s]"
      ]
     },
     "metadata": {},
     "output_type": "display_data"
    },
    {
     "data": {
      "application/vnd.jupyter.widget-view+json": {
       "model_id": "5175265e0a364bc88ce551fd6231903b",
       "version_major": 2,
       "version_minor": 0
      },
      "text/plain": [
       "sci_xrsf-l2-flx1s_g16_d20180317_v2-1-0.nc:   0%|          | 0.00/5.12M [00:00<?, ?B/s]"
      ]
     },
     "metadata": {},
     "output_type": "display_data"
    },
    {
     "data": {
      "application/vnd.jupyter.widget-view+json": {
       "model_id": "244d87d8bdf041b892ff23bcb634bc5d",
       "version_major": 2,
       "version_minor": 0
      },
      "text/plain": [
       "sci_xrsf-l2-flx1s_g16_d20180315_v2-1-0.nc:   0%|          | 0.00/5.11M [00:00<?, ?B/s]"
      ]
     },
     "metadata": {},
     "output_type": "display_data"
    },
    {
     "data": {
      "application/vnd.jupyter.widget-view+json": {
       "model_id": "ad802c2e8e4247fdbc2697505324803b",
       "version_major": 2,
       "version_minor": 0
      },
      "text/plain": [
       "sci_xrsf-l2-flx1s_g16_d20180321_v2-1-0.nc:   0%|          | 0.00/5.15M [00:00<?, ?B/s]"
      ]
     },
     "metadata": {},
     "output_type": "display_data"
    },
    {
     "data": {
      "application/vnd.jupyter.widget-view+json": {
       "model_id": "92d758dba4d34723bdcbca3d4045a01b",
       "version_major": 2,
       "version_minor": 0
      },
      "text/plain": [
       "sci_xrsf-l2-flx1s_g16_d20180319_v2-1-0.nc:   0%|          | 0.00/5.15M [00:00<?, ?B/s]"
      ]
     },
     "metadata": {},
     "output_type": "display_data"
    },
    {
     "data": {
      "application/vnd.jupyter.widget-view+json": {
       "model_id": "e22bbd09c7604b328a744176889c3347",
       "version_major": 2,
       "version_minor": 0
      },
      "text/plain": [
       "sci_xrsf-l2-flx1s_g16_d20180322_v2-1-0.nc:   0%|          | 0.00/5.13M [00:00<?, ?B/s]"
      ]
     },
     "metadata": {},
     "output_type": "display_data"
    },
    {
     "data": {
      "application/vnd.jupyter.widget-view+json": {
       "model_id": "b5cdea59422d4ef4968930aa29172dfa",
       "version_major": 2,
       "version_minor": 0
      },
      "text/plain": [
       "sci_xrsf-l2-flx1s_g16_d20180320_v2-1-0.nc:   0%|          | 0.00/5.15M [00:00<?, ?B/s]"
      ]
     },
     "metadata": {},
     "output_type": "display_data"
    },
    {
     "data": {
      "application/vnd.jupyter.widget-view+json": {
       "model_id": "ad6dcbb21eec4d31ba2251bba1f72e2a",
       "version_major": 2,
       "version_minor": 0
      },
      "text/plain": [
       "sci_xrsf-l2-flx1s_g16_d20180323_v2-1-0.nc:   0%|          | 0.00/5.11M [00:00<?, ?B/s]"
      ]
     },
     "metadata": {},
     "output_type": "display_data"
    },
    {
     "data": {
      "application/vnd.jupyter.widget-view+json": {
       "model_id": "207184c9e5cd4672a1a94291a8b07d42",
       "version_major": 2,
       "version_minor": 0
      },
      "text/plain": [
       "sci_xrsf-l2-flx1s_g16_d20180325_v2-1-0.nc:   0%|          | 0.00/5.11M [00:00<?, ?B/s]"
      ]
     },
     "metadata": {},
     "output_type": "display_data"
    },
    {
     "data": {
      "application/vnd.jupyter.widget-view+json": {
       "model_id": "1aa7ae04c3d14e17ab633effd4b2df12",
       "version_major": 2,
       "version_minor": 0
      },
      "text/plain": [
       "sci_xrsf-l2-flx1s_g16_d20180328_v2-1-0.nc:   0%|          | 0.00/5.18M [00:00<?, ?B/s]"
      ]
     },
     "metadata": {},
     "output_type": "display_data"
    },
    {
     "data": {
      "application/vnd.jupyter.widget-view+json": {
       "model_id": "480072d86de34430adf86a9a71ccb9ba",
       "version_major": 2,
       "version_minor": 0
      },
      "text/plain": [
       "sci_xrsf-l2-flx1s_g16_d20180324_v2-1-0.nc:   0%|          | 0.00/5.11M [00:00<?, ?B/s]"
      ]
     },
     "metadata": {},
     "output_type": "display_data"
    },
    {
     "data": {
      "application/vnd.jupyter.widget-view+json": {
       "model_id": "db37bdf02147406192181b0e3962b228",
       "version_major": 2,
       "version_minor": 0
      },
      "text/plain": [
       "sci_xrsf-l2-flx1s_g16_d20180327_v2-1-0.nc:   0%|          | 0.00/5.15M [00:00<?, ?B/s]"
      ]
     },
     "metadata": {},
     "output_type": "display_data"
    },
    {
     "data": {
      "application/vnd.jupyter.widget-view+json": {
       "model_id": "5b755f1c0cc74390aed897e1ac511b9d",
       "version_major": 2,
       "version_minor": 0
      },
      "text/plain": [
       "sci_xrsf-l2-flx1s_g16_d20180326_v2-1-0.nc:   0%|          | 0.00/5.13M [00:00<?, ?B/s]"
      ]
     },
     "metadata": {},
     "output_type": "display_data"
    },
    {
     "data": {
      "application/vnd.jupyter.widget-view+json": {
       "model_id": "ac0611c0c77b472fa80539e1dcb1532f",
       "version_major": 2,
       "version_minor": 0
      },
      "text/plain": [
       "sci_xrsf-l2-flx1s_g16_d20180330_v2-1-0.nc:   0%|          | 0.00/5.11M [00:00<?, ?B/s]"
      ]
     },
     "metadata": {},
     "output_type": "display_data"
    },
    {
     "data": {
      "application/vnd.jupyter.widget-view+json": {
       "model_id": "4f351035313243908715d59d9e9f2971",
       "version_major": 2,
       "version_minor": 0
      },
      "text/plain": [
       "sci_xrsf-l2-flx1s_g16_d20180331_v2-1-0.nc:   0%|          | 0.00/5.10M [00:00<?, ?B/s]"
      ]
     },
     "metadata": {},
     "output_type": "display_data"
    },
    {
     "data": {
      "application/vnd.jupyter.widget-view+json": {
       "model_id": "0a4540fc183a4263a18b0580a007f619",
       "version_major": 2,
       "version_minor": 0
      },
      "text/plain": [
       "sci_xrsf-l2-flx1s_g16_d20180329_v2-1-0.nc:   0%|          | 0.00/5.17M [00:00<?, ?B/s]"
      ]
     },
     "metadata": {},
     "output_type": "display_data"
    },
    {
     "data": {
      "application/vnd.jupyter.widget-view+json": {
       "model_id": "fc75e23e445e4260a0818004e080e13f",
       "version_major": 2,
       "version_minor": 0
      },
      "text/plain": [
       "sci_xrsf-l2-flx1s_g16_d20180401_v2-1-0.nc:   0%|          | 0.00/5.10M [00:00<?, ?B/s]"
      ]
     },
     "metadata": {},
     "output_type": "display_data"
    },
    {
     "data": {
      "application/vnd.jupyter.widget-view+json": {
       "model_id": "d617fe7ba3ca4fe2b622e3ec2825c6ca",
       "version_major": 2,
       "version_minor": 0
      },
      "text/plain": [
       "sci_xrsf-l2-flx1s_g16_d20180405_v2-1-0.nc:   0%|          | 0.00/5.07M [00:00<?, ?B/s]"
      ]
     },
     "metadata": {},
     "output_type": "display_data"
    },
    {
     "data": {
      "application/vnd.jupyter.widget-view+json": {
       "model_id": "bb840e244be541ccbf7ecc0a5def904f",
       "version_major": 2,
       "version_minor": 0
      },
      "text/plain": [
       "sci_xrsf-l2-flx1s_g16_d20180403_v2-1-0.nc:   0%|          | 0.00/5.10M [00:00<?, ?B/s]"
      ]
     },
     "metadata": {},
     "output_type": "display_data"
    },
    {
     "data": {
      "application/vnd.jupyter.widget-view+json": {
       "model_id": "fec7402952d64a98bb57f7124d60a3ea",
       "version_major": 2,
       "version_minor": 0
      },
      "text/plain": [
       "sci_xrsf-l2-flx1s_g16_d20180402_v2-1-0.nc:   0%|          | 0.00/5.10M [00:00<?, ?B/s]"
      ]
     },
     "metadata": {},
     "output_type": "display_data"
    },
    {
     "data": {
      "application/vnd.jupyter.widget-view+json": {
       "model_id": "3fb5fba1d29148cb8050eb139a8f1318",
       "version_major": 2,
       "version_minor": 0
      },
      "text/plain": [
       "sci_xrsf-l2-flx1s_g16_d20180404_v2-1-0.nc:   0%|          | 0.00/5.07M [00:00<?, ?B/s]"
      ]
     },
     "metadata": {},
     "output_type": "display_data"
    },
    {
     "data": {
      "application/vnd.jupyter.widget-view+json": {
       "model_id": "bbe69654263e4f609d97d22e225d185a",
       "version_major": 2,
       "version_minor": 0
      },
      "text/plain": [
       "sci_xrsf-l2-flx1s_g16_d20180408_v2-1-0.nc:   0%|          | 0.00/5.07M [00:00<?, ?B/s]"
      ]
     },
     "metadata": {},
     "output_type": "display_data"
    },
    {
     "data": {
      "application/vnd.jupyter.widget-view+json": {
       "model_id": "a25205104b42472cbb9b079b968caaa6",
       "version_major": 2,
       "version_minor": 0
      },
      "text/plain": [
       "sci_xrsf-l2-flx1s_g16_d20180407_v2-1-0.nc:   0%|          | 0.00/5.07M [00:00<?, ?B/s]"
      ]
     },
     "metadata": {},
     "output_type": "display_data"
    },
    {
     "data": {
      "application/vnd.jupyter.widget-view+json": {
       "model_id": "76fb0fe76acc4df79680f520c2c14350",
       "version_major": 2,
       "version_minor": 0
      },
      "text/plain": [
       "sci_xrsf-l2-flx1s_g16_d20180409_v2-1-0.nc:   0%|          | 0.00/4.98M [00:00<?, ?B/s]"
      ]
     },
     "metadata": {},
     "output_type": "display_data"
    },
    {
     "data": {
      "application/vnd.jupyter.widget-view+json": {
       "model_id": "d07972693f4a40cda7c5a7703eeb714a",
       "version_major": 2,
       "version_minor": 0
      },
      "text/plain": [
       "sci_xrsf-l2-flx1s_g16_d20180406_v2-1-0.nc:   0%|          | 0.00/5.06M [00:00<?, ?B/s]"
      ]
     },
     "metadata": {},
     "output_type": "display_data"
    },
    {
     "data": {
      "application/vnd.jupyter.widget-view+json": {
       "model_id": "c533e7f192a9408181b1f82f248727cd",
       "version_major": 2,
       "version_minor": 0
      },
      "text/plain": [
       "sci_xrsf-l2-flx1s_g16_d20180410_v2-1-0.nc:   0%|          | 0.00/5.06M [00:00<?, ?B/s]"
      ]
     },
     "metadata": {},
     "output_type": "display_data"
    },
    {
     "data": {
      "application/vnd.jupyter.widget-view+json": {
       "model_id": "05c128eef7454f08826ef4703e265d96",
       "version_major": 2,
       "version_minor": 0
      },
      "text/plain": [
       "sci_xrsf-l2-flx1s_g16_d20180412_v2-1-0.nc:   0%|          | 0.00/5.07M [00:00<?, ?B/s]"
      ]
     },
     "metadata": {},
     "output_type": "display_data"
    },
    {
     "data": {
      "application/vnd.jupyter.widget-view+json": {
       "model_id": "c8bf2aa104f14b83b07119be78749422",
       "version_major": 2,
       "version_minor": 0
      },
      "text/plain": [
       "sci_xrsf-l2-flx1s_g16_d20180413_v2-1-0.nc:   0%|          | 0.00/5.04M [00:00<?, ?B/s]"
      ]
     },
     "metadata": {},
     "output_type": "display_data"
    },
    {
     "data": {
      "application/vnd.jupyter.widget-view+json": {
       "model_id": "2734129e30894fe08bd5efaf13e7dbf1",
       "version_major": 2,
       "version_minor": 0
      },
      "text/plain": [
       "sci_xrsf-l2-flx1s_g16_d20180414_v2-1-0.nc:   0%|          | 0.00/5.03M [00:00<?, ?B/s]"
      ]
     },
     "metadata": {},
     "output_type": "display_data"
    },
    {
     "data": {
      "application/vnd.jupyter.widget-view+json": {
       "model_id": "3573a95daf974376b713ce0c5646a681",
       "version_major": 2,
       "version_minor": 0
      },
      "text/plain": [
       "sci_xrsf-l2-flx1s_g16_d20180411_v2-1-0.nc:   0%|          | 0.00/4.45M [00:00<?, ?B/s]"
      ]
     },
     "metadata": {},
     "output_type": "display_data"
    },
    {
     "data": {
      "application/vnd.jupyter.widget-view+json": {
       "model_id": "b283a02ea6ac4222b2d0c78fa2999f65",
       "version_major": 2,
       "version_minor": 0
      },
      "text/plain": [
       "sci_xrsf-l2-flx1s_g16_d20180415_v2-1-0.nc:   0%|          | 0.00/5.03M [00:00<?, ?B/s]"
      ]
     },
     "metadata": {},
     "output_type": "display_data"
    },
    {
     "data": {
      "application/vnd.jupyter.widget-view+json": {
       "model_id": "57b1b745c815418a95f36052f374e0a6",
       "version_major": 2,
       "version_minor": 0
      },
      "text/plain": [
       "sci_xrsf-l2-flx1s_g16_d20180418_v2-1-0.nc:   0%|          | 0.00/5.03M [00:00<?, ?B/s]"
      ]
     },
     "metadata": {},
     "output_type": "display_data"
    },
    {
     "data": {
      "application/vnd.jupyter.widget-view+json": {
       "model_id": "74cf8e64a9d249388efeb0b45ae086a8",
       "version_major": 2,
       "version_minor": 0
      },
      "text/plain": [
       "sci_xrsf-l2-flx1s_g16_d20180416_v2-1-0.nc:   0%|          | 0.00/5.03M [00:00<?, ?B/s]"
      ]
     },
     "metadata": {},
     "output_type": "display_data"
    },
    {
     "data": {
      "application/vnd.jupyter.widget-view+json": {
       "model_id": "62648269e18342a1affdd14d5d12eedf",
       "version_major": 2,
       "version_minor": 0
      },
      "text/plain": [
       "sci_xrsf-l2-flx1s_g16_d20180419_v2-1-0.nc:   0%|          | 0.00/5.01M [00:00<?, ?B/s]"
      ]
     },
     "metadata": {},
     "output_type": "display_data"
    },
    {
     "data": {
      "application/vnd.jupyter.widget-view+json": {
       "model_id": "91a43656b247413ca898febb20f1039d",
       "version_major": 2,
       "version_minor": 0
      },
      "text/plain": [
       "sci_xrsf-l2-flx1s_g16_d20180417_v2-1-0.nc:   0%|          | 0.00/5.03M [00:00<?, ?B/s]"
      ]
     },
     "metadata": {},
     "output_type": "display_data"
    },
    {
     "data": {
      "application/vnd.jupyter.widget-view+json": {
       "model_id": "f37a343f7c4243bb8c405e3dcdb62490",
       "version_major": 2,
       "version_minor": 0
      },
      "text/plain": [
       "sci_xrsf-l2-flx1s_g16_d20180423_v2-1-0.nc:   0%|          | 0.00/5.05M [00:00<?, ?B/s]"
      ]
     },
     "metadata": {},
     "output_type": "display_data"
    },
    {
     "data": {
      "application/vnd.jupyter.widget-view+json": {
       "model_id": "9a1effadaa634e5ea87d7bd13f1fc6d6",
       "version_major": 2,
       "version_minor": 0
      },
      "text/plain": [
       "sci_xrsf-l2-flx1s_g16_d20180422_v2-1-0.nc:   0%|          | 0.00/5.06M [00:00<?, ?B/s]"
      ]
     },
     "metadata": {},
     "output_type": "display_data"
    },
    {
     "data": {
      "application/vnd.jupyter.widget-view+json": {
       "model_id": "a1de290671f942f39b184058975e820c",
       "version_major": 2,
       "version_minor": 0
      },
      "text/plain": [
       "sci_xrsf-l2-flx1s_g16_d20180421_v2-1-0.nc:   0%|          | 0.00/5.05M [00:00<?, ?B/s]"
      ]
     },
     "metadata": {},
     "output_type": "display_data"
    },
    {
     "data": {
      "application/vnd.jupyter.widget-view+json": {
       "model_id": "ef0a447d56e74b78ac71a5da736ab1ac",
       "version_major": 2,
       "version_minor": 0
      },
      "text/plain": [
       "sci_xrsf-l2-flx1s_g16_d20180424_v2-1-0.nc:   0%|          | 0.00/5.04M [00:00<?, ?B/s]"
      ]
     },
     "metadata": {},
     "output_type": "display_data"
    },
    {
     "data": {
      "application/vnd.jupyter.widget-view+json": {
       "model_id": "e8033a0edaed478ebc10b8ab87079a50",
       "version_major": 2,
       "version_minor": 0
      },
      "text/plain": [
       "sci_xrsf-l2-flx1s_g16_d20180420_v2-1-0.nc:   0%|          | 0.00/5.02M [00:00<?, ?B/s]"
      ]
     },
     "metadata": {},
     "output_type": "display_data"
    },
    {
     "data": {
      "application/vnd.jupyter.widget-view+json": {
       "model_id": "f30ce4a26c0446a2a5bed2f3bdafb436",
       "version_major": 2,
       "version_minor": 0
      },
      "text/plain": [
       "sci_xrsf-l2-flx1s_g16_d20180428_v2-1-0.nc:   0%|          | 0.00/5.00M [00:00<?, ?B/s]"
      ]
     },
     "metadata": {},
     "output_type": "display_data"
    },
    {
     "data": {
      "application/vnd.jupyter.widget-view+json": {
       "model_id": "3cc27b06f8be471ebb2e74dd45eafbba",
       "version_major": 2,
       "version_minor": 0
      },
      "text/plain": [
       "sci_xrsf-l2-flx1s_g16_d20180429_v2-1-0.nc:   0%|          | 0.00/5.02M [00:00<?, ?B/s]"
      ]
     },
     "metadata": {},
     "output_type": "display_data"
    },
    {
     "data": {
      "application/vnd.jupyter.widget-view+json": {
       "model_id": "614abdb5ee21456eaa1815ebe3ebbfef",
       "version_major": 2,
       "version_minor": 0
      },
      "text/plain": [
       "sci_xrsf-l2-flx1s_g16_d20180425_v2-1-0.nc:   0%|          | 0.00/5.01M [00:00<?, ?B/s]"
      ]
     },
     "metadata": {},
     "output_type": "display_data"
    },
    {
     "data": {
      "application/vnd.jupyter.widget-view+json": {
       "model_id": "0b26b28800ed4e569a99161180ae0128",
       "version_major": 2,
       "version_minor": 0
      },
      "text/plain": [
       "sci_xrsf-l2-flx1s_g16_d20180426_v2-1-0.nc:   0%|          | 0.00/5.01M [00:00<?, ?B/s]"
      ]
     },
     "metadata": {},
     "output_type": "display_data"
    },
    {
     "data": {
      "application/vnd.jupyter.widget-view+json": {
       "model_id": "6b4712320af54ddaa7deaf61eaf214d6",
       "version_major": 2,
       "version_minor": 0
      },
      "text/plain": [
       "sci_xrsf-l2-flx1s_g16_d20180427_v2-1-0.nc:   0%|          | 0.00/5.01M [00:00<?, ?B/s]"
      ]
     },
     "metadata": {},
     "output_type": "display_data"
    },
    {
     "data": {
      "application/vnd.jupyter.widget-view+json": {
       "model_id": "40a81703e5e64e86b30959372b1d33a5",
       "version_major": 2,
       "version_minor": 0
      },
      "text/plain": [
       "sci_xrsf-l2-flx1s_g16_d20180430_v2-1-0.nc:   0%|          | 0.00/5.02M [00:00<?, ?B/s]"
      ]
     },
     "metadata": {},
     "output_type": "display_data"
    },
    {
     "data": {
      "application/vnd.jupyter.widget-view+json": {
       "model_id": "ad4418e4e1a84ac496fc8853983ac8b9",
       "version_major": 2,
       "version_minor": 0
      },
      "text/plain": [
       "sci_xrsf-l2-flx1s_g16_d20180501_v2-1-0.nc:   0%|          | 0.00/5.02M [00:00<?, ?B/s]"
      ]
     },
     "metadata": {},
     "output_type": "display_data"
    },
    {
     "data": {
      "application/vnd.jupyter.widget-view+json": {
       "model_id": "c7b5d70d6d07499490599addd39a56a9",
       "version_major": 2,
       "version_minor": 0
      },
      "text/plain": [
       "sci_xrsf-l2-flx1s_g16_d20180503_v2-1-0.nc:   0%|          | 0.00/5.02M [00:00<?, ?B/s]"
      ]
     },
     "metadata": {},
     "output_type": "display_data"
    },
    {
     "data": {
      "application/vnd.jupyter.widget-view+json": {
       "model_id": "a32aa2d2534b41c6946311af2a13667c",
       "version_major": 2,
       "version_minor": 0
      },
      "text/plain": [
       "sci_xrsf-l2-flx1s_g16_d20180502_v2-1-0.nc:   0%|          | 0.00/5.02M [00:00<?, ?B/s]"
      ]
     },
     "metadata": {},
     "output_type": "display_data"
    },
    {
     "data": {
      "application/vnd.jupyter.widget-view+json": {
       "model_id": "98b445adb1b34411be7a405db0ab180d",
       "version_major": 2,
       "version_minor": 0
      },
      "text/plain": [
       "sci_xrsf-l2-flx1s_g16_d20180504_v2-1-0.nc:   0%|          | 0.00/5.01M [00:00<?, ?B/s]"
      ]
     },
     "metadata": {},
     "output_type": "display_data"
    },
    {
     "data": {
      "application/vnd.jupyter.widget-view+json": {
       "model_id": "d36b2b0a525848a0a4ead4607fc7fbda",
       "version_major": 2,
       "version_minor": 0
      },
      "text/plain": [
       "sci_xrsf-l2-flx1s_g16_d20180505_v2-1-0.nc:   0%|          | 0.00/5.02M [00:00<?, ?B/s]"
      ]
     },
     "metadata": {},
     "output_type": "display_data"
    },
    {
     "data": {
      "application/vnd.jupyter.widget-view+json": {
       "model_id": "bc0f28b78ef14a63a0a3eaed5ea0cc52",
       "version_major": 2,
       "version_minor": 0
      },
      "text/plain": [
       "sci_xrsf-l2-flx1s_g16_d20180508_v2-1-0.nc:   0%|          | 0.00/5.05M [00:00<?, ?B/s]"
      ]
     },
     "metadata": {},
     "output_type": "display_data"
    },
    {
     "data": {
      "application/vnd.jupyter.widget-view+json": {
       "model_id": "6a194751ecb04b4a816725ed0d63f695",
       "version_major": 2,
       "version_minor": 0
      },
      "text/plain": [
       "sci_xrsf-l2-flx1s_g16_d20180506_v2-1-0.nc:   0%|          | 0.00/5.04M [00:00<?, ?B/s]"
      ]
     },
     "metadata": {},
     "output_type": "display_data"
    },
    {
     "data": {
      "application/vnd.jupyter.widget-view+json": {
       "model_id": "738253a6d6a5401e972c07ce59daa96a",
       "version_major": 2,
       "version_minor": 0
      },
      "text/plain": [
       "sci_xrsf-l2-flx1s_g16_d20180507_v2-1-0.nc:   0%|          | 0.00/5.03M [00:00<?, ?B/s]"
      ]
     },
     "metadata": {},
     "output_type": "display_data"
    },
    {
     "data": {
      "application/vnd.jupyter.widget-view+json": {
       "model_id": "5540ea581a0b4c14935b6236db3da293",
       "version_major": 2,
       "version_minor": 0
      },
      "text/plain": [
       "sci_xrsf-l2-flx1s_g16_d20180512_v2-1-0.nc:   0%|          | 0.00/5.05M [00:00<?, ?B/s]"
      ]
     },
     "metadata": {},
     "output_type": "display_data"
    },
    {
     "data": {
      "application/vnd.jupyter.widget-view+json": {
       "model_id": "3d96bc53ad074f6f81f672666655eb78",
       "version_major": 2,
       "version_minor": 0
      },
      "text/plain": [
       "sci_xrsf-l2-flx1s_g16_d20180510_v2-1-0.nc:   0%|          | 0.00/5.08M [00:00<?, ?B/s]"
      ]
     },
     "metadata": {},
     "output_type": "display_data"
    },
    {
     "data": {
      "application/vnd.jupyter.widget-view+json": {
       "model_id": "61f0ae91e4cb4f04a86f88cf7753aede",
       "version_major": 2,
       "version_minor": 0
      },
      "text/plain": [
       "sci_xrsf-l2-flx1s_g16_d20180511_v2-1-0.nc:   0%|          | 0.00/5.07M [00:00<?, ?B/s]"
      ]
     },
     "metadata": {},
     "output_type": "display_data"
    },
    {
     "data": {
      "application/vnd.jupyter.widget-view+json": {
       "model_id": "e47b99b3275f45db9c65d809986c6f1b",
       "version_major": 2,
       "version_minor": 0
      },
      "text/plain": [
       "sci_xrsf-l2-flx1s_g16_d20180513_v2-1-0.nc:   0%|          | 0.00/5.04M [00:00<?, ?B/s]"
      ]
     },
     "metadata": {},
     "output_type": "display_data"
    },
    {
     "data": {
      "application/vnd.jupyter.widget-view+json": {
       "model_id": "5aa93adbb0874d8d9255da46b31fb641",
       "version_major": 2,
       "version_minor": 0
      },
      "text/plain": [
       "sci_xrsf-l2-flx1s_g16_d20180509_v2-1-0.nc:   0%|          | 0.00/5.07M [00:00<?, ?B/s]"
      ]
     },
     "metadata": {},
     "output_type": "display_data"
    },
    {
     "data": {
      "application/vnd.jupyter.widget-view+json": {
       "model_id": "fe512e5af83e42fa9e79c69fa83b7a5a",
       "version_major": 2,
       "version_minor": 0
      },
      "text/plain": [
       "sci_xrsf-l2-flx1s_g16_d20180518_v2-1-0.nc:   0%|          | 0.00/5.02M [00:00<?, ?B/s]"
      ]
     },
     "metadata": {},
     "output_type": "display_data"
    },
    {
     "data": {
      "application/vnd.jupyter.widget-view+json": {
       "model_id": "f827544d47b94e1086e6de1baee21b27",
       "version_major": 2,
       "version_minor": 0
      },
      "text/plain": [
       "sci_xrsf-l2-flx1s_g16_d20180515_v2-1-0.nc:   0%|          | 0.00/5.05M [00:00<?, ?B/s]"
      ]
     },
     "metadata": {},
     "output_type": "display_data"
    },
    {
     "data": {
      "application/vnd.jupyter.widget-view+json": {
       "model_id": "ff00adb83ebb42329658038fd78d99b8",
       "version_major": 2,
       "version_minor": 0
      },
      "text/plain": [
       "sci_xrsf-l2-flx1s_g16_d20180517_v2-1-0.nc:   0%|          | 0.00/5.02M [00:00<?, ?B/s]"
      ]
     },
     "metadata": {},
     "output_type": "display_data"
    },
    {
     "data": {
      "application/vnd.jupyter.widget-view+json": {
       "model_id": "efd92e6a51ff4f59a9dc93f17a2a5c1e",
       "version_major": 2,
       "version_minor": 0
      },
      "text/plain": [
       "sci_xrsf-l2-flx1s_g16_d20180514_v2-1-0.nc:   0%|          | 0.00/5.04M [00:00<?, ?B/s]"
      ]
     },
     "metadata": {},
     "output_type": "display_data"
    },
    {
     "data": {
      "application/vnd.jupyter.widget-view+json": {
       "model_id": "1042171b6e0d4fdca72b417e837478d4",
       "version_major": 2,
       "version_minor": 0
      },
      "text/plain": [
       "sci_xrsf-l2-flx1s_g16_d20180516_v2-1-0.nc:   0%|          | 0.00/5.03M [00:00<?, ?B/s]"
      ]
     },
     "metadata": {},
     "output_type": "display_data"
    },
    {
     "data": {
      "application/vnd.jupyter.widget-view+json": {
       "model_id": "b37809ebfbab4dfd82159deb8f24881b",
       "version_major": 2,
       "version_minor": 0
      },
      "text/plain": [
       "sci_xrsf-l2-flx1s_g16_d20180522_v2-1-0.nc:   0%|          | 0.00/5.01M [00:00<?, ?B/s]"
      ]
     },
     "metadata": {},
     "output_type": "display_data"
    },
    {
     "data": {
      "application/vnd.jupyter.widget-view+json": {
       "model_id": "314184eb51bd426bbf69b449029ae44b",
       "version_major": 2,
       "version_minor": 0
      },
      "text/plain": [
       "sci_xrsf-l2-flx1s_g16_d20180519_v2-1-0.nc:   0%|          | 0.00/5.02M [00:00<?, ?B/s]"
      ]
     },
     "metadata": {},
     "output_type": "display_data"
    },
    {
     "data": {
      "application/vnd.jupyter.widget-view+json": {
       "model_id": "0f88c70ab2604449b1a5b76c3095a298",
       "version_major": 2,
       "version_minor": 0
      },
      "text/plain": [
       "sci_xrsf-l2-flx1s_g16_d20180521_v2-1-0.nc:   0%|          | 0.00/5.02M [00:00<?, ?B/s]"
      ]
     },
     "metadata": {},
     "output_type": "display_data"
    },
    {
     "data": {
      "application/vnd.jupyter.widget-view+json": {
       "model_id": "724789dfd9b94b4d939ee6658950124b",
       "version_major": 2,
       "version_minor": 0
      },
      "text/plain": [
       "sci_xrsf-l2-flx1s_g16_d20180520_v2-1-0.nc:   0%|          | 0.00/5.02M [00:00<?, ?B/s]"
      ]
     },
     "metadata": {},
     "output_type": "display_data"
    },
    {
     "data": {
      "application/vnd.jupyter.widget-view+json": {
       "model_id": "b664ca00050a4752a5c07e38bae72d74",
       "version_major": 2,
       "version_minor": 0
      },
      "text/plain": [
       "sci_xrsf-l2-flx1s_g16_d20180523_v2-1-0.nc:   0%|          | 0.00/5.01M [00:00<?, ?B/s]"
      ]
     },
     "metadata": {},
     "output_type": "display_data"
    },
    {
     "data": {
      "application/vnd.jupyter.widget-view+json": {
       "model_id": "de292a6b31b446e4aea6d1034fe8dcb7",
       "version_major": 2,
       "version_minor": 0
      },
      "text/plain": [
       "sci_xrsf-l2-flx1s_g16_d20180526_v2-1-0.nc:   0%|          | 0.00/5.01M [00:00<?, ?B/s]"
      ]
     },
     "metadata": {},
     "output_type": "display_data"
    },
    {
     "data": {
      "application/vnd.jupyter.widget-view+json": {
       "model_id": "3d865b34e6e7417c8f0fdc8c5f1ee15c",
       "version_major": 2,
       "version_minor": 0
      },
      "text/plain": [
       "sci_xrsf-l2-flx1s_g16_d20180527_v2-1-0.nc:   0%|          | 0.00/5.00M [00:00<?, ?B/s]"
      ]
     },
     "metadata": {},
     "output_type": "display_data"
    },
    {
     "data": {
      "application/vnd.jupyter.widget-view+json": {
       "model_id": "c64a8aef30e44c8fbb54c46ab3f43e46",
       "version_major": 2,
       "version_minor": 0
      },
      "text/plain": [
       "sci_xrsf-l2-flx1s_g16_d20180524_v2-1-0.nc:   0%|          | 0.00/5.02M [00:00<?, ?B/s]"
      ]
     },
     "metadata": {},
     "output_type": "display_data"
    },
    {
     "data": {
      "application/vnd.jupyter.widget-view+json": {
       "model_id": "f8baacd61728457d8631ca2b94e536e3",
       "version_major": 2,
       "version_minor": 0
      },
      "text/plain": [
       "sci_xrsf-l2-flx1s_g16_d20180528_v2-1-0.nc:   0%|          | 0.00/5.01M [00:00<?, ?B/s]"
      ]
     },
     "metadata": {},
     "output_type": "display_data"
    },
    {
     "data": {
      "application/vnd.jupyter.widget-view+json": {
       "model_id": "d2a92f45bbd246b0a26916f7a77122f9",
       "version_major": 2,
       "version_minor": 0
      },
      "text/plain": [
       "sci_xrsf-l2-flx1s_g16_d20180525_v2-1-0.nc:   0%|          | 0.00/5.01M [00:00<?, ?B/s]"
      ]
     },
     "metadata": {},
     "output_type": "display_data"
    },
    {
     "data": {
      "application/vnd.jupyter.widget-view+json": {
       "model_id": "a643dcb57c5b4865bcf1aa258921b342",
       "version_major": 2,
       "version_minor": 0
      },
      "text/plain": [
       "sci_xrsf-l2-flx1s_g16_d20180529_v2-1-0.nc:   0%|          | 0.00/5.00M [00:00<?, ?B/s]"
      ]
     },
     "metadata": {},
     "output_type": "display_data"
    },
    {
     "data": {
      "application/vnd.jupyter.widget-view+json": {
       "model_id": "55c66c78258f4c1285e422e9edc4be6a",
       "version_major": 2,
       "version_minor": 0
      },
      "text/plain": [
       "sci_xrsf-l2-flx1s_g16_d20180530_v2-1-0.nc:   0%|          | 0.00/5.01M [00:00<?, ?B/s]"
      ]
     },
     "metadata": {},
     "output_type": "display_data"
    },
    {
     "data": {
      "application/vnd.jupyter.widget-view+json": {
       "model_id": "42c1064b13cd4a719c8b4118b3e9d8b0",
       "version_major": 2,
       "version_minor": 0
      },
      "text/plain": [
       "sci_xrsf-l2-flx1s_g16_d20180531_v2-1-0.nc:   0%|          | 0.00/5.00M [00:00<?, ?B/s]"
      ]
     },
     "metadata": {},
     "output_type": "display_data"
    },
    {
     "data": {
      "application/vnd.jupyter.widget-view+json": {
       "model_id": "27653e8c7676403f85619e82665d6ab6",
       "version_major": 2,
       "version_minor": 0
      },
      "text/plain": [
       "sci_xrsf-l2-flx1s_g16_d20180601_v2-1-0.nc:   0%|          | 0.00/5.02M [00:00<?, ?B/s]"
      ]
     },
     "metadata": {},
     "output_type": "display_data"
    },
    {
     "data": {
      "application/vnd.jupyter.widget-view+json": {
       "model_id": "8aa894f9a3ae4904aa250699de34be4e",
       "version_major": 2,
       "version_minor": 0
      },
      "text/plain": [
       "sci_xrsf-l2-flx1s_g16_d20180602_v2-1-0.nc:   0%|          | 0.00/5.04M [00:00<?, ?B/s]"
      ]
     },
     "metadata": {},
     "output_type": "display_data"
    },
    {
     "data": {
      "application/vnd.jupyter.widget-view+json": {
       "model_id": "569b41665f3a47cbac2d361142fd0610",
       "version_major": 2,
       "version_minor": 0
      },
      "text/plain": [
       "sci_xrsf-l2-flx1s_g16_d20180603_v2-1-0.nc:   0%|          | 0.00/5.04M [00:00<?, ?B/s]"
      ]
     },
     "metadata": {},
     "output_type": "display_data"
    },
    {
     "data": {
      "application/vnd.jupyter.widget-view+json": {
       "model_id": "8b168df7dacb40be86266d80e4f6815b",
       "version_major": 2,
       "version_minor": 0
      },
      "text/plain": [
       "sci_xrsf-l2-flx1s_g16_d20180604_v2-1-0.nc:   0%|          | 0.00/5.05M [00:00<?, ?B/s]"
      ]
     },
     "metadata": {},
     "output_type": "display_data"
    },
    {
     "data": {
      "application/vnd.jupyter.widget-view+json": {
       "model_id": "624d4885ed3f4c76864a04318d7666e5",
       "version_major": 2,
       "version_minor": 0
      },
      "text/plain": [
       "sci_xrsf-l2-flx1s_g16_d20180606_v2-1-0.nc:   0%|          | 0.00/5.05M [00:00<?, ?B/s]"
      ]
     },
     "metadata": {},
     "output_type": "display_data"
    },
    {
     "data": {
      "application/vnd.jupyter.widget-view+json": {
       "model_id": "c43797731f574629bb0bd94b4c918a6d",
       "version_major": 2,
       "version_minor": 0
      },
      "text/plain": [
       "sci_xrsf-l2-flx1s_g16_d20180609_v2-1-0.nc:   0%|          | 0.00/5.02M [00:00<?, ?B/s]"
      ]
     },
     "metadata": {},
     "output_type": "display_data"
    },
    {
     "data": {
      "application/vnd.jupyter.widget-view+json": {
       "model_id": "e23e6b2814ba4a0ab2c19ebe0313879f",
       "version_major": 2,
       "version_minor": 0
      },
      "text/plain": [
       "sci_xrsf-l2-flx1s_g16_d20180608_v2-1-0.nc:   0%|          | 0.00/5.01M [00:00<?, ?B/s]"
      ]
     },
     "metadata": {},
     "output_type": "display_data"
    },
    {
     "data": {
      "application/vnd.jupyter.widget-view+json": {
       "model_id": "cdac93f3d2c2487ea21ca8ee720e4789",
       "version_major": 2,
       "version_minor": 0
      },
      "text/plain": [
       "sci_xrsf-l2-flx1s_g16_d20180605_v2-1-0.nc:   0%|          | 0.00/5.04M [00:00<?, ?B/s]"
      ]
     },
     "metadata": {},
     "output_type": "display_data"
    },
    {
     "data": {
      "application/vnd.jupyter.widget-view+json": {
       "model_id": "d50ddbef709b4cdf990bf915a5857218",
       "version_major": 2,
       "version_minor": 0
      },
      "text/plain": [
       "sci_xrsf-l2-flx1s_g16_d20180607_v2-1-0.nc:   0%|          | 0.00/5.01M [00:00<?, ?B/s]"
      ]
     },
     "metadata": {},
     "output_type": "display_data"
    },
    {
     "data": {
      "application/vnd.jupyter.widget-view+json": {
       "model_id": "57db0b3b35984c2ba1886e139acd5e78",
       "version_major": 2,
       "version_minor": 0
      },
      "text/plain": [
       "sci_xrsf-l2-flx1s_g16_d20180614_v2-1-0.nc:   0%|          | 0.00/5.01M [00:00<?, ?B/s]"
      ]
     },
     "metadata": {},
     "output_type": "display_data"
    },
    {
     "data": {
      "application/vnd.jupyter.widget-view+json": {
       "model_id": "afff1e3eefac499886bb9e492c732a71",
       "version_major": 2,
       "version_minor": 0
      },
      "text/plain": [
       "sci_xrsf-l2-flx1s_g16_d20180612_v2-1-0.nc:   0%|          | 0.00/4.94M [00:00<?, ?B/s]"
      ]
     },
     "metadata": {},
     "output_type": "display_data"
    },
    {
     "data": {
      "application/vnd.jupyter.widget-view+json": {
       "model_id": "f848d1f2810a463dbf51f4da618c0f53",
       "version_major": 2,
       "version_minor": 0
      },
      "text/plain": [
       "sci_xrsf-l2-flx1s_g16_d20180611_v2-1-0.nc:   0%|          | 0.00/5.00M [00:00<?, ?B/s]"
      ]
     },
     "metadata": {},
     "output_type": "display_data"
    },
    {
     "data": {
      "application/vnd.jupyter.widget-view+json": {
       "model_id": "aa244481665b41ae9bb1961044388b17",
       "version_major": 2,
       "version_minor": 0
      },
      "text/plain": [
       "sci_xrsf-l2-flx1s_g16_d20180613_v2-1-0.nc:   0%|          | 0.00/5.01M [00:00<?, ?B/s]"
      ]
     },
     "metadata": {},
     "output_type": "display_data"
    },
    {
     "data": {
      "application/vnd.jupyter.widget-view+json": {
       "model_id": "85676fa047d5485d85dcab92bc92b2ec",
       "version_major": 2,
       "version_minor": 0
      },
      "text/plain": [
       "sci_xrsf-l2-flx1s_g16_d20180610_v2-1-0.nc:   0%|          | 0.00/5.01M [00:00<?, ?B/s]"
      ]
     },
     "metadata": {},
     "output_type": "display_data"
    },
    {
     "data": {
      "application/vnd.jupyter.widget-view+json": {
       "model_id": "991674c3a868408a987701ab72dad609",
       "version_major": 2,
       "version_minor": 0
      },
      "text/plain": [
       "sci_xrsf-l2-flx1s_g16_d20180616_v2-1-0.nc:   0%|          | 0.00/5.01M [00:00<?, ?B/s]"
      ]
     },
     "metadata": {},
     "output_type": "display_data"
    },
    {
     "data": {
      "application/vnd.jupyter.widget-view+json": {
       "model_id": "c916a7d5bc5b436baaba02dde20daa4d",
       "version_major": 2,
       "version_minor": 0
      },
      "text/plain": [
       "sci_xrsf-l2-flx1s_g16_d20180618_v2-1-0.nc:   0%|          | 0.00/5.01M [00:00<?, ?B/s]"
      ]
     },
     "metadata": {},
     "output_type": "display_data"
    },
    {
     "data": {
      "application/vnd.jupyter.widget-view+json": {
       "model_id": "98b4e8a13a81475fbc0a430911952b61",
       "version_major": 2,
       "version_minor": 0
      },
      "text/plain": [
       "sci_xrsf-l2-flx1s_g16_d20180619_v2-1-0.nc:   0%|          | 0.00/5.00M [00:00<?, ?B/s]"
      ]
     },
     "metadata": {},
     "output_type": "display_data"
    },
    {
     "data": {
      "application/vnd.jupyter.widget-view+json": {
       "model_id": "0be0b037dcc649689c3ad35c3872176c",
       "version_major": 2,
       "version_minor": 0
      },
      "text/plain": [
       "sci_xrsf-l2-flx1s_g16_d20180615_v2-1-0.nc:   0%|          | 0.00/5.00M [00:00<?, ?B/s]"
      ]
     },
     "metadata": {},
     "output_type": "display_data"
    },
    {
     "data": {
      "application/vnd.jupyter.widget-view+json": {
       "model_id": "5b740b8e5d1647e58c02e53d21d7d1df",
       "version_major": 2,
       "version_minor": 0
      },
      "text/plain": [
       "sci_xrsf-l2-flx1s_g16_d20180617_v2-1-0.nc:   0%|          | 0.00/5.00M [00:00<?, ?B/s]"
      ]
     },
     "metadata": {},
     "output_type": "display_data"
    },
    {
     "data": {
      "application/vnd.jupyter.widget-view+json": {
       "model_id": "a52ec193ca844489b64a75b93a567b6b",
       "version_major": 2,
       "version_minor": 0
      },
      "text/plain": [
       "sci_xrsf-l2-flx1s_g16_d20180620_v2-1-0.nc:   0%|          | 0.00/4.99M [00:00<?, ?B/s]"
      ]
     },
     "metadata": {},
     "output_type": "display_data"
    },
    {
     "data": {
      "application/vnd.jupyter.widget-view+json": {
       "model_id": "44f7597ef1734a2aa1e7a4725299c300",
       "version_major": 2,
       "version_minor": 0
      },
      "text/plain": [
       "sci_xrsf-l2-flx1s_g16_d20180624_v2-1-0.nc:   0%|          | 0.00/5.00M [00:00<?, ?B/s]"
      ]
     },
     "metadata": {},
     "output_type": "display_data"
    },
    {
     "data": {
      "application/vnd.jupyter.widget-view+json": {
       "model_id": "f019cdbd723c476893749c77bc3e2cf3",
       "version_major": 2,
       "version_minor": 0
      },
      "text/plain": [
       "sci_xrsf-l2-flx1s_g16_d20180622_v2-1-0.nc:   0%|          | 0.00/1.75M [00:00<?, ?B/s]"
      ]
     },
     "metadata": {},
     "output_type": "display_data"
    },
    {
     "data": {
      "application/vnd.jupyter.widget-view+json": {
       "model_id": "951323056156488aa07a701082722ce8",
       "version_major": 2,
       "version_minor": 0
      },
      "text/plain": [
       "sci_xrsf-l2-flx1s_g16_d20180621_v2-1-0.nc:   0%|          | 0.00/5.00M [00:00<?, ?B/s]"
      ]
     },
     "metadata": {},
     "output_type": "display_data"
    },
    {
     "data": {
      "application/vnd.jupyter.widget-view+json": {
       "model_id": "fc48140446e345169624771a73d50f63",
       "version_major": 2,
       "version_minor": 0
      },
      "text/plain": [
       "sci_xrsf-l2-flx1s_g16_d20180623_v2-1-0.nc:   0%|          | 0.00/4.99M [00:00<?, ?B/s]"
      ]
     },
     "metadata": {},
     "output_type": "display_data"
    },
    {
     "data": {
      "application/vnd.jupyter.widget-view+json": {
       "model_id": "864da5cff6474003a8c9f8d7a1101d03",
       "version_major": 2,
       "version_minor": 0
      },
      "text/plain": [
       "sci_xrsf-l2-flx1s_g16_d20180625_v2-1-0.nc:   0%|          | 0.00/5.01M [00:00<?, ?B/s]"
      ]
     },
     "metadata": {},
     "output_type": "display_data"
    },
    {
     "data": {
      "application/vnd.jupyter.widget-view+json": {
       "model_id": "e2523785ebcb463bb345267be6114ca5",
       "version_major": 2,
       "version_minor": 0
      },
      "text/plain": [
       "sci_xrsf-l2-flx1s_g16_d20180629_v2-1-0.nc:   0%|          | 0.00/5.03M [00:00<?, ?B/s]"
      ]
     },
     "metadata": {},
     "output_type": "display_data"
    },
    {
     "data": {
      "application/vnd.jupyter.widget-view+json": {
       "model_id": "dc8619b73da941d08411d8ceea158de3",
       "version_major": 2,
       "version_minor": 0
      },
      "text/plain": [
       "sci_xrsf-l2-flx1s_g16_d20180628_v2-1-0.nc:   0%|          | 0.00/5.05M [00:00<?, ?B/s]"
      ]
     },
     "metadata": {},
     "output_type": "display_data"
    },
    {
     "data": {
      "application/vnd.jupyter.widget-view+json": {
       "model_id": "24dfd74f9b62460b84ee73cc26fdcb7e",
       "version_major": 2,
       "version_minor": 0
      },
      "text/plain": [
       "sci_xrsf-l2-flx1s_g16_d20180627_v2-1-0.nc:   0%|          | 0.00/5.04M [00:00<?, ?B/s]"
      ]
     },
     "metadata": {},
     "output_type": "display_data"
    },
    {
     "data": {
      "application/vnd.jupyter.widget-view+json": {
       "model_id": "a957a986103b488b9c256cf71e5f277f",
       "version_major": 2,
       "version_minor": 0
      },
      "text/plain": [
       "sci_xrsf-l2-flx1s_g16_d20180626_v2-1-0.nc:   0%|          | 0.00/5.02M [00:00<?, ?B/s]"
      ]
     },
     "metadata": {},
     "output_type": "display_data"
    },
    {
     "data": {
      "application/vnd.jupyter.widget-view+json": {
       "model_id": "e95cd096ecf944e48437392d15087f96",
       "version_major": 2,
       "version_minor": 0
      },
      "text/plain": [
       "sci_xrsf-l2-flx1s_g16_d20180703_v2-1-0.nc:   0%|          | 0.00/5.02M [00:00<?, ?B/s]"
      ]
     },
     "metadata": {},
     "output_type": "display_data"
    },
    {
     "data": {
      "application/vnd.jupyter.widget-view+json": {
       "model_id": "81ff90b353654d7caaf3254b49faa469",
       "version_major": 2,
       "version_minor": 0
      },
      "text/plain": [
       "sci_xrsf-l2-flx1s_g16_d20180704_v2-1-0.nc:   0%|          | 0.00/5.02M [00:00<?, ?B/s]"
      ]
     },
     "metadata": {},
     "output_type": "display_data"
    },
    {
     "data": {
      "application/vnd.jupyter.widget-view+json": {
       "model_id": "96e8194b37064d6a8127097658345eab",
       "version_major": 2,
       "version_minor": 0
      },
      "text/plain": [
       "sci_xrsf-l2-flx1s_g16_d20180702_v2-1-0.nc:   0%|          | 0.00/5.01M [00:00<?, ?B/s]"
      ]
     },
     "metadata": {},
     "output_type": "display_data"
    },
    {
     "data": {
      "application/vnd.jupyter.widget-view+json": {
       "model_id": "99614ddcb3be4235a1f36298ae871086",
       "version_major": 2,
       "version_minor": 0
      },
      "text/plain": [
       "sci_xrsf-l2-flx1s_g16_d20180630_v2-1-0.nc:   0%|          | 0.00/5.02M [00:00<?, ?B/s]"
      ]
     },
     "metadata": {},
     "output_type": "display_data"
    },
    {
     "data": {
      "application/vnd.jupyter.widget-view+json": {
       "model_id": "3e0d41817e2f4b618d755535c9b04ec8",
       "version_major": 2,
       "version_minor": 0
      },
      "text/plain": [
       "sci_xrsf-l2-flx1s_g16_d20180701_v2-1-0.nc:   0%|          | 0.00/5.03M [00:00<?, ?B/s]"
      ]
     },
     "metadata": {},
     "output_type": "display_data"
    },
    {
     "data": {
      "application/vnd.jupyter.widget-view+json": {
       "model_id": "11723dc6b4b049048d4884ed76208919",
       "version_major": 2,
       "version_minor": 0
      },
      "text/plain": [
       "sci_xrsf-l2-flx1s_g16_d20180707_v2-1-0.nc:   0%|          | 0.00/5.02M [00:00<?, ?B/s]"
      ]
     },
     "metadata": {},
     "output_type": "display_data"
    },
    {
     "data": {
      "application/vnd.jupyter.widget-view+json": {
       "model_id": "cb7ae7cc6c754bf8b1745022f7f3c5d7",
       "version_major": 2,
       "version_minor": 0
      },
      "text/plain": [
       "sci_xrsf-l2-flx1s_g16_d20180709_v2-1-0.nc:   0%|          | 0.00/5.02M [00:00<?, ?B/s]"
      ]
     },
     "metadata": {},
     "output_type": "display_data"
    },
    {
     "data": {
      "application/vnd.jupyter.widget-view+json": {
       "model_id": "7a1b5eac28f44a9d9f12d2b0134a640f",
       "version_major": 2,
       "version_minor": 0
      },
      "text/plain": [
       "sci_xrsf-l2-flx1s_g16_d20180705_v2-1-0.nc:   0%|          | 0.00/5.02M [00:00<?, ?B/s]"
      ]
     },
     "metadata": {},
     "output_type": "display_data"
    },
    {
     "data": {
      "application/vnd.jupyter.widget-view+json": {
       "model_id": "c3390eef92454604a83bcf2c8e363ebf",
       "version_major": 2,
       "version_minor": 0
      },
      "text/plain": [
       "sci_xrsf-l2-flx1s_g16_d20180706_v2-1-0.nc:   0%|          | 0.00/5.02M [00:00<?, ?B/s]"
      ]
     },
     "metadata": {},
     "output_type": "display_data"
    },
    {
     "data": {
      "application/vnd.jupyter.widget-view+json": {
       "model_id": "d2ab6eb5724b46cca7c4319136020596",
       "version_major": 2,
       "version_minor": 0
      },
      "text/plain": [
       "sci_xrsf-l2-flx1s_g16_d20180708_v2-1-0.nc:   0%|          | 0.00/5.01M [00:00<?, ?B/s]"
      ]
     },
     "metadata": {},
     "output_type": "display_data"
    },
    {
     "data": {
      "application/vnd.jupyter.widget-view+json": {
       "model_id": "9e6a20e669764fcd88af84298993b6f2",
       "version_major": 2,
       "version_minor": 0
      },
      "text/plain": [
       "sci_xrsf-l2-flx1s_g16_d20180729_v2-1-0.nc:   0%|          | 0.00/5.02M [00:00<?, ?B/s]"
      ]
     },
     "metadata": {},
     "output_type": "display_data"
    },
    {
     "data": {
      "application/vnd.jupyter.widget-view+json": {
       "model_id": "2289b6e401c74325945f9a4fb306fd59",
       "version_major": 2,
       "version_minor": 0
      },
      "text/plain": [
       "sci_xrsf-l2-flx1s_g16_d20180728_v2-1-0.nc:   0%|          | 0.00/5.03M [00:00<?, ?B/s]"
      ]
     },
     "metadata": {},
     "output_type": "display_data"
    },
    {
     "data": {
      "application/vnd.jupyter.widget-view+json": {
       "model_id": "db657e3bc88741b5aa853009285dc587",
       "version_major": 2,
       "version_minor": 0
      },
      "text/plain": [
       "sci_xrsf-l2-flx1s_g16_d20180727_v2-1-0.nc:   0%|          | 0.00/4.52M [00:00<?, ?B/s]"
      ]
     },
     "metadata": {},
     "output_type": "display_data"
    },
    {
     "data": {
      "application/vnd.jupyter.widget-view+json": {
       "model_id": "d1a876a36f6f42388ea7baa694959043",
       "version_major": 2,
       "version_minor": 0
      },
      "text/plain": [
       "sci_xrsf-l2-flx1s_g16_d20180731_v2-1-0.nc:   0%|          | 0.00/5.02M [00:00<?, ?B/s]"
      ]
     },
     "metadata": {},
     "output_type": "display_data"
    },
    {
     "data": {
      "application/vnd.jupyter.widget-view+json": {
       "model_id": "405040cf547b48f4943a7bb17f185f9b",
       "version_major": 2,
       "version_minor": 0
      },
      "text/plain": [
       "sci_xrsf-l2-flx1s_g16_d20180730_v2-1-0.nc:   0%|          | 0.00/5.02M [00:00<?, ?B/s]"
      ]
     },
     "metadata": {},
     "output_type": "display_data"
    },
    {
     "data": {
      "application/vnd.jupyter.widget-view+json": {
       "model_id": "e00a7e6bac08473caecd633ebb8ca8af",
       "version_major": 2,
       "version_minor": 0
      },
      "text/plain": [
       "sci_xrsf-l2-flx1s_g16_d20180801_v2-1-0.nc:   0%|          | 0.00/5.02M [00:00<?, ?B/s]"
      ]
     },
     "metadata": {},
     "output_type": "display_data"
    },
    {
     "data": {
      "application/vnd.jupyter.widget-view+json": {
       "model_id": "e893593de23f4374911412834f41a03e",
       "version_major": 2,
       "version_minor": 0
      },
      "text/plain": [
       "sci_xrsf-l2-flx1s_g16_d20180804_v2-1-0.nc:   0%|          | 0.00/5.02M [00:00<?, ?B/s]"
      ]
     },
     "metadata": {},
     "output_type": "display_data"
    },
    {
     "data": {
      "application/vnd.jupyter.widget-view+json": {
       "model_id": "77933c54a04744ea9330c6d571f1f534",
       "version_major": 2,
       "version_minor": 0
      },
      "text/plain": [
       "sci_xrsf-l2-flx1s_g16_d20180805_v2-1-0.nc:   0%|          | 0.00/5.02M [00:00<?, ?B/s]"
      ]
     },
     "metadata": {},
     "output_type": "display_data"
    },
    {
     "data": {
      "application/vnd.jupyter.widget-view+json": {
       "model_id": "2bb6e884007342eeb1d05201304dc5e3",
       "version_major": 2,
       "version_minor": 0
      },
      "text/plain": [
       "sci_xrsf-l2-flx1s_g16_d20180802_v2-1-0.nc:   0%|          | 0.00/5.02M [00:00<?, ?B/s]"
      ]
     },
     "metadata": {},
     "output_type": "display_data"
    },
    {
     "data": {
      "application/vnd.jupyter.widget-view+json": {
       "model_id": "cf165511f36a47f2bd23d7e202d38f45",
       "version_major": 2,
       "version_minor": 0
      },
      "text/plain": [
       "sci_xrsf-l2-flx1s_g16_d20180803_v2-1-0.nc:   0%|          | 0.00/5.01M [00:00<?, ?B/s]"
      ]
     },
     "metadata": {},
     "output_type": "display_data"
    },
    {
     "data": {
      "application/vnd.jupyter.widget-view+json": {
       "model_id": "0144cc09ddf84ad995cf5201c2bad145",
       "version_major": 2,
       "version_minor": 0
      },
      "text/plain": [
       "sci_xrsf-l2-flx1s_g16_d20180808_v2-1-0.nc:   0%|          | 0.00/5.03M [00:00<?, ?B/s]"
      ]
     },
     "metadata": {},
     "output_type": "display_data"
    },
    {
     "data": {
      "application/vnd.jupyter.widget-view+json": {
       "model_id": "69cac1ac01fb403b8124cb0923178136",
       "version_major": 2,
       "version_minor": 0
      },
      "text/plain": [
       "sci_xrsf-l2-flx1s_g16_d20180806_v2-1-0.nc:   0%|          | 0.00/5.02M [00:00<?, ?B/s]"
      ]
     },
     "metadata": {},
     "output_type": "display_data"
    },
    {
     "data": {
      "application/vnd.jupyter.widget-view+json": {
       "model_id": "a26b92f875814ec0bf27f47c9d6cab54",
       "version_major": 2,
       "version_minor": 0
      },
      "text/plain": [
       "sci_xrsf-l2-flx1s_g16_d20180807_v2-1-0.nc:   0%|          | 0.00/5.02M [00:00<?, ?B/s]"
      ]
     },
     "metadata": {},
     "output_type": "display_data"
    },
    {
     "data": {
      "application/vnd.jupyter.widget-view+json": {
       "model_id": "0c6ed95b19e84fd9a1b18f1b644da05c",
       "version_major": 2,
       "version_minor": 0
      },
      "text/plain": [
       "sci_xrsf-l2-flx1s_g16_d20180809_v2-1-0.nc:   0%|          | 0.00/5.03M [00:00<?, ?B/s]"
      ]
     },
     "metadata": {},
     "output_type": "display_data"
    },
    {
     "data": {
      "application/vnd.jupyter.widget-view+json": {
       "model_id": "983db05bfa0d4e4da746997f2a6535e2",
       "version_major": 2,
       "version_minor": 0
      },
      "text/plain": [
       "sci_xrsf-l2-flx1s_g16_d20180810_v2-1-0.nc:   0%|          | 0.00/5.03M [00:00<?, ?B/s]"
      ]
     },
     "metadata": {},
     "output_type": "display_data"
    },
    {
     "data": {
      "application/vnd.jupyter.widget-view+json": {
       "model_id": "47a34ca5e82f4a2aa7867ea25a3d2ae9",
       "version_major": 2,
       "version_minor": 0
      },
      "text/plain": [
       "sci_xrsf-l2-flx1s_g16_d20180815_v2-1-0.nc:   0%|          | 0.00/5.02M [00:00<?, ?B/s]"
      ]
     },
     "metadata": {},
     "output_type": "display_data"
    },
    {
     "data": {
      "application/vnd.jupyter.widget-view+json": {
       "model_id": "6f7ef37e40f944d8a9437bc0cade9475",
       "version_major": 2,
       "version_minor": 0
      },
      "text/plain": [
       "sci_xrsf-l2-flx1s_g16_d20180811_v2-1-0.nc:   0%|          | 0.00/5.03M [00:00<?, ?B/s]"
      ]
     },
     "metadata": {},
     "output_type": "display_data"
    },
    {
     "data": {
      "application/vnd.jupyter.widget-view+json": {
       "model_id": "add70948f6444d8d8eba09334aa1a207",
       "version_major": 2,
       "version_minor": 0
      },
      "text/plain": [
       "sci_xrsf-l2-flx1s_g16_d20180814_v2-1-0.nc:   0%|          | 0.00/5.02M [00:00<?, ?B/s]"
      ]
     },
     "metadata": {},
     "output_type": "display_data"
    },
    {
     "data": {
      "application/vnd.jupyter.widget-view+json": {
       "model_id": "0e04632c4552409f976f6e3393052ed6",
       "version_major": 2,
       "version_minor": 0
      },
      "text/plain": [
       "sci_xrsf-l2-flx1s_g16_d20180812_v2-1-0.nc:   0%|          | 0.00/5.02M [00:00<?, ?B/s]"
      ]
     },
     "metadata": {},
     "output_type": "display_data"
    },
    {
     "data": {
      "application/vnd.jupyter.widget-view+json": {
       "model_id": "41311eb636504381b567b0e31d2bace1",
       "version_major": 2,
       "version_minor": 0
      },
      "text/plain": [
       "sci_xrsf-l2-flx1s_g16_d20180813_v2-1-0.nc:   0%|          | 0.00/5.02M [00:00<?, ?B/s]"
      ]
     },
     "metadata": {},
     "output_type": "display_data"
    },
    {
     "data": {
      "application/vnd.jupyter.widget-view+json": {
       "model_id": "c5e75a13f0f44ae6b5dd9c0ed27f1982",
       "version_major": 2,
       "version_minor": 0
      },
      "text/plain": [
       "sci_xrsf-l2-flx1s_g16_d20180816_v2-1-0.nc:   0%|          | 0.00/5.02M [00:00<?, ?B/s]"
      ]
     },
     "metadata": {},
     "output_type": "display_data"
    },
    {
     "data": {
      "application/vnd.jupyter.widget-view+json": {
       "model_id": "a16afefa469d4f518e373d171f231f59",
       "version_major": 2,
       "version_minor": 0
      },
      "text/plain": [
       "sci_xrsf-l2-flx1s_g16_d20180817_v2-1-0.nc:   0%|          | 0.00/5.02M [00:00<?, ?B/s]"
      ]
     },
     "metadata": {},
     "output_type": "display_data"
    },
    {
     "data": {
      "application/vnd.jupyter.widget-view+json": {
       "model_id": "fef6b8f6876944ac8333e176975b0d2c",
       "version_major": 2,
       "version_minor": 0
      },
      "text/plain": [
       "sci_xrsf-l2-flx1s_g16_d20180818_v2-1-0.nc:   0%|          | 0.00/5.06M [00:00<?, ?B/s]"
      ]
     },
     "metadata": {},
     "output_type": "display_data"
    },
    {
     "data": {
      "application/vnd.jupyter.widget-view+json": {
       "model_id": "3a3c902140994d8ba23613adca35681f",
       "version_major": 2,
       "version_minor": 0
      },
      "text/plain": [
       "sci_xrsf-l2-flx1s_g16_d20180820_v2-1-0.nc:   0%|          | 0.00/5.03M [00:00<?, ?B/s]"
      ]
     },
     "metadata": {},
     "output_type": "display_data"
    },
    {
     "data": {
      "application/vnd.jupyter.widget-view+json": {
       "model_id": "0881ee1a70bc4be9a0c28496dfde0c18",
       "version_major": 2,
       "version_minor": 0
      },
      "text/plain": [
       "sci_xrsf-l2-flx1s_g16_d20180819_v2-1-0.nc:   0%|          | 0.00/5.06M [00:00<?, ?B/s]"
      ]
     },
     "metadata": {},
     "output_type": "display_data"
    },
    {
     "data": {
      "application/vnd.jupyter.widget-view+json": {
       "model_id": "291ab5f385404cad83d14e40bed124e6",
       "version_major": 2,
       "version_minor": 0
      },
      "text/plain": [
       "sci_xrsf-l2-flx1s_g16_d20180824_v2-1-0.nc:   0%|          | 0.00/5.04M [00:00<?, ?B/s]"
      ]
     },
     "metadata": {},
     "output_type": "display_data"
    },
    {
     "data": {
      "application/vnd.jupyter.widget-view+json": {
       "model_id": "0c07a1b19d994823afa984848b4c6ee1",
       "version_major": 2,
       "version_minor": 0
      },
      "text/plain": [
       "sci_xrsf-l2-flx1s_g16_d20180822_v2-1-0.nc:   0%|          | 0.00/5.04M [00:00<?, ?B/s]"
      ]
     },
     "metadata": {},
     "output_type": "display_data"
    },
    {
     "data": {
      "application/vnd.jupyter.widget-view+json": {
       "model_id": "22717230b70d4e5988d799f6b5680f93",
       "version_major": 2,
       "version_minor": 0
      },
      "text/plain": [
       "sci_xrsf-l2-flx1s_g16_d20180821_v2-1-0.nc:   0%|          | 0.00/5.07M [00:00<?, ?B/s]"
      ]
     },
     "metadata": {},
     "output_type": "display_data"
    },
    {
     "data": {
      "application/vnd.jupyter.widget-view+json": {
       "model_id": "857e2a5b34c441f59f2cd1826d5eb81a",
       "version_major": 2,
       "version_minor": 0
      },
      "text/plain": [
       "sci_xrsf-l2-flx1s_g16_d20180823_v2-1-0.nc:   0%|          | 0.00/5.04M [00:00<?, ?B/s]"
      ]
     },
     "metadata": {},
     "output_type": "display_data"
    },
    {
     "data": {
      "application/vnd.jupyter.widget-view+json": {
       "model_id": "0530bf1847364a41b0570fb401ff6ab0",
       "version_major": 2,
       "version_minor": 0
      },
      "text/plain": [
       "sci_xrsf-l2-flx1s_g16_d20180825_v2-1-0.nc:   0%|          | 0.00/5.02M [00:00<?, ?B/s]"
      ]
     },
     "metadata": {},
     "output_type": "display_data"
    },
    {
     "data": {
      "application/vnd.jupyter.widget-view+json": {
       "model_id": "acb38edd1e9b44919bb172dc214313a2",
       "version_major": 2,
       "version_minor": 0
      },
      "text/plain": [
       "sci_xrsf-l2-flx1s_g16_d20180829_v2-1-0.nc:   0%|          | 0.00/5.12M [00:00<?, ?B/s]"
      ]
     },
     "metadata": {},
     "output_type": "display_data"
    },
    {
     "data": {
      "application/vnd.jupyter.widget-view+json": {
       "model_id": "ae483cd8d0d747ab87b02566a9e33ced",
       "version_major": 2,
       "version_minor": 0
      },
      "text/plain": [
       "sci_xrsf-l2-flx1s_g16_d20180826_v2-1-0.nc:   0%|          | 0.00/5.05M [00:00<?, ?B/s]"
      ]
     },
     "metadata": {},
     "output_type": "display_data"
    },
    {
     "data": {
      "application/vnd.jupyter.widget-view+json": {
       "model_id": "806c2db08a5549748004537a0b8e52b2",
       "version_major": 2,
       "version_minor": 0
      },
      "text/plain": [
       "sci_xrsf-l2-flx1s_g16_d20180827_v2-1-0.nc:   0%|          | 0.00/5.06M [00:00<?, ?B/s]"
      ]
     },
     "metadata": {},
     "output_type": "display_data"
    },
    {
     "data": {
      "application/vnd.jupyter.widget-view+json": {
       "model_id": "964a24f04393448da7c549338b93c24f",
       "version_major": 2,
       "version_minor": 0
      },
      "text/plain": [
       "sci_xrsf-l2-flx1s_g16_d20180830_v2-1-0.nc:   0%|          | 0.00/5.13M [00:00<?, ?B/s]"
      ]
     },
     "metadata": {},
     "output_type": "display_data"
    },
    {
     "data": {
      "application/vnd.jupyter.widget-view+json": {
       "model_id": "93e23ccf582c4d5799aa15596b178ffa",
       "version_major": 2,
       "version_minor": 0
      },
      "text/plain": [
       "sci_xrsf-l2-flx1s_g16_d20180828_v2-1-0.nc:   0%|          | 0.00/5.11M [00:00<?, ?B/s]"
      ]
     },
     "metadata": {},
     "output_type": "display_data"
    },
    {
     "data": {
      "application/vnd.jupyter.widget-view+json": {
       "model_id": "c4773fe47a6c4ec58ef2d20840e7f6b0",
       "version_major": 2,
       "version_minor": 0
      },
      "text/plain": [
       "sci_xrsf-l2-flx1s_g16_d20180901_v2-1-0.nc:   0%|          | 0.00/5.08M [00:00<?, ?B/s]"
      ]
     },
     "metadata": {},
     "output_type": "display_data"
    },
    {
     "data": {
      "application/vnd.jupyter.widget-view+json": {
       "model_id": "ab19bf1f8db5434eb9444a84af5a1a8f",
       "version_major": 2,
       "version_minor": 0
      },
      "text/plain": [
       "sci_xrsf-l2-flx1s_g16_d20180902_v2-1-0.nc:   0%|          | 0.00/5.06M [00:00<?, ?B/s]"
      ]
     },
     "metadata": {},
     "output_type": "display_data"
    },
    {
     "data": {
      "application/vnd.jupyter.widget-view+json": {
       "model_id": "d373fdb1260e40888db2e82c8ad66f29",
       "version_major": 2,
       "version_minor": 0
      },
      "text/plain": [
       "sci_xrsf-l2-flx1s_g16_d20180903_v2-1-0.nc:   0%|          | 0.00/5.06M [00:00<?, ?B/s]"
      ]
     },
     "metadata": {},
     "output_type": "display_data"
    },
    {
     "data": {
      "application/vnd.jupyter.widget-view+json": {
       "model_id": "4cf2fede0c6a499688e5a2a14d3ec5ba",
       "version_major": 2,
       "version_minor": 0
      },
      "text/plain": [
       "sci_xrsf-l2-flx1s_g16_d20180831_v2-1-0.nc:   0%|          | 0.00/5.09M [00:00<?, ?B/s]"
      ]
     },
     "metadata": {},
     "output_type": "display_data"
    },
    {
     "data": {
      "application/vnd.jupyter.widget-view+json": {
       "model_id": "97f0b4ad19574579ba8d28aa7f27b8ac",
       "version_major": 2,
       "version_minor": 0
      },
      "text/plain": [
       "sci_xrsf-l2-flx1s_g16_d20180904_v2-1-0.nc:   0%|          | 0.00/5.07M [00:00<?, ?B/s]"
      ]
     },
     "metadata": {},
     "output_type": "display_data"
    },
    {
     "data": {
      "application/vnd.jupyter.widget-view+json": {
       "model_id": "bd33ab648fa44604906ab2c7328eade4",
       "version_major": 2,
       "version_minor": 0
      },
      "text/plain": [
       "sci_xrsf-l2-flx1s_g16_d20180909_v2-1-0.nc:   0%|          | 0.00/5.08M [00:00<?, ?B/s]"
      ]
     },
     "metadata": {},
     "output_type": "display_data"
    },
    {
     "data": {
      "application/vnd.jupyter.widget-view+json": {
       "model_id": "6d969ce95ee04310a6de24236f7c590e",
       "version_major": 2,
       "version_minor": 0
      },
      "text/plain": [
       "sci_xrsf-l2-flx1s_g16_d20180907_v2-1-0.nc:   0%|          | 0.00/5.08M [00:00<?, ?B/s]"
      ]
     },
     "metadata": {},
     "output_type": "display_data"
    },
    {
     "data": {
      "application/vnd.jupyter.widget-view+json": {
       "model_id": "94aaf9d636bb483984039b162efcb429",
       "version_major": 2,
       "version_minor": 0
      },
      "text/plain": [
       "sci_xrsf-l2-flx1s_g16_d20180905_v2-1-0.nc:   0%|          | 0.00/5.07M [00:00<?, ?B/s]"
      ]
     },
     "metadata": {},
     "output_type": "display_data"
    },
    {
     "data": {
      "application/vnd.jupyter.widget-view+json": {
       "model_id": "1ec0d92dd7164e7e9778adaab1ed7d18",
       "version_major": 2,
       "version_minor": 0
      },
      "text/plain": [
       "sci_xrsf-l2-flx1s_g16_d20180906_v2-1-0.nc:   0%|          | 0.00/5.08M [00:00<?, ?B/s]"
      ]
     },
     "metadata": {},
     "output_type": "display_data"
    },
    {
     "data": {
      "application/vnd.jupyter.widget-view+json": {
       "model_id": "8cddb4242eca45d0864b87c29778f644",
       "version_major": 2,
       "version_minor": 0
      },
      "text/plain": [
       "sci_xrsf-l2-flx1s_g16_d20180908_v2-1-0.nc:   0%|          | 0.00/5.08M [00:00<?, ?B/s]"
      ]
     },
     "metadata": {},
     "output_type": "display_data"
    },
    {
     "data": {
      "application/vnd.jupyter.widget-view+json": {
       "model_id": "2dc1b0ad085741edb48138b0c69c4c38",
       "version_major": 2,
       "version_minor": 0
      },
      "text/plain": [
       "sci_xrsf-l2-flx1s_g16_d20180913_v2-1-0.nc:   0%|          | 0.00/5.11M [00:00<?, ?B/s]"
      ]
     },
     "metadata": {},
     "output_type": "display_data"
    },
    {
     "data": {
      "application/vnd.jupyter.widget-view+json": {
       "model_id": "16af0e403a704eb49cedef110ef32cd9",
       "version_major": 2,
       "version_minor": 0
      },
      "text/plain": [
       "sci_xrsf-l2-flx1s_g16_d20180911_v2-1-0.nc:   0%|          | 0.00/3.68M [00:00<?, ?B/s]"
      ]
     },
     "metadata": {},
     "output_type": "display_data"
    },
    {
     "data": {
      "application/vnd.jupyter.widget-view+json": {
       "model_id": "049f214c840f46b38ea7b6132695a88c",
       "version_major": 2,
       "version_minor": 0
      },
      "text/plain": [
       "sci_xrsf-l2-flx1s_g16_d20180912_v2-1-0.nc:   0%|          | 0.00/5.11M [00:00<?, ?B/s]"
      ]
     },
     "metadata": {},
     "output_type": "display_data"
    },
    {
     "data": {
      "application/vnd.jupyter.widget-view+json": {
       "model_id": "e07171993ca547e289407c3847c4b16c",
       "version_major": 2,
       "version_minor": 0
      },
      "text/plain": [
       "sci_xrsf-l2-flx1s_g16_d20180910_v2-1-0.nc:   0%|          | 0.00/4.41M [00:00<?, ?B/s]"
      ]
     },
     "metadata": {},
     "output_type": "display_data"
    },
    {
     "data": {
      "application/vnd.jupyter.widget-view+json": {
       "model_id": "79ce2a3a2ac545f19b27c55c155710f5",
       "version_major": 2,
       "version_minor": 0
      },
      "text/plain": [
       "sci_xrsf-l2-flx1s_g16_d20180914_v2-1-0.nc:   0%|          | 0.00/5.13M [00:00<?, ?B/s]"
      ]
     },
     "metadata": {},
     "output_type": "display_data"
    },
    {
     "data": {
      "application/vnd.jupyter.widget-view+json": {
       "model_id": "6eab83074399460cad6200f5cf7f4d25",
       "version_major": 2,
       "version_minor": 0
      },
      "text/plain": [
       "sci_xrsf-l2-flx1s_g16_d20180915_v2-1-0.nc:   0%|          | 0.00/5.14M [00:00<?, ?B/s]"
      ]
     },
     "metadata": {},
     "output_type": "display_data"
    },
    {
     "data": {
      "application/vnd.jupyter.widget-view+json": {
       "model_id": "e39132d0a4774e6686551695a0b4e898",
       "version_major": 2,
       "version_minor": 0
      },
      "text/plain": [
       "sci_xrsf-l2-flx1s_g16_d20180917_v2-1-0.nc:   0%|          | 0.00/5.10M [00:00<?, ?B/s]"
      ]
     },
     "metadata": {},
     "output_type": "display_data"
    },
    {
     "data": {
      "application/vnd.jupyter.widget-view+json": {
       "model_id": "e3fbb8e222854d67bc612f8aeeca9a30",
       "version_major": 2,
       "version_minor": 0
      },
      "text/plain": [
       "sci_xrsf-l2-flx1s_g16_d20180918_v2-1-0.nc:   0%|          | 0.00/5.11M [00:00<?, ?B/s]"
      ]
     },
     "metadata": {},
     "output_type": "display_data"
    },
    {
     "data": {
      "application/vnd.jupyter.widget-view+json": {
       "model_id": "148a7a68b5774bea8d136f2be79f49de",
       "version_major": 2,
       "version_minor": 0
      },
      "text/plain": [
       "sci_xrsf-l2-flx1s_g16_d20180919_v2-1-0.nc:   0%|          | 0.00/5.10M [00:00<?, ?B/s]"
      ]
     },
     "metadata": {},
     "output_type": "display_data"
    },
    {
     "data": {
      "application/vnd.jupyter.widget-view+json": {
       "model_id": "7198e2e1e40b48feb5ace580f26c7a46",
       "version_major": 2,
       "version_minor": 0
      },
      "text/plain": [
       "sci_xrsf-l2-flx1s_g16_d20180916_v2-1-0.nc:   0%|          | 0.00/5.15M [00:00<?, ?B/s]"
      ]
     },
     "metadata": {},
     "output_type": "display_data"
    },
    {
     "data": {
      "application/vnd.jupyter.widget-view+json": {
       "model_id": "defa89d2fccd41c8887c8250d4dceac3",
       "version_major": 2,
       "version_minor": 0
      },
      "text/plain": [
       "sci_xrsf-l2-flx1s_g16_d20180922_v2-1-0.nc:   0%|          | 0.00/5.11M [00:00<?, ?B/s]"
      ]
     },
     "metadata": {},
     "output_type": "display_data"
    },
    {
     "data": {
      "application/vnd.jupyter.widget-view+json": {
       "model_id": "4ab8c956831c4d4f805d029d52250721",
       "version_major": 2,
       "version_minor": 0
      },
      "text/plain": [
       "sci_xrsf-l2-flx1s_g16_d20180923_v2-1-0.nc:   0%|          | 0.00/5.11M [00:00<?, ?B/s]"
      ]
     },
     "metadata": {},
     "output_type": "display_data"
    },
    {
     "data": {
      "application/vnd.jupyter.widget-view+json": {
       "model_id": "38c1307329214e988b3e2e7cc723120a",
       "version_major": 2,
       "version_minor": 0
      },
      "text/plain": [
       "sci_xrsf-l2-flx1s_g16_d20180921_v2-1-0.nc:   0%|          | 0.00/5.11M [00:00<?, ?B/s]"
      ]
     },
     "metadata": {},
     "output_type": "display_data"
    },
    {
     "data": {
      "application/vnd.jupyter.widget-view+json": {
       "model_id": "18fabcf3ce564f33b8c4959a55a1d9e0",
       "version_major": 2,
       "version_minor": 0
      },
      "text/plain": [
       "sci_xrsf-l2-flx1s_g16_d20180920_v2-1-0.nc:   0%|          | 0.00/5.11M [00:00<?, ?B/s]"
      ]
     },
     "metadata": {},
     "output_type": "display_data"
    },
    {
     "data": {
      "application/vnd.jupyter.widget-view+json": {
       "model_id": "46d9f9434fd742e1b4f6ec5c3a36a1e4",
       "version_major": 2,
       "version_minor": 0
      },
      "text/plain": [
       "sci_xrsf-l2-flx1s_g16_d20180924_v2-1-0.nc:   0%|          | 0.00/5.10M [00:00<?, ?B/s]"
      ]
     },
     "metadata": {},
     "output_type": "display_data"
    },
    {
     "data": {
      "application/vnd.jupyter.widget-view+json": {
       "model_id": "52196d46b15e4f22aa5d2779751a7360",
       "version_major": 2,
       "version_minor": 0
      },
      "text/plain": [
       "sci_xrsf-l2-flx1s_g16_d20180929_v2-1-0.nc:   0%|          | 0.00/5.10M [00:00<?, ?B/s]"
      ]
     },
     "metadata": {},
     "output_type": "display_data"
    },
    {
     "data": {
      "application/vnd.jupyter.widget-view+json": {
       "model_id": "59114ada63ab419287c3f297f5083f9e",
       "version_major": 2,
       "version_minor": 0
      },
      "text/plain": [
       "sci_xrsf-l2-flx1s_g16_d20180925_v2-1-0.nc:   0%|          | 0.00/5.10M [00:00<?, ?B/s]"
      ]
     },
     "metadata": {},
     "output_type": "display_data"
    },
    {
     "data": {
      "application/vnd.jupyter.widget-view+json": {
       "model_id": "ab9a748f2c034657a3c2cbc50584062b",
       "version_major": 2,
       "version_minor": 0
      },
      "text/plain": [
       "sci_xrsf-l2-flx1s_g16_d20180926_v2-1-0.nc:   0%|          | 0.00/5.10M [00:00<?, ?B/s]"
      ]
     },
     "metadata": {},
     "output_type": "display_data"
    },
    {
     "data": {
      "application/vnd.jupyter.widget-view+json": {
       "model_id": "c665ff533e05480ab6b65740a83cce84",
       "version_major": 2,
       "version_minor": 0
      },
      "text/plain": [
       "sci_xrsf-l2-flx1s_g16_d20180927_v2-1-0.nc:   0%|          | 0.00/5.12M [00:00<?, ?B/s]"
      ]
     },
     "metadata": {},
     "output_type": "display_data"
    },
    {
     "data": {
      "application/vnd.jupyter.widget-view+json": {
       "model_id": "37ef89a6a52d4f6b9b1917bfef8dc421",
       "version_major": 2,
       "version_minor": 0
      },
      "text/plain": [
       "sci_xrsf-l2-flx1s_g16_d20180928_v2-1-0.nc:   0%|          | 0.00/5.10M [00:00<?, ?B/s]"
      ]
     },
     "metadata": {},
     "output_type": "display_data"
    },
    {
     "data": {
      "application/vnd.jupyter.widget-view+json": {
       "model_id": "1392864a07224d8e8f256dafd541165f",
       "version_major": 2,
       "version_minor": 0
      },
      "text/plain": [
       "sci_xrsf-l2-flx1s_g16_d20181001_v2-1-0.nc:   0%|          | 0.00/5.09M [00:00<?, ?B/s]"
      ]
     },
     "metadata": {},
     "output_type": "display_data"
    },
    {
     "data": {
      "application/vnd.jupyter.widget-view+json": {
       "model_id": "90ae08391d5846dba23ba151e9690389",
       "version_major": 2,
       "version_minor": 0
      },
      "text/plain": [
       "sci_xrsf-l2-flx1s_g16_d20181003_v2-1-0.nc:   0%|          | 0.00/5.08M [00:00<?, ?B/s]"
      ]
     },
     "metadata": {},
     "output_type": "display_data"
    },
    {
     "data": {
      "application/vnd.jupyter.widget-view+json": {
       "model_id": "2ec6a4f34b914af3a46430539aef74c3",
       "version_major": 2,
       "version_minor": 0
      },
      "text/plain": [
       "sci_xrsf-l2-flx1s_g16_d20181002_v2-1-0.nc:   0%|          | 0.00/5.09M [00:00<?, ?B/s]"
      ]
     },
     "metadata": {},
     "output_type": "display_data"
    },
    {
     "data": {
      "application/vnd.jupyter.widget-view+json": {
       "model_id": "46192497b7594cf5a7ce12a309447e8b",
       "version_major": 2,
       "version_minor": 0
      },
      "text/plain": [
       "sci_xrsf-l2-flx1s_g16_d20180930_v2-1-0.nc:   0%|          | 0.00/5.09M [00:00<?, ?B/s]"
      ]
     },
     "metadata": {},
     "output_type": "display_data"
    },
    {
     "data": {
      "application/vnd.jupyter.widget-view+json": {
       "model_id": "dd61e4eea4964e96b0e33c0b9ab5163a",
       "version_major": 2,
       "version_minor": 0
      },
      "text/plain": [
       "sci_xrsf-l2-flx1s_g16_d20181004_v2-1-0.nc:   0%|          | 0.00/5.09M [00:00<?, ?B/s]"
      ]
     },
     "metadata": {},
     "output_type": "display_data"
    },
    {
     "data": {
      "application/vnd.jupyter.widget-view+json": {
       "model_id": "4de0b3762e584c5fbb207ef5c070a392",
       "version_major": 2,
       "version_minor": 0
      },
      "text/plain": [
       "sci_xrsf-l2-flx1s_g16_d20181008_v2-1-0.nc:   0%|          | 0.00/5.11M [00:00<?, ?B/s]"
      ]
     },
     "metadata": {},
     "output_type": "display_data"
    },
    {
     "data": {
      "application/vnd.jupyter.widget-view+json": {
       "model_id": "5bd155fe3a0e4eb2824d0181e3e10714",
       "version_major": 2,
       "version_minor": 0
      },
      "text/plain": [
       "sci_xrsf-l2-flx1s_g16_d20181006_v2-1-0.nc:   0%|          | 0.00/5.09M [00:00<?, ?B/s]"
      ]
     },
     "metadata": {},
     "output_type": "display_data"
    },
    {
     "data": {
      "application/vnd.jupyter.widget-view+json": {
       "model_id": "e8dc5ad8abbd41b291392224535385d8",
       "version_major": 2,
       "version_minor": 0
      },
      "text/plain": [
       "sci_xrsf-l2-flx1s_g16_d20181009_v2-1-0.nc:   0%|          | 0.00/5.12M [00:00<?, ?B/s]"
      ]
     },
     "metadata": {},
     "output_type": "display_data"
    },
    {
     "data": {
      "application/vnd.jupyter.widget-view+json": {
       "model_id": "6d4051776d3849139129aca2a51624dc",
       "version_major": 2,
       "version_minor": 0
      },
      "text/plain": [
       "sci_xrsf-l2-flx1s_g16_d20181005_v2-1-0.nc:   0%|          | 0.00/5.09M [00:00<?, ?B/s]"
      ]
     },
     "metadata": {},
     "output_type": "display_data"
    },
    {
     "data": {
      "application/vnd.jupyter.widget-view+json": {
       "model_id": "10b0785d51094206929bdb4cab3ba544",
       "version_major": 2,
       "version_minor": 0
      },
      "text/plain": [
       "sci_xrsf-l2-flx1s_g16_d20181007_v2-1-0.nc:   0%|          | 0.00/5.09M [00:00<?, ?B/s]"
      ]
     },
     "metadata": {},
     "output_type": "display_data"
    },
    {
     "data": {
      "application/vnd.jupyter.widget-view+json": {
       "model_id": "cd395983dd9a4f50b26f19095554dc50",
       "version_major": 2,
       "version_minor": 0
      },
      "text/plain": [
       "sci_xrsf-l2-flx1s_g16_d20181011_v2-1-0.nc:   0%|          | 0.00/5.13M [00:00<?, ?B/s]"
      ]
     },
     "metadata": {},
     "output_type": "display_data"
    },
    {
     "data": {
      "application/vnd.jupyter.widget-view+json": {
       "model_id": "6fe430072b0b4dc081e0df419af4088d",
       "version_major": 2,
       "version_minor": 0
      },
      "text/plain": [
       "sci_xrsf-l2-flx1s_g16_d20181012_v2-1-0.nc:   0%|          | 0.00/5.14M [00:00<?, ?B/s]"
      ]
     },
     "metadata": {},
     "output_type": "display_data"
    },
    {
     "data": {
      "application/vnd.jupyter.widget-view+json": {
       "model_id": "ba2c1390269941f4b908a9572ae1584e",
       "version_major": 2,
       "version_minor": 0
      },
      "text/plain": [
       "sci_xrsf-l2-flx1s_g16_d20181013_v2-1-0.nc:   0%|          | 0.00/5.10M [00:00<?, ?B/s]"
      ]
     },
     "metadata": {},
     "output_type": "display_data"
    },
    {
     "data": {
      "application/vnd.jupyter.widget-view+json": {
       "model_id": "7591701577c242d0b1975c98abbf78f1",
       "version_major": 2,
       "version_minor": 0
      },
      "text/plain": [
       "sci_xrsf-l2-flx1s_g16_d20181014_v2-1-0.nc:   0%|          | 0.00/5.06M [00:00<?, ?B/s]"
      ]
     },
     "metadata": {},
     "output_type": "display_data"
    },
    {
     "data": {
      "application/vnd.jupyter.widget-view+json": {
       "model_id": "e21a2ad0ff864520a36cd610d6ad82d5",
       "version_major": 2,
       "version_minor": 0
      },
      "text/plain": [
       "sci_xrsf-l2-flx1s_g16_d20181010_v2-1-0.nc:   0%|          | 0.00/5.11M [00:00<?, ?B/s]"
      ]
     },
     "metadata": {},
     "output_type": "display_data"
    },
    {
     "data": {
      "application/vnd.jupyter.widget-view+json": {
       "model_id": "9e085d5baacd4de5ab59392f4a92feed",
       "version_major": 2,
       "version_minor": 0
      },
      "text/plain": [
       "sci_xrsf-l2-flx1s_g16_d20181015_v2-1-0.nc:   0%|          | 0.00/5.04M [00:00<?, ?B/s]"
      ]
     },
     "metadata": {},
     "output_type": "display_data"
    },
    {
     "data": {
      "application/vnd.jupyter.widget-view+json": {
       "model_id": "ed4b5fdd82804a2a93d19ebfa75600ad",
       "version_major": 2,
       "version_minor": 0
      },
      "text/plain": [
       "sci_xrsf-l2-flx1s_g16_d20181018_v2-1-0.nc:   0%|          | 0.00/5.04M [00:00<?, ?B/s]"
      ]
     },
     "metadata": {},
     "output_type": "display_data"
    },
    {
     "data": {
      "application/vnd.jupyter.widget-view+json": {
       "model_id": "d5f7d9d44eca45b0920d26a5cee45756",
       "version_major": 2,
       "version_minor": 0
      },
      "text/plain": [
       "sci_xrsf-l2-flx1s_g16_d20181016_v2-1-0.nc:   0%|          | 0.00/5.04M [00:00<?, ?B/s]"
      ]
     },
     "metadata": {},
     "output_type": "display_data"
    },
    {
     "data": {
      "application/vnd.jupyter.widget-view+json": {
       "model_id": "3d1b0e2b744b4d5dad4b828d9de08616",
       "version_major": 2,
       "version_minor": 0
      },
      "text/plain": [
       "sci_xrsf-l2-flx1s_g16_d20181019_v2-1-0.nc:   0%|          | 0.00/5.05M [00:00<?, ?B/s]"
      ]
     },
     "metadata": {},
     "output_type": "display_data"
    },
    {
     "data": {
      "application/vnd.jupyter.widget-view+json": {
       "model_id": "aeafbfab34544149a323ce16bd3b6a66",
       "version_major": 2,
       "version_minor": 0
      },
      "text/plain": [
       "sci_xrsf-l2-flx1s_g16_d20181017_v2-1-0.nc:   0%|          | 0.00/5.03M [00:00<?, ?B/s]"
      ]
     },
     "metadata": {},
     "output_type": "display_data"
    },
    {
     "data": {
      "application/vnd.jupyter.widget-view+json": {
       "model_id": "65c31e78258249718c4403992af8e327",
       "version_major": 2,
       "version_minor": 0
      },
      "text/plain": [
       "sci_xrsf-l2-flx1s_g16_d20181024_v2-1-0.nc:   0%|          | 0.00/5.04M [00:00<?, ?B/s]"
      ]
     },
     "metadata": {},
     "output_type": "display_data"
    },
    {
     "data": {
      "application/vnd.jupyter.widget-view+json": {
       "model_id": "deb13f80a6f448efa0ccfb5aa8b406d3",
       "version_major": 2,
       "version_minor": 0
      },
      "text/plain": [
       "sci_xrsf-l2-flx1s_g16_d20181021_v2-1-0.nc:   0%|          | 0.00/5.03M [00:00<?, ?B/s]"
      ]
     },
     "metadata": {},
     "output_type": "display_data"
    },
    {
     "data": {
      "application/vnd.jupyter.widget-view+json": {
       "model_id": "78a8e283761c4419b3d8a90d60977068",
       "version_major": 2,
       "version_minor": 0
      },
      "text/plain": [
       "sci_xrsf-l2-flx1s_g16_d20181023_v2-1-0.nc:   0%|          | 0.00/5.04M [00:00<?, ?B/s]"
      ]
     },
     "metadata": {},
     "output_type": "display_data"
    },
    {
     "data": {
      "application/vnd.jupyter.widget-view+json": {
       "model_id": "7c1e17df92304d13a26b6300059609a1",
       "version_major": 2,
       "version_minor": 0
      },
      "text/plain": [
       "sci_xrsf-l2-flx1s_g16_d20181022_v2-1-0.nc:   0%|          | 0.00/5.03M [00:00<?, ?B/s]"
      ]
     },
     "metadata": {},
     "output_type": "display_data"
    },
    {
     "data": {
      "application/vnd.jupyter.widget-view+json": {
       "model_id": "ca7d706035ca41239b62812da2024484",
       "version_major": 2,
       "version_minor": 0
      },
      "text/plain": [
       "sci_xrsf-l2-flx1s_g16_d20181020_v2-1-0.nc:   0%|          | 0.00/5.05M [00:00<?, ?B/s]"
      ]
     },
     "metadata": {},
     "output_type": "display_data"
    },
    {
     "data": {
      "application/vnd.jupyter.widget-view+json": {
       "model_id": "3e012f80d8c042cbb47ecbbab1978038",
       "version_major": 2,
       "version_minor": 0
      },
      "text/plain": [
       "sci_xrsf-l2-flx1s_g16_d20181027_v2-1-0.nc:   0%|          | 0.00/5.05M [00:00<?, ?B/s]"
      ]
     },
     "metadata": {},
     "output_type": "display_data"
    },
    {
     "data": {
      "application/vnd.jupyter.widget-view+json": {
       "model_id": "9e518a8137dd430eaab229767e4c9032",
       "version_major": 2,
       "version_minor": 0
      },
      "text/plain": [
       "sci_xrsf-l2-flx1s_g16_d20181026_v2-1-0.nc:   0%|          | 0.00/5.04M [00:00<?, ?B/s]"
      ]
     },
     "metadata": {},
     "output_type": "display_data"
    },
    {
     "data": {
      "application/vnd.jupyter.widget-view+json": {
       "model_id": "889824a17cc144a5bdc4a31a36a0e6d4",
       "version_major": 2,
       "version_minor": 0
      },
      "text/plain": [
       "sci_xrsf-l2-flx1s_g16_d20181029_v2-1-0.nc:   0%|          | 0.00/5.05M [00:00<?, ?B/s]"
      ]
     },
     "metadata": {},
     "output_type": "display_data"
    },
    {
     "data": {
      "application/vnd.jupyter.widget-view+json": {
       "model_id": "70a45650496d46299a623230a0ff691d",
       "version_major": 2,
       "version_minor": 0
      },
      "text/plain": [
       "sci_xrsf-l2-flx1s_g16_d20181028_v2-1-0.nc:   0%|          | 0.00/5.05M [00:00<?, ?B/s]"
      ]
     },
     "metadata": {},
     "output_type": "display_data"
    },
    {
     "data": {
      "application/vnd.jupyter.widget-view+json": {
       "model_id": "520ea18ef0a5493e953f84a860d64130",
       "version_major": 2,
       "version_minor": 0
      },
      "text/plain": [
       "sci_xrsf-l2-flx1s_g16_d20181025_v2-1-0.nc:   0%|          | 0.00/5.05M [00:00<?, ?B/s]"
      ]
     },
     "metadata": {},
     "output_type": "display_data"
    },
    {
     "data": {
      "application/vnd.jupyter.widget-view+json": {
       "model_id": "44735a28d71042db8d4df1635e08586b",
       "version_major": 2,
       "version_minor": 0
      },
      "text/plain": [
       "sci_xrsf-l2-flx1s_g16_d20181031_v2-1-0.nc:   0%|          | 0.00/5.05M [00:00<?, ?B/s]"
      ]
     },
     "metadata": {},
     "output_type": "display_data"
    },
    {
     "data": {
      "application/vnd.jupyter.widget-view+json": {
       "model_id": "3b25c2ac02fb4270b30903718873ced9",
       "version_major": 2,
       "version_minor": 0
      },
      "text/plain": [
       "sci_xrsf-l2-flx1s_g16_d20181101_v2-1-0.nc:   0%|          | 0.00/5.05M [00:00<?, ?B/s]"
      ]
     },
     "metadata": {},
     "output_type": "display_data"
    },
    {
     "data": {
      "application/vnd.jupyter.widget-view+json": {
       "model_id": "2521b4f1d63d41518634d25964653850",
       "version_major": 2,
       "version_minor": 0
      },
      "text/plain": [
       "sci_xrsf-l2-flx1s_g16_d20181030_v2-1-0.nc:   0%|          | 0.00/5.05M [00:00<?, ?B/s]"
      ]
     },
     "metadata": {},
     "output_type": "display_data"
    },
    {
     "data": {
      "application/vnd.jupyter.widget-view+json": {
       "model_id": "b2398804947c42519a7549fb4ac5f49b",
       "version_major": 2,
       "version_minor": 0
      },
      "text/plain": [
       "sci_xrsf-l2-flx1s_g16_d20181103_v2-1-0.nc:   0%|          | 0.00/5.06M [00:00<?, ?B/s]"
      ]
     },
     "metadata": {},
     "output_type": "display_data"
    },
    {
     "data": {
      "application/vnd.jupyter.widget-view+json": {
       "model_id": "2085ffa2d51f4af4ad01e896fba5b551",
       "version_major": 2,
       "version_minor": 0
      },
      "text/plain": [
       "sci_xrsf-l2-flx1s_g16_d20181102_v2-1-0.nc:   0%|          | 0.00/5.05M [00:00<?, ?B/s]"
      ]
     },
     "metadata": {},
     "output_type": "display_data"
    },
    {
     "data": {
      "application/vnd.jupyter.widget-view+json": {
       "model_id": "4fb74e0c85db48af92531d1fc779f6bb",
       "version_major": 2,
       "version_minor": 0
      },
      "text/plain": [
       "sci_xrsf-l2-flx1s_g16_d20181104_v2-1-0.nc:   0%|          | 0.00/5.05M [00:00<?, ?B/s]"
      ]
     },
     "metadata": {},
     "output_type": "display_data"
    },
    {
     "data": {
      "application/vnd.jupyter.widget-view+json": {
       "model_id": "38bb7ba6ab894c8590d6853c95a54cfc",
       "version_major": 2,
       "version_minor": 0
      },
      "text/plain": [
       "sci_xrsf-l2-flx1s_g16_d20181108_v2-1-0.nc:   0%|          | 0.00/5.05M [00:00<?, ?B/s]"
      ]
     },
     "metadata": {},
     "output_type": "display_data"
    },
    {
     "data": {
      "application/vnd.jupyter.widget-view+json": {
       "model_id": "9b10994bd9a24d538dd5bf02c342d6de",
       "version_major": 2,
       "version_minor": 0
      },
      "text/plain": [
       "sci_xrsf-l2-flx1s_g16_d20181106_v2-1-0.nc:   0%|          | 0.00/5.08M [00:00<?, ?B/s]"
      ]
     },
     "metadata": {},
     "output_type": "display_data"
    },
    {
     "data": {
      "application/vnd.jupyter.widget-view+json": {
       "model_id": "cc668aa0e9f144f3ae2c9e78a0513231",
       "version_major": 2,
       "version_minor": 0
      },
      "text/plain": [
       "sci_xrsf-l2-flx1s_g16_d20181107_v2-1-0.nc:   0%|          | 0.00/5.06M [00:00<?, ?B/s]"
      ]
     },
     "metadata": {},
     "output_type": "display_data"
    },
    {
     "data": {
      "application/vnd.jupyter.widget-view+json": {
       "model_id": "9cbac0a537714ce0922e2aa24a48c170",
       "version_major": 2,
       "version_minor": 0
      },
      "text/plain": [
       "sci_xrsf-l2-flx1s_g16_d20181105_v2-1-0.nc:   0%|          | 0.00/5.04M [00:00<?, ?B/s]"
      ]
     },
     "metadata": {},
     "output_type": "display_data"
    },
    {
     "data": {
      "application/vnd.jupyter.widget-view+json": {
       "model_id": "473fc58d32504a45a83478a82a7a47db",
       "version_major": 2,
       "version_minor": 0
      },
      "text/plain": [
       "sci_xrsf-l2-flx1s_g16_d20181113_v2-1-0.nc:   0%|          | 0.00/5.05M [00:00<?, ?B/s]"
      ]
     },
     "metadata": {},
     "output_type": "display_data"
    },
    {
     "data": {
      "application/vnd.jupyter.widget-view+json": {
       "model_id": "d8ac1bdeca0542d2b3ab33864038561e",
       "version_major": 2,
       "version_minor": 0
      },
      "text/plain": [
       "sci_xrsf-l2-flx1s_g16_d20181110_v2-1-0.nc:   0%|          | 0.00/5.05M [00:00<?, ?B/s]"
      ]
     },
     "metadata": {},
     "output_type": "display_data"
    },
    {
     "data": {
      "application/vnd.jupyter.widget-view+json": {
       "model_id": "7186944ed6ae45e195236d820ebc2137",
       "version_major": 2,
       "version_minor": 0
      },
      "text/plain": [
       "sci_xrsf-l2-flx1s_g16_d20181109_v2-1-0.nc:   0%|          | 0.00/5.05M [00:00<?, ?B/s]"
      ]
     },
     "metadata": {},
     "output_type": "display_data"
    },
    {
     "data": {
      "application/vnd.jupyter.widget-view+json": {
       "model_id": "bdce0fa8d0744bafa2d0fac7fbc6f17a",
       "version_major": 2,
       "version_minor": 0
      },
      "text/plain": [
       "sci_xrsf-l2-flx1s_g16_d20181112_v2-1-0.nc:   0%|          | 0.00/5.05M [00:00<?, ?B/s]"
      ]
     },
     "metadata": {},
     "output_type": "display_data"
    },
    {
     "data": {
      "application/vnd.jupyter.widget-view+json": {
       "model_id": "cf0d5354c5f8493a988d3248a12ebe67",
       "version_major": 2,
       "version_minor": 0
      },
      "text/plain": [
       "sci_xrsf-l2-flx1s_g16_d20181111_v2-1-0.nc:   0%|          | 0.00/5.05M [00:00<?, ?B/s]"
      ]
     },
     "metadata": {},
     "output_type": "display_data"
    },
    {
     "data": {
      "application/vnd.jupyter.widget-view+json": {
       "model_id": "8c2055b76c3343b89e9d854c1600902f",
       "version_major": 2,
       "version_minor": 0
      },
      "text/plain": [
       "sci_xrsf-l2-flx1s_g16_d20181114_v2-1-0.nc:   0%|          | 0.00/5.04M [00:00<?, ?B/s]"
      ]
     },
     "metadata": {},
     "output_type": "display_data"
    },
    {
     "data": {
      "application/vnd.jupyter.widget-view+json": {
       "model_id": "6485c1dc14554b628940cb731ed5c042",
       "version_major": 2,
       "version_minor": 0
      },
      "text/plain": [
       "sci_xrsf-l2-flx1s_g16_d20181118_v2-1-0.nc:   0%|          | 0.00/5.04M [00:00<?, ?B/s]"
      ]
     },
     "metadata": {},
     "output_type": "display_data"
    },
    {
     "data": {
      "application/vnd.jupyter.widget-view+json": {
       "model_id": "99193e512aa3483f9a84bac6078d9ebe",
       "version_major": 2,
       "version_minor": 0
      },
      "text/plain": [
       "sci_xrsf-l2-flx1s_g16_d20181117_v2-1-0.nc:   0%|          | 0.00/5.04M [00:00<?, ?B/s]"
      ]
     },
     "metadata": {},
     "output_type": "display_data"
    },
    {
     "data": {
      "application/vnd.jupyter.widget-view+json": {
       "model_id": "9722dff7db8940a5a387af04930b5172",
       "version_major": 2,
       "version_minor": 0
      },
      "text/plain": [
       "sci_xrsf-l2-flx1s_g16_d20181116_v2-1-0.nc:   0%|          | 0.00/5.05M [00:00<?, ?B/s]"
      ]
     },
     "metadata": {},
     "output_type": "display_data"
    },
    {
     "data": {
      "application/vnd.jupyter.widget-view+json": {
       "model_id": "1280d8b927554e4288b9b84733c93fad",
       "version_major": 2,
       "version_minor": 0
      },
      "text/plain": [
       "sci_xrsf-l2-flx1s_g16_d20181115_v2-1-0.nc:   0%|          | 0.00/5.04M [00:00<?, ?B/s]"
      ]
     },
     "metadata": {},
     "output_type": "display_data"
    },
    {
     "data": {
      "application/vnd.jupyter.widget-view+json": {
       "model_id": "74841ea05e68493a96ad3a274fce8d49",
       "version_major": 2,
       "version_minor": 0
      },
      "text/plain": [
       "sci_xrsf-l2-flx1s_g16_d20181119_v2-1-0.nc:   0%|          | 0.00/5.03M [00:00<?, ?B/s]"
      ]
     },
     "metadata": {},
     "output_type": "display_data"
    },
    {
     "data": {
      "application/vnd.jupyter.widget-view+json": {
       "model_id": "67bfbd62c821435fb26d2685f6c91527",
       "version_major": 2,
       "version_minor": 0
      },
      "text/plain": [
       "sci_xrsf-l2-flx1s_g16_d20181121_v2-1-0.nc:   0%|          | 0.00/5.04M [00:00<?, ?B/s]"
      ]
     },
     "metadata": {},
     "output_type": "display_data"
    },
    {
     "data": {
      "application/vnd.jupyter.widget-view+json": {
       "model_id": "4223b3d9e88544cbaa8879941bc076a3",
       "version_major": 2,
       "version_minor": 0
      },
      "text/plain": [
       "sci_xrsf-l2-flx1s_g16_d20181122_v2-1-0.nc:   0%|          | 0.00/5.03M [00:00<?, ?B/s]"
      ]
     },
     "metadata": {},
     "output_type": "display_data"
    },
    {
     "data": {
      "application/vnd.jupyter.widget-view+json": {
       "model_id": "aabbb40dfebc495d9f725ff09e5f7a56",
       "version_major": 2,
       "version_minor": 0
      },
      "text/plain": [
       "sci_xrsf-l2-flx1s_g16_d20181120_v2-1-0.nc:   0%|          | 0.00/5.04M [00:00<?, ?B/s]"
      ]
     },
     "metadata": {},
     "output_type": "display_data"
    },
    {
     "data": {
      "application/vnd.jupyter.widget-view+json": {
       "model_id": "739c8c3f25b44ecea21c5da27c5313b6",
       "version_major": 2,
       "version_minor": 0
      },
      "text/plain": [
       "sci_xrsf-l2-flx1s_g16_d20181124_v2-1-0.nc:   0%|          | 0.00/5.04M [00:00<?, ?B/s]"
      ]
     },
     "metadata": {},
     "output_type": "display_data"
    },
    {
     "data": {
      "application/vnd.jupyter.widget-view+json": {
       "model_id": "b1de13ec4328498ab8c21c9df82a9a7e",
       "version_major": 2,
       "version_minor": 0
      },
      "text/plain": [
       "sci_xrsf-l2-flx1s_g16_d20181125_v2-1-0.nc:   0%|          | 0.00/5.04M [00:00<?, ?B/s]"
      ]
     },
     "metadata": {},
     "output_type": "display_data"
    },
    {
     "data": {
      "application/vnd.jupyter.widget-view+json": {
       "model_id": "ec300dd9a5894e58a8304ac0bb0e7984",
       "version_major": 2,
       "version_minor": 0
      },
      "text/plain": [
       "sci_xrsf-l2-flx1s_g16_d20181126_v2-1-0.nc:   0%|          | 0.00/5.04M [00:00<?, ?B/s]"
      ]
     },
     "metadata": {},
     "output_type": "display_data"
    },
    {
     "data": {
      "application/vnd.jupyter.widget-view+json": {
       "model_id": "7f427d2495a040cdbd2b2187bd49ceb1",
       "version_major": 2,
       "version_minor": 0
      },
      "text/plain": [
       "sci_xrsf-l2-flx1s_g16_d20181123_v2-1-0.nc:   0%|          | 0.00/5.04M [00:00<?, ?B/s]"
      ]
     },
     "metadata": {},
     "output_type": "display_data"
    },
    {
     "data": {
      "application/vnd.jupyter.widget-view+json": {
       "model_id": "1db9e55ad73c4757a7801c6acc03e981",
       "version_major": 2,
       "version_minor": 0
      },
      "text/plain": [
       "sci_xrsf-l2-flx1s_g16_d20181127_v2-1-0.nc:   0%|          | 0.00/5.04M [00:00<?, ?B/s]"
      ]
     },
     "metadata": {},
     "output_type": "display_data"
    },
    {
     "data": {
      "application/vnd.jupyter.widget-view+json": {
       "model_id": "7e74a016d51f4aaaae71a3e6aa7a12a2",
       "version_major": 2,
       "version_minor": 0
      },
      "text/plain": [
       "sci_xrsf-l2-flx1s_g16_d20181129_v2-1-0.nc:   0%|          | 0.00/5.04M [00:00<?, ?B/s]"
      ]
     },
     "metadata": {},
     "output_type": "display_data"
    },
    {
     "data": {
      "application/vnd.jupyter.widget-view+json": {
       "model_id": "493fa7bbb6614810acafd60c1ecb18de",
       "version_major": 2,
       "version_minor": 0
      },
      "text/plain": [
       "sci_xrsf-l2-flx1s_g16_d20181130_v2-1-0.nc:   0%|          | 0.00/5.04M [00:00<?, ?B/s]"
      ]
     },
     "metadata": {},
     "output_type": "display_data"
    },
    {
     "data": {
      "application/vnd.jupyter.widget-view+json": {
       "model_id": "be2667bac732459e95c543d971e80cef",
       "version_major": 2,
       "version_minor": 0
      },
      "text/plain": [
       "sci_xrsf-l2-flx1s_g16_d20181128_v2-1-0.nc:   0%|          | 0.00/5.05M [00:00<?, ?B/s]"
      ]
     },
     "metadata": {},
     "output_type": "display_data"
    },
    {
     "data": {
      "application/vnd.jupyter.widget-view+json": {
       "model_id": "1d901276725f4ac28290abd99483859d",
       "version_major": 2,
       "version_minor": 0
      },
      "text/plain": [
       "sci_xrsf-l2-flx1s_g16_d20181202_v2-1-0.nc:   0%|          | 0.00/5.04M [00:00<?, ?B/s]"
      ]
     },
     "metadata": {},
     "output_type": "display_data"
    },
    {
     "data": {
      "application/vnd.jupyter.widget-view+json": {
       "model_id": "5ed2e7cf6c9644ad80f4ddb0e9559f8a",
       "version_major": 2,
       "version_minor": 0
      },
      "text/plain": [
       "sci_xrsf-l2-flx1s_g16_d20181201_v2-1-0.nc:   0%|          | 0.00/5.04M [00:00<?, ?B/s]"
      ]
     },
     "metadata": {},
     "output_type": "display_data"
    },
    {
     "data": {
      "application/vnd.jupyter.widget-view+json": {
       "model_id": "6ebd58a521804fedb7032ec8b4c06b3d",
       "version_major": 2,
       "version_minor": 0
      },
      "text/plain": [
       "sci_xrsf-l2-flx1s_g16_d20181203_v2-1-0.nc:   0%|          | 0.00/5.03M [00:00<?, ?B/s]"
      ]
     },
     "metadata": {},
     "output_type": "display_data"
    },
    {
     "data": {
      "application/vnd.jupyter.widget-view+json": {
       "model_id": "f20fa0a471a64c0e9da32f1b4fc1ce4c",
       "version_major": 2,
       "version_minor": 0
      },
      "text/plain": [
       "sci_xrsf-l2-flx1s_g16_d20181205_v2-1-0.nc:   0%|          | 0.00/5.02M [00:00<?, ?B/s]"
      ]
     },
     "metadata": {},
     "output_type": "display_data"
    },
    {
     "data": {
      "application/vnd.jupyter.widget-view+json": {
       "model_id": "fbc089ec27574e06a301b2808fa4ba47",
       "version_major": 2,
       "version_minor": 0
      },
      "text/plain": [
       "sci_xrsf-l2-flx1s_g16_d20181204_v2-1-0.nc:   0%|          | 0.00/5.03M [00:00<?, ?B/s]"
      ]
     },
     "metadata": {},
     "output_type": "display_data"
    },
    {
     "data": {
      "application/vnd.jupyter.widget-view+json": {
       "model_id": "5f4e0c4daa3141c6880a1c8f79873099",
       "version_major": 2,
       "version_minor": 0
      },
      "text/plain": [
       "sci_xrsf-l2-flx1s_g16_d20181206_v2-1-0.nc:   0%|          | 0.00/5.03M [00:00<?, ?B/s]"
      ]
     },
     "metadata": {},
     "output_type": "display_data"
    },
    {
     "data": {
      "application/vnd.jupyter.widget-view+json": {
       "model_id": "1b36f2084d244741896a2babefe3370c",
       "version_major": 2,
       "version_minor": 0
      },
      "text/plain": [
       "sci_xrsf-l2-flx1s_g16_d20181207_v2-1-0.nc:   0%|          | 0.00/5.03M [00:00<?, ?B/s]"
      ]
     },
     "metadata": {},
     "output_type": "display_data"
    },
    {
     "data": {
      "application/vnd.jupyter.widget-view+json": {
       "model_id": "b0c2a06abc0d466fb8a60bfa39ae387d",
       "version_major": 2,
       "version_minor": 0
      },
      "text/plain": [
       "sci_xrsf-l2-flx1s_g16_d20181210_v2-1-0.nc:   0%|          | 0.00/5.05M [00:00<?, ?B/s]"
      ]
     },
     "metadata": {},
     "output_type": "display_data"
    },
    {
     "data": {
      "application/vnd.jupyter.widget-view+json": {
       "model_id": "dae60e6daf3642ef87cffc53e29dbdcc",
       "version_major": 2,
       "version_minor": 0
      },
      "text/plain": [
       "sci_xrsf-l2-flx1s_g16_d20181208_v2-1-0.nc:   0%|          | 0.00/5.04M [00:00<?, ?B/s]"
      ]
     },
     "metadata": {},
     "output_type": "display_data"
    },
    {
     "data": {
      "application/vnd.jupyter.widget-view+json": {
       "model_id": "0ff5df085edc45b997c97e7709284a8b",
       "version_major": 2,
       "version_minor": 0
      },
      "text/plain": [
       "sci_xrsf-l2-flx1s_g16_d20181212_v2-1-0.nc:   0%|          | 0.00/5.03M [00:00<?, ?B/s]"
      ]
     },
     "metadata": {},
     "output_type": "display_data"
    },
    {
     "data": {
      "application/vnd.jupyter.widget-view+json": {
       "model_id": "7f8a0f762a904f7e84102aeedd0fc2fa",
       "version_major": 2,
       "version_minor": 0
      },
      "text/plain": [
       "sci_xrsf-l2-flx1s_g16_d20181209_v2-1-0.nc:   0%|          | 0.00/5.03M [00:00<?, ?B/s]"
      ]
     },
     "metadata": {},
     "output_type": "display_data"
    },
    {
     "data": {
      "application/vnd.jupyter.widget-view+json": {
       "model_id": "fb69f3f9d6ac4f998ba4a3b5af0b3b2d",
       "version_major": 2,
       "version_minor": 0
      },
      "text/plain": [
       "sci_xrsf-l2-flx1s_g16_d20181211_v2-1-0.nc:   0%|          | 0.00/5.03M [00:00<?, ?B/s]"
      ]
     },
     "metadata": {},
     "output_type": "display_data"
    },
    {
     "data": {
      "application/vnd.jupyter.widget-view+json": {
       "model_id": "7d70b4e3b6c44d518c3f687d5d884422",
       "version_major": 2,
       "version_minor": 0
      },
      "text/plain": [
       "sci_xrsf-l2-flx1s_g16_d20181213_v2-1-0.nc:   0%|          | 0.00/5.02M [00:00<?, ?B/s]"
      ]
     },
     "metadata": {},
     "output_type": "display_data"
    },
    {
     "data": {
      "application/vnd.jupyter.widget-view+json": {
       "model_id": "de38a4eb79374a199211decc98c93d00",
       "version_major": 2,
       "version_minor": 0
      },
      "text/plain": [
       "sci_xrsf-l2-flx1s_g16_d20181217_v2-1-0.nc:   0%|          | 0.00/5.01M [00:00<?, ?B/s]"
      ]
     },
     "metadata": {},
     "output_type": "display_data"
    },
    {
     "data": {
      "application/vnd.jupyter.widget-view+json": {
       "model_id": "12ff6e58cb944745b9b70a18a5434bd6",
       "version_major": 2,
       "version_minor": 0
      },
      "text/plain": [
       "sci_xrsf-l2-flx1s_g16_d20181216_v2-1-0.nc:   0%|          | 0.00/5.03M [00:00<?, ?B/s]"
      ]
     },
     "metadata": {},
     "output_type": "display_data"
    },
    {
     "data": {
      "application/vnd.jupyter.widget-view+json": {
       "model_id": "7150826f053741129648d96dd31402b3",
       "version_major": 2,
       "version_minor": 0
      },
      "text/plain": [
       "sci_xrsf-l2-flx1s_g16_d20181215_v2-1-0.nc:   0%|          | 0.00/5.02M [00:00<?, ?B/s]"
      ]
     },
     "metadata": {},
     "output_type": "display_data"
    },
    {
     "data": {
      "application/vnd.jupyter.widget-view+json": {
       "model_id": "d00d0911808a468d9f3caeb6277e7904",
       "version_major": 2,
       "version_minor": 0
      },
      "text/plain": [
       "sci_xrsf-l2-flx1s_g16_d20181214_v2-1-0.nc:   0%|          | 0.00/5.04M [00:00<?, ?B/s]"
      ]
     },
     "metadata": {},
     "output_type": "display_data"
    },
    {
     "data": {
      "application/vnd.jupyter.widget-view+json": {
       "model_id": "e43e8dc3bdf74dd5a2f6dbd02d5bf3a4",
       "version_major": 2,
       "version_minor": 0
      },
      "text/plain": [
       "sci_xrsf-l2-flx1s_g16_d20181218_v2-1-0.nc:   0%|          | 0.00/5.02M [00:00<?, ?B/s]"
      ]
     },
     "metadata": {},
     "output_type": "display_data"
    },
    {
     "data": {
      "application/vnd.jupyter.widget-view+json": {
       "model_id": "f3a509e3c00f4294b4fcf1d9bd842b97",
       "version_major": 2,
       "version_minor": 0
      },
      "text/plain": [
       "sci_xrsf-l2-flx1s_g16_d20181220_v2-1-0.nc:   0%|          | 0.00/5.03M [00:00<?, ?B/s]"
      ]
     },
     "metadata": {},
     "output_type": "display_data"
    },
    {
     "data": {
      "application/vnd.jupyter.widget-view+json": {
       "model_id": "ec4e87fb722a4ce39b2619a0595aeb4d",
       "version_major": 2,
       "version_minor": 0
      },
      "text/plain": [
       "sci_xrsf-l2-flx1s_g16_d20181219_v2-1-0.nc:   0%|          | 0.00/5.02M [00:00<?, ?B/s]"
      ]
     },
     "metadata": {},
     "output_type": "display_data"
    },
    {
     "data": {
      "application/vnd.jupyter.widget-view+json": {
       "model_id": "f7018b7394a4421e9575007eef71d1fe",
       "version_major": 2,
       "version_minor": 0
      },
      "text/plain": [
       "sci_xrsf-l2-flx1s_g16_d20181221_v2-1-0.nc:   0%|          | 0.00/5.03M [00:00<?, ?B/s]"
      ]
     },
     "metadata": {},
     "output_type": "display_data"
    },
    {
     "data": {
      "application/vnd.jupyter.widget-view+json": {
       "model_id": "736b60b3325a45658cac976d107c00bb",
       "version_major": 2,
       "version_minor": 0
      },
      "text/plain": [
       "sci_xrsf-l2-flx1s_g16_d20181223_v2-1-0.nc:   0%|          | 0.00/5.02M [00:00<?, ?B/s]"
      ]
     },
     "metadata": {},
     "output_type": "display_data"
    },
    {
     "data": {
      "application/vnd.jupyter.widget-view+json": {
       "model_id": "63dff53d5b164f66aac8d983b6b533af",
       "version_major": 2,
       "version_minor": 0
      },
      "text/plain": [
       "sci_xrsf-l2-flx1s_g16_d20181225_v2-1-0.nc:   0%|          | 0.00/5.02M [00:00<?, ?B/s]"
      ]
     },
     "metadata": {},
     "output_type": "display_data"
    },
    {
     "data": {
      "application/vnd.jupyter.widget-view+json": {
       "model_id": "903ae833e93f49ef93949afaafeb6576",
       "version_major": 2,
       "version_minor": 0
      },
      "text/plain": [
       "sci_xrsf-l2-flx1s_g16_d20181224_v2-1-0.nc:   0%|          | 0.00/5.01M [00:00<?, ?B/s]"
      ]
     },
     "metadata": {},
     "output_type": "display_data"
    },
    {
     "data": {
      "application/vnd.jupyter.widget-view+json": {
       "model_id": "cc020c9d6ca14426a364e748c11e8878",
       "version_major": 2,
       "version_minor": 0
      },
      "text/plain": [
       "sci_xrsf-l2-flx1s_g16_d20181222_v2-1-0.nc:   0%|          | 0.00/5.03M [00:00<?, ?B/s]"
      ]
     },
     "metadata": {},
     "output_type": "display_data"
    },
    {
     "data": {
      "application/vnd.jupyter.widget-view+json": {
       "model_id": "a14ad3fc60754f49b593d86edcd3202b",
       "version_major": 2,
       "version_minor": 0
      },
      "text/plain": [
       "sci_xrsf-l2-flx1s_g16_d20181228_v2-1-0.nc:   0%|          | 0.00/5.03M [00:00<?, ?B/s]"
      ]
     },
     "metadata": {},
     "output_type": "display_data"
    },
    {
     "data": {
      "application/vnd.jupyter.widget-view+json": {
       "model_id": "6163c107cfd9495e89484a37790e9ab0",
       "version_major": 2,
       "version_minor": 0
      },
      "text/plain": [
       "sci_xrsf-l2-flx1s_g16_d20181229_v2-1-0.nc:   0%|          | 0.00/5.03M [00:00<?, ?B/s]"
      ]
     },
     "metadata": {},
     "output_type": "display_data"
    },
    {
     "data": {
      "application/vnd.jupyter.widget-view+json": {
       "model_id": "f849fa4ca57b42e685a258b900ea5637",
       "version_major": 2,
       "version_minor": 0
      },
      "text/plain": [
       "sci_xrsf-l2-flx1s_g16_d20181226_v2-1-0.nc:   0%|          | 0.00/5.03M [00:00<?, ?B/s]"
      ]
     },
     "metadata": {},
     "output_type": "display_data"
    },
    {
     "data": {
      "application/vnd.jupyter.widget-view+json": {
       "model_id": "06495e83af144651a960584b8499da56",
       "version_major": 2,
       "version_minor": 0
      },
      "text/plain": [
       "sci_xrsf-l2-flx1s_g16_d20181227_v2-1-0.nc:   0%|          | 0.00/5.03M [00:00<?, ?B/s]"
      ]
     },
     "metadata": {},
     "output_type": "display_data"
    },
    {
     "data": {
      "application/vnd.jupyter.widget-view+json": {
       "model_id": "e039165dff1740ba8365c973c745778d",
       "version_major": 2,
       "version_minor": 0
      },
      "text/plain": [
       "sci_xrsf-l2-flx1s_g16_d20181230_v2-1-0.nc:   0%|          | 0.00/5.02M [00:00<?, ?B/s]"
      ]
     },
     "metadata": {},
     "output_type": "display_data"
    },
    {
     "data": {
      "application/vnd.jupyter.widget-view+json": {
       "model_id": "801c260557874096a0ca81658b6089b9",
       "version_major": 2,
       "version_minor": 0
      },
      "text/plain": [
       "sci_xrsf-l2-flx1s_g17_d20180601_v2-1-0.nc:   0%|          | 0.00/5.06M [00:00<?, ?B/s]"
      ]
     },
     "metadata": {},
     "output_type": "display_data"
    },
    {
     "data": {
      "application/vnd.jupyter.widget-view+json": {
       "model_id": "ed2d4bc044e6465590aeb0197bba9c62",
       "version_major": 2,
       "version_minor": 0
      },
      "text/plain": [
       "sci_xrsf-l2-flx1s_g16_d20181231_v2-1-0.nc:   0%|          | 0.00/5.02M [00:00<?, ?B/s]"
      ]
     },
     "metadata": {},
     "output_type": "display_data"
    },
    {
     "data": {
      "application/vnd.jupyter.widget-view+json": {
       "model_id": "373cdd47f5bb4cca9e60ba3247268906",
       "version_major": 2,
       "version_minor": 0
      },
      "text/plain": [
       "sci_xrsf-l2-flx1s_g17_d20180602_v2-1-0.nc:   0%|          | 0.00/5.07M [00:00<?, ?B/s]"
      ]
     },
     "metadata": {},
     "output_type": "display_data"
    },
    {
     "data": {
      "application/vnd.jupyter.widget-view+json": {
       "model_id": "4fbcf643a49d447fa7ecb7a4713728f1",
       "version_major": 2,
       "version_minor": 0
      },
      "text/plain": [
       "sci_xrsf-l2-flx1s_g17_d20180603_v2-1-0.nc:   0%|          | 0.00/5.08M [00:00<?, ?B/s]"
      ]
     },
     "metadata": {},
     "output_type": "display_data"
    },
    {
     "data": {
      "application/vnd.jupyter.widget-view+json": {
       "model_id": "e3b502de733f494ab521338daa809d54",
       "version_major": 2,
       "version_minor": 0
      },
      "text/plain": [
       "sci_xrsf-l2-flx1s_g17_d20180604_v2-1-0.nc:   0%|          | 0.00/5.11M [00:00<?, ?B/s]"
      ]
     },
     "metadata": {},
     "output_type": "display_data"
    },
    {
     "data": {
      "application/vnd.jupyter.widget-view+json": {
       "model_id": "69077c328ee44fcb9d7f98b68a9daee4",
       "version_major": 2,
       "version_minor": 0
      },
      "text/plain": [
       "sci_xrsf-l2-flx1s_g17_d20180605_v2-1-0.nc:   0%|          | 0.00/5.10M [00:00<?, ?B/s]"
      ]
     },
     "metadata": {},
     "output_type": "display_data"
    },
    {
     "data": {
      "application/vnd.jupyter.widget-view+json": {
       "model_id": "0438c4c245164843a384fe43196e5b9f",
       "version_major": 2,
       "version_minor": 0
      },
      "text/plain": [
       "sci_xrsf-l2-flx1s_g17_d20180606_v2-1-0.nc:   0%|          | 0.00/5.12M [00:00<?, ?B/s]"
      ]
     },
     "metadata": {},
     "output_type": "display_data"
    },
    {
     "data": {
      "application/vnd.jupyter.widget-view+json": {
       "model_id": "e7377c78ead34b15beb0103a65245b84",
       "version_major": 2,
       "version_minor": 0
      },
      "text/plain": [
       "sci_xrsf-l2-flx1s_g17_d20180607_v2-1-0.nc:   0%|          | 0.00/5.04M [00:00<?, ?B/s]"
      ]
     },
     "metadata": {},
     "output_type": "display_data"
    },
    {
     "data": {
      "application/vnd.jupyter.widget-view+json": {
       "model_id": "6dac2d19b3314da2a8ea08a376276e90",
       "version_major": 2,
       "version_minor": 0
      },
      "text/plain": [
       "sci_xrsf-l2-flx1s_g17_d20180608_v2-1-0.nc:   0%|          | 0.00/5.04M [00:00<?, ?B/s]"
      ]
     },
     "metadata": {},
     "output_type": "display_data"
    },
    {
     "data": {
      "application/vnd.jupyter.widget-view+json": {
       "model_id": "211a8a39a28f4e9fab43ce94f696ba7c",
       "version_major": 2,
       "version_minor": 0
      },
      "text/plain": [
       "sci_xrsf-l2-flx1s_g17_d20180609_v2-1-0.nc:   0%|          | 0.00/5.04M [00:00<?, ?B/s]"
      ]
     },
     "metadata": {},
     "output_type": "display_data"
    },
    {
     "data": {
      "application/vnd.jupyter.widget-view+json": {
       "model_id": "0a4ed28ddcd548cea3b79e3721ac4711",
       "version_major": 2,
       "version_minor": 0
      },
      "text/plain": [
       "sci_xrsf-l2-flx1s_g17_d20180610_v2-1-0.nc:   0%|          | 0.00/5.02M [00:00<?, ?B/s]"
      ]
     },
     "metadata": {},
     "output_type": "display_data"
    },
    {
     "data": {
      "application/vnd.jupyter.widget-view+json": {
       "model_id": "2bb0631ffbc04e07b31c11570bcdc1fd",
       "version_major": 2,
       "version_minor": 0
      },
      "text/plain": [
       "sci_xrsf-l2-flx1s_g17_d20180611_v2-1-0.nc:   0%|          | 0.00/5.02M [00:00<?, ?B/s]"
      ]
     },
     "metadata": {},
     "output_type": "display_data"
    },
    {
     "data": {
      "application/vnd.jupyter.widget-view+json": {
       "model_id": "d2faac684d0e465aa5ab16e175575806",
       "version_major": 2,
       "version_minor": 0
      },
      "text/plain": [
       "sci_xrsf-l2-flx1s_g17_d20180612_v2-1-0.nc:   0%|          | 0.00/4.80M [00:00<?, ?B/s]"
      ]
     },
     "metadata": {},
     "output_type": "display_data"
    },
    {
     "data": {
      "application/vnd.jupyter.widget-view+json": {
       "model_id": "fb34688ac5cf485b8ddf7e0167339689",
       "version_major": 2,
       "version_minor": 0
      },
      "text/plain": [
       "sci_xrsf-l2-flx1s_g17_d20180613_v2-1-0.nc:   0%|          | 0.00/5.02M [00:00<?, ?B/s]"
      ]
     },
     "metadata": {},
     "output_type": "display_data"
    },
    {
     "data": {
      "application/vnd.jupyter.widget-view+json": {
       "model_id": "0d776d720a5b4c80beb654d86a3b9826",
       "version_major": 2,
       "version_minor": 0
      },
      "text/plain": [
       "sci_xrsf-l2-flx1s_g17_d20180614_v2-1-0.nc:   0%|          | 0.00/5.02M [00:00<?, ?B/s]"
      ]
     },
     "metadata": {},
     "output_type": "display_data"
    },
    {
     "data": {
      "application/vnd.jupyter.widget-view+json": {
       "model_id": "3170fb1f3ed04a9bb79caf96d2041857",
       "version_major": 2,
       "version_minor": 0
      },
      "text/plain": [
       "sci_xrsf-l2-flx1s_g17_d20180615_v2-1-0.nc:   0%|          | 0.00/5.01M [00:00<?, ?B/s]"
      ]
     },
     "metadata": {},
     "output_type": "display_data"
    },
    {
     "data": {
      "application/vnd.jupyter.widget-view+json": {
       "model_id": "cc2b1787f04c4719bd70f4cdcb25b161",
       "version_major": 2,
       "version_minor": 0
      },
      "text/plain": [
       "sci_xrsf-l2-flx1s_g17_d20180616_v2-1-0.nc:   0%|          | 0.00/5.01M [00:00<?, ?B/s]"
      ]
     },
     "metadata": {},
     "output_type": "display_data"
    },
    {
     "data": {
      "application/vnd.jupyter.widget-view+json": {
       "model_id": "702d40ec142449a29bdd9b649be71fdc",
       "version_major": 2,
       "version_minor": 0
      },
      "text/plain": [
       "sci_xrsf-l2-flx1s_g17_d20180618_v2-1-0.nc:   0%|          | 0.00/5.04M [00:00<?, ?B/s]"
      ]
     },
     "metadata": {},
     "output_type": "display_data"
    },
    {
     "data": {
      "application/vnd.jupyter.widget-view+json": {
       "model_id": "d23d3795c178428aac3f563bbd227c12",
       "version_major": 2,
       "version_minor": 0
      },
      "text/plain": [
       "sci_xrsf-l2-flx1s_g17_d20180617_v2-1-0.nc:   0%|          | 0.00/5.01M [00:00<?, ?B/s]"
      ]
     },
     "metadata": {},
     "output_type": "display_data"
    },
    {
     "data": {
      "application/vnd.jupyter.widget-view+json": {
       "model_id": "b9e440dc32e5472fab23ae3371e04682",
       "version_major": 2,
       "version_minor": 0
      },
      "text/plain": [
       "sci_xrsf-l2-flx1s_g17_d20180619_v2-1-0.nc:   0%|          | 0.00/1.75M [00:00<?, ?B/s]"
      ]
     },
     "metadata": {},
     "output_type": "display_data"
    },
    {
     "data": {
      "application/vnd.jupyter.widget-view+json": {
       "model_id": "17ebc45d80864477b462251aba12a59e",
       "version_major": 2,
       "version_minor": 0
      },
      "text/plain": [
       "sci_xrsf-l2-flx1s_g17_d20180620_v2-1-0.nc:   0%|          | 0.00/4.88M [00:00<?, ?B/s]"
      ]
     },
     "metadata": {},
     "output_type": "display_data"
    },
    {
     "data": {
      "application/vnd.jupyter.widget-view+json": {
       "model_id": "d67a1ea988f24c78b13262a5fd945529",
       "version_major": 2,
       "version_minor": 0
      },
      "text/plain": [
       "sci_xrsf-l2-flx1s_g17_d20180621_v2-1-0.nc:   0%|          | 0.00/4.93M [00:00<?, ?B/s]"
      ]
     },
     "metadata": {},
     "output_type": "display_data"
    },
    {
     "data": {
      "application/vnd.jupyter.widget-view+json": {
       "model_id": "5397974c7fef471b841a64269cf0c811",
       "version_major": 2,
       "version_minor": 0
      },
      "text/plain": [
       "sci_xrsf-l2-flx1s_g17_d20180622_v2-1-0.nc:   0%|          | 0.00/5.02M [00:00<?, ?B/s]"
      ]
     },
     "metadata": {},
     "output_type": "display_data"
    },
    {
     "data": {
      "application/vnd.jupyter.widget-view+json": {
       "model_id": "7854ad6351714aa1b3f79ffa8d511d46",
       "version_major": 2,
       "version_minor": 0
      },
      "text/plain": [
       "sci_xrsf-l2-flx1s_g17_d20180623_v2-1-0.nc:   0%|          | 0.00/5.01M [00:00<?, ?B/s]"
      ]
     },
     "metadata": {},
     "output_type": "display_data"
    },
    {
     "data": {
      "application/vnd.jupyter.widget-view+json": {
       "model_id": "f18f896bfc3b4a569ee875923f44fa04",
       "version_major": 2,
       "version_minor": 0
      },
      "text/plain": [
       "sci_xrsf-l2-flx1s_g17_d20180624_v2-1-0.nc:   0%|          | 0.00/5.03M [00:00<?, ?B/s]"
      ]
     },
     "metadata": {},
     "output_type": "display_data"
    },
    {
     "data": {
      "application/vnd.jupyter.widget-view+json": {
       "model_id": "36112dbef189435889532e6fc4c9c74b",
       "version_major": 2,
       "version_minor": 0
      },
      "text/plain": [
       "sci_xrsf-l2-flx1s_g17_d20180625_v2-1-0.nc:   0%|          | 0.00/5.04M [00:00<?, ?B/s]"
      ]
     },
     "metadata": {},
     "output_type": "display_data"
    },
    {
     "data": {
      "application/vnd.jupyter.widget-view+json": {
       "model_id": "db24da2a9d5646debeefcefbc788b92d",
       "version_major": 2,
       "version_minor": 0
      },
      "text/plain": [
       "sci_xrsf-l2-flx1s_g17_d20180626_v2-1-0.nc:   0%|          | 0.00/5.04M [00:00<?, ?B/s]"
      ]
     },
     "metadata": {},
     "output_type": "display_data"
    },
    {
     "data": {
      "application/vnd.jupyter.widget-view+json": {
       "model_id": "ceaee1fb768f4e0faa8b76ae3b7a54ac",
       "version_major": 2,
       "version_minor": 0
      },
      "text/plain": [
       "sci_xrsf-l2-flx1s_g17_d20180627_v2-1-0.nc:   0%|          | 0.00/5.06M [00:00<?, ?B/s]"
      ]
     },
     "metadata": {},
     "output_type": "display_data"
    },
    {
     "data": {
      "application/vnd.jupyter.widget-view+json": {
       "model_id": "009a4d67610f4c12b9eea75ff0501863",
       "version_major": 2,
       "version_minor": 0
      },
      "text/plain": [
       "sci_xrsf-l2-flx1s_g17_d20180628_v2-1-0.nc:   0%|          | 0.00/5.08M [00:00<?, ?B/s]"
      ]
     },
     "metadata": {},
     "output_type": "display_data"
    },
    {
     "data": {
      "application/vnd.jupyter.widget-view+json": {
       "model_id": "4039a03d368f4580b0008ae61c00d14f",
       "version_major": 2,
       "version_minor": 0
      },
      "text/plain": [
       "sci_xrsf-l2-flx1s_g17_d20180629_v2-1-0.nc:   0%|          | 0.00/5.06M [00:00<?, ?B/s]"
      ]
     },
     "metadata": {},
     "output_type": "display_data"
    },
    {
     "data": {
      "application/vnd.jupyter.widget-view+json": {
       "model_id": "e9b1135c3af0416d84743cc0fe687553",
       "version_major": 2,
       "version_minor": 0
      },
      "text/plain": [
       "sci_xrsf-l2-flx1s_g17_d20180630_v2-1-0.nc:   0%|          | 0.00/5.05M [00:00<?, ?B/s]"
      ]
     },
     "metadata": {},
     "output_type": "display_data"
    },
    {
     "data": {
      "application/vnd.jupyter.widget-view+json": {
       "model_id": "26cb0893f2df43b0a239681a4a74c95d",
       "version_major": 2,
       "version_minor": 0
      },
      "text/plain": [
       "sci_xrsf-l2-flx1s_g17_d20180701_v2-1-0.nc:   0%|          | 0.00/5.05M [00:00<?, ?B/s]"
      ]
     },
     "metadata": {},
     "output_type": "display_data"
    },
    {
     "data": {
      "application/vnd.jupyter.widget-view+json": {
       "model_id": "476fb5d6bb9d411785528519d634cc1d",
       "version_major": 2,
       "version_minor": 0
      },
      "text/plain": [
       "sci_xrsf-l2-flx1s_g17_d20180702_v2-1-0.nc:   0%|          | 0.00/5.03M [00:00<?, ?B/s]"
      ]
     },
     "metadata": {},
     "output_type": "display_data"
    },
    {
     "data": {
      "application/vnd.jupyter.widget-view+json": {
       "model_id": "4e8fcf2f9ffb48d4bf765100b0da2208",
       "version_major": 2,
       "version_minor": 0
      },
      "text/plain": [
       "sci_xrsf-l2-flx1s_g17_d20180703_v2-1-0.nc:   0%|          | 0.00/5.03M [00:00<?, ?B/s]"
      ]
     },
     "metadata": {},
     "output_type": "display_data"
    },
    {
     "data": {
      "application/vnd.jupyter.widget-view+json": {
       "model_id": "c8ef330248264381b7ca32214213585e",
       "version_major": 2,
       "version_minor": 0
      },
      "text/plain": [
       "sci_xrsf-l2-flx1s_g17_d20180704_v2-1-0.nc:   0%|          | 0.00/5.03M [00:00<?, ?B/s]"
      ]
     },
     "metadata": {},
     "output_type": "display_data"
    },
    {
     "data": {
      "application/vnd.jupyter.widget-view+json": {
       "model_id": "980c5207924143ddb1ae66a869549d4d",
       "version_major": 2,
       "version_minor": 0
      },
      "text/plain": [
       "sci_xrsf-l2-flx1s_g17_d20180705_v2-1-0.nc:   0%|          | 0.00/5.01M [00:00<?, ?B/s]"
      ]
     },
     "metadata": {},
     "output_type": "display_data"
    },
    {
     "data": {
      "application/vnd.jupyter.widget-view+json": {
       "model_id": "49f0577c0eba4deba609be0ec6545984",
       "version_major": 2,
       "version_minor": 0
      },
      "text/plain": [
       "sci_xrsf-l2-flx1s_g17_d20180706_v2-1-0.nc:   0%|          | 0.00/5.03M [00:00<?, ?B/s]"
      ]
     },
     "metadata": {},
     "output_type": "display_data"
    },
    {
     "data": {
      "application/vnd.jupyter.widget-view+json": {
       "model_id": "09605224e1834d4bb1a40700a5c2e59a",
       "version_major": 2,
       "version_minor": 0
      },
      "text/plain": [
       "sci_xrsf-l2-flx1s_g17_d20180707_v2-1-0.nc:   0%|          | 0.00/5.03M [00:00<?, ?B/s]"
      ]
     },
     "metadata": {},
     "output_type": "display_data"
    },
    {
     "data": {
      "application/vnd.jupyter.widget-view+json": {
       "model_id": "74433ccae5af47bb9c1be4444ecff273",
       "version_major": 2,
       "version_minor": 0
      },
      "text/plain": [
       "sci_xrsf-l2-flx1s_g17_d20180708_v2-1-0.nc:   0%|          | 0.00/5.03M [00:00<?, ?B/s]"
      ]
     },
     "metadata": {},
     "output_type": "display_data"
    },
    {
     "data": {
      "application/vnd.jupyter.widget-view+json": {
       "model_id": "9ece783f24664f749cfc54ee3e438219",
       "version_major": 2,
       "version_minor": 0
      },
      "text/plain": [
       "sci_xrsf-l2-flx1s_g17_d20180709_v2-1-0.nc:   0%|          | 0.00/5.03M [00:00<?, ?B/s]"
      ]
     },
     "metadata": {},
     "output_type": "display_data"
    },
    {
     "data": {
      "application/vnd.jupyter.widget-view+json": {
       "model_id": "11ba19cb378b4dd2b285963233a1bfa3",
       "version_major": 2,
       "version_minor": 0
      },
      "text/plain": [
       "sci_xrsf-l2-flx1s_g17_d20180711_v2-1-0.nc:   0%|          | 0.00/5.02M [00:00<?, ?B/s]"
      ]
     },
     "metadata": {},
     "output_type": "display_data"
    },
    {
     "data": {
      "application/vnd.jupyter.widget-view+json": {
       "model_id": "553d4b8e7c924f8c8e2db372d1f739d9",
       "version_major": 2,
       "version_minor": 0
      },
      "text/plain": [
       "sci_xrsf-l2-flx1s_g17_d20180710_v2-1-0.nc:   0%|          | 0.00/5.01M [00:00<?, ?B/s]"
      ]
     },
     "metadata": {},
     "output_type": "display_data"
    },
    {
     "data": {
      "application/vnd.jupyter.widget-view+json": {
       "model_id": "fdfbcb941b1546259a0a3a9d0d9ac2ff",
       "version_major": 2,
       "version_minor": 0
      },
      "text/plain": [
       "sci_xrsf-l2-flx1s_g17_d20180714_v2-1-0.nc:   0%|          | 0.00/5.02M [00:00<?, ?B/s]"
      ]
     },
     "metadata": {},
     "output_type": "display_data"
    },
    {
     "data": {
      "application/vnd.jupyter.widget-view+json": {
       "model_id": "b0604ed0a5b54fafb7e0819e32bc83d6",
       "version_major": 2,
       "version_minor": 0
      },
      "text/plain": [
       "sci_xrsf-l2-flx1s_g17_d20180712_v2-1-0.nc:   0%|          | 0.00/4.59M [00:00<?, ?B/s]"
      ]
     },
     "metadata": {},
     "output_type": "display_data"
    },
    {
     "data": {
      "application/vnd.jupyter.widget-view+json": {
       "model_id": "88f2fe56159e42d98b9c422bd6325bbf",
       "version_major": 2,
       "version_minor": 0
      },
      "text/plain": [
       "sci_xrsf-l2-flx1s_g17_d20180713_v2-1-0.nc:   0%|          | 0.00/5.03M [00:00<?, ?B/s]"
      ]
     },
     "metadata": {},
     "output_type": "display_data"
    },
    {
     "data": {
      "application/vnd.jupyter.widget-view+json": {
       "model_id": "48863556ef564cfbb595df23f3cc5ba7",
       "version_major": 2,
       "version_minor": 0
      },
      "text/plain": [
       "sci_xrsf-l2-flx1s_g17_d20180716_v2-1-0.nc:   0%|          | 0.00/5.02M [00:00<?, ?B/s]"
      ]
     },
     "metadata": {},
     "output_type": "display_data"
    },
    {
     "data": {
      "application/vnd.jupyter.widget-view+json": {
       "model_id": "b7c7c5f553d8448b8bad4c05664d89c7",
       "version_major": 2,
       "version_minor": 0
      },
      "text/plain": [
       "sci_xrsf-l2-flx1s_g17_d20180715_v2-1-0.nc:   0%|          | 0.00/5.02M [00:00<?, ?B/s]"
      ]
     },
     "metadata": {},
     "output_type": "display_data"
    },
    {
     "data": {
      "application/vnd.jupyter.widget-view+json": {
       "model_id": "216b26c4572f46a28d9078f96109de63",
       "version_major": 2,
       "version_minor": 0
      },
      "text/plain": [
       "sci_xrsf-l2-flx1s_g17_d20180717_v2-1-0.nc:   0%|          | 0.00/4.87M [00:00<?, ?B/s]"
      ]
     },
     "metadata": {},
     "output_type": "display_data"
    },
    {
     "data": {
      "application/vnd.jupyter.widget-view+json": {
       "model_id": "5f9101b8754c41e9bbd0336c4af051e1",
       "version_major": 2,
       "version_minor": 0
      },
      "text/plain": [
       "sci_xrsf-l2-flx1s_g17_d20180718_v2-1-0.nc:   0%|          | 0.00/5.02M [00:00<?, ?B/s]"
      ]
     },
     "metadata": {},
     "output_type": "display_data"
    },
    {
     "data": {
      "application/vnd.jupyter.widget-view+json": {
       "model_id": "1347e7240e9649b68eb034554717e715",
       "version_major": 2,
       "version_minor": 0
      },
      "text/plain": [
       "sci_xrsf-l2-flx1s_g17_d20180719_v2-1-0.nc:   0%|          | 0.00/5.01M [00:00<?, ?B/s]"
      ]
     },
     "metadata": {},
     "output_type": "display_data"
    },
    {
     "data": {
      "application/vnd.jupyter.widget-view+json": {
       "model_id": "e1789cedd73b4bcb8608ed93d58ce162",
       "version_major": 2,
       "version_minor": 0
      },
      "text/plain": [
       "sci_xrsf-l2-flx1s_g17_d20180720_v2-1-0.nc:   0%|          | 0.00/4.76M [00:00<?, ?B/s]"
      ]
     },
     "metadata": {},
     "output_type": "display_data"
    },
    {
     "data": {
      "application/vnd.jupyter.widget-view+json": {
       "model_id": "1e88e9c173214cc4bbfbe42af1238ff0",
       "version_major": 2,
       "version_minor": 0
      },
      "text/plain": [
       "sci_xrsf-l2-flx1s_g17_d20180721_v2-1-0.nc:   0%|          | 0.00/5.03M [00:00<?, ?B/s]"
      ]
     },
     "metadata": {},
     "output_type": "display_data"
    },
    {
     "data": {
      "application/vnd.jupyter.widget-view+json": {
       "model_id": "cc05a17243d642aeae5cdeb6c71012f6",
       "version_major": 2,
       "version_minor": 0
      },
      "text/plain": [
       "sci_xrsf-l2-flx1s_g17_d20180722_v2-1-0.nc:   0%|          | 0.00/5.03M [00:00<?, ?B/s]"
      ]
     },
     "metadata": {},
     "output_type": "display_data"
    },
    {
     "data": {
      "application/vnd.jupyter.widget-view+json": {
       "model_id": "a8d1bb96091f48048a7ed85d37076207",
       "version_major": 2,
       "version_minor": 0
      },
      "text/plain": [
       "sci_xrsf-l2-flx1s_g17_d20180723_v2-1-0.nc:   0%|          | 0.00/5.02M [00:00<?, ?B/s]"
      ]
     },
     "metadata": {},
     "output_type": "display_data"
    },
    {
     "data": {
      "application/vnd.jupyter.widget-view+json": {
       "model_id": "db8e866b256d4a808e54eef4255351d5",
       "version_major": 2,
       "version_minor": 0
      },
      "text/plain": [
       "sci_xrsf-l2-flx1s_g17_d20180724_v2-1-0.nc:   0%|          | 0.00/5.03M [00:00<?, ?B/s]"
      ]
     },
     "metadata": {},
     "output_type": "display_data"
    },
    {
     "data": {
      "application/vnd.jupyter.widget-view+json": {
       "model_id": "ed16c52becd2456aa5722d5c180e482b",
       "version_major": 2,
       "version_minor": 0
      },
      "text/plain": [
       "sci_xrsf-l2-flx1s_g17_d20180725_v2-1-0.nc:   0%|          | 0.00/5.06M [00:00<?, ?B/s]"
      ]
     },
     "metadata": {},
     "output_type": "display_data"
    },
    {
     "data": {
      "application/vnd.jupyter.widget-view+json": {
       "model_id": "56936268dc674f0e90047c20b13c5879",
       "version_major": 2,
       "version_minor": 0
      },
      "text/plain": [
       "sci_xrsf-l2-flx1s_g17_d20180726_v2-1-0.nc:   0%|          | 0.00/4.87M [00:00<?, ?B/s]"
      ]
     },
     "metadata": {},
     "output_type": "display_data"
    },
    {
     "data": {
      "application/vnd.jupyter.widget-view+json": {
       "model_id": "081a565a654648b1a1a6190a3edf9422",
       "version_major": 2,
       "version_minor": 0
      },
      "text/plain": [
       "sci_xrsf-l2-flx1s_g17_d20180730_v2-1-0.nc:   0%|          | 0.00/5.03M [00:00<?, ?B/s]"
      ]
     },
     "metadata": {},
     "output_type": "display_data"
    },
    {
     "data": {
      "application/vnd.jupyter.widget-view+json": {
       "model_id": "2df2c538905248e78fdb8650156970e2",
       "version_major": 2,
       "version_minor": 0
      },
      "text/plain": [
       "sci_xrsf-l2-flx1s_g17_d20180731_v2-1-0.nc:   0%|          | 0.00/5.02M [00:00<?, ?B/s]"
      ]
     },
     "metadata": {},
     "output_type": "display_data"
    },
    {
     "data": {
      "application/vnd.jupyter.widget-view+json": {
       "model_id": "e8254021d83249438c05b4c4b16fce38",
       "version_major": 2,
       "version_minor": 0
      },
      "text/plain": [
       "sci_xrsf-l2-flx1s_g17_d20180727_v2-1-0.nc:   0%|          | 0.00/5.03M [00:00<?, ?B/s]"
      ]
     },
     "metadata": {},
     "output_type": "display_data"
    },
    {
     "data": {
      "application/vnd.jupyter.widget-view+json": {
       "model_id": "31f26a5c85154c9fac071e1c693129c1",
       "version_major": 2,
       "version_minor": 0
      },
      "text/plain": [
       "sci_xrsf-l2-flx1s_g17_d20180729_v2-1-0.nc:   0%|          | 0.00/5.03M [00:00<?, ?B/s]"
      ]
     },
     "metadata": {},
     "output_type": "display_data"
    },
    {
     "data": {
      "application/vnd.jupyter.widget-view+json": {
       "model_id": "8884f9cfc8d442d4b67069c43e6dccfe",
       "version_major": 2,
       "version_minor": 0
      },
      "text/plain": [
       "sci_xrsf-l2-flx1s_g17_d20180728_v2-1-0.nc:   0%|          | 0.00/5.05M [00:00<?, ?B/s]"
      ]
     },
     "metadata": {},
     "output_type": "display_data"
    },
    {
     "data": {
      "application/vnd.jupyter.widget-view+json": {
       "model_id": "b2862bc12bc24ef8a861ed4fabb691c6",
       "version_major": 2,
       "version_minor": 0
      },
      "text/plain": [
       "sci_xrsf-l2-flx1s_g17_d20180801_v2-1-0.nc:   0%|          | 0.00/5.03M [00:00<?, ?B/s]"
      ]
     },
     "metadata": {},
     "output_type": "display_data"
    },
    {
     "data": {
      "application/vnd.jupyter.widget-view+json": {
       "model_id": "e29e1858e1724de19bcdad42bbd6768b",
       "version_major": 2,
       "version_minor": 0
      },
      "text/plain": [
       "sci_xrsf-l2-flx1s_g17_d20180805_v2-1-0.nc:   0%|          | 0.00/5.03M [00:00<?, ?B/s]"
      ]
     },
     "metadata": {},
     "output_type": "display_data"
    },
    {
     "data": {
      "application/vnd.jupyter.widget-view+json": {
       "model_id": "c0750386dbfd4328b3b04068070baa42",
       "version_major": 2,
       "version_minor": 0
      },
      "text/plain": [
       "sci_xrsf-l2-flx1s_g17_d20180802_v2-1-0.nc:   0%|          | 0.00/5.03M [00:00<?, ?B/s]"
      ]
     },
     "metadata": {},
     "output_type": "display_data"
    },
    {
     "data": {
      "application/vnd.jupyter.widget-view+json": {
       "model_id": "b59f2757083849e5820025f42b4b4509",
       "version_major": 2,
       "version_minor": 0
      },
      "text/plain": [
       "sci_xrsf-l2-flx1s_g17_d20180803_v2-1-0.nc:   0%|          | 0.00/5.03M [00:00<?, ?B/s]"
      ]
     },
     "metadata": {},
     "output_type": "display_data"
    },
    {
     "data": {
      "application/vnd.jupyter.widget-view+json": {
       "model_id": "fb7d03d7912947ab86dfec4deb0d6f81",
       "version_major": 2,
       "version_minor": 0
      },
      "text/plain": [
       "sci_xrsf-l2-flx1s_g17_d20180804_v2-1-0.nc:   0%|          | 0.00/5.02M [00:00<?, ?B/s]"
      ]
     },
     "metadata": {},
     "output_type": "display_data"
    },
    {
     "data": {
      "application/vnd.jupyter.widget-view+json": {
       "model_id": "3439e5482759437da2efdddfee3526ab",
       "version_major": 2,
       "version_minor": 0
      },
      "text/plain": [
       "sci_xrsf-l2-flx1s_g17_d20180808_v2-1-0.nc:   0%|          | 0.00/5.06M [00:00<?, ?B/s]"
      ]
     },
     "metadata": {},
     "output_type": "display_data"
    },
    {
     "data": {
      "application/vnd.jupyter.widget-view+json": {
       "model_id": "a367ee73c20641e2adfcb10f606df376",
       "version_major": 2,
       "version_minor": 0
      },
      "text/plain": [
       "sci_xrsf-l2-flx1s_g17_d20180806_v2-1-0.nc:   0%|          | 0.00/5.03M [00:00<?, ?B/s]"
      ]
     },
     "metadata": {},
     "output_type": "display_data"
    },
    {
     "data": {
      "application/vnd.jupyter.widget-view+json": {
       "model_id": "6187769fcac34046b876604ff1de78e2",
       "version_major": 2,
       "version_minor": 0
      },
      "text/plain": [
       "sci_xrsf-l2-flx1s_g17_d20180807_v2-1-0.nc:   0%|          | 0.00/5.06M [00:00<?, ?B/s]"
      ]
     },
     "metadata": {},
     "output_type": "display_data"
    },
    {
     "data": {
      "application/vnd.jupyter.widget-view+json": {
       "model_id": "667be465aead45a695b6ea72b6dfeee4",
       "version_major": 2,
       "version_minor": 0
      },
      "text/plain": [
       "sci_xrsf-l2-flx1s_g17_d20180809_v2-1-0.nc:   0%|          | 0.00/5.06M [00:00<?, ?B/s]"
      ]
     },
     "metadata": {},
     "output_type": "display_data"
    },
    {
     "data": {
      "application/vnd.jupyter.widget-view+json": {
       "model_id": "5ad6ee9326594d5096417770684b8eb3",
       "version_major": 2,
       "version_minor": 0
      },
      "text/plain": [
       "sci_xrsf-l2-flx1s_g17_d20180810_v2-1-0.nc:   0%|          | 0.00/5.05M [00:00<?, ?B/s]"
      ]
     },
     "metadata": {},
     "output_type": "display_data"
    },
    {
     "data": {
      "application/vnd.jupyter.widget-view+json": {
       "model_id": "ed8089c8dd1f4d31a3fa76f13893f482",
       "version_major": 2,
       "version_minor": 0
      },
      "text/plain": [
       "sci_xrsf-l2-flx1s_g17_d20180811_v2-1-0.nc:   0%|          | 0.00/5.06M [00:00<?, ?B/s]"
      ]
     },
     "metadata": {},
     "output_type": "display_data"
    },
    {
     "data": {
      "application/vnd.jupyter.widget-view+json": {
       "model_id": "bfc8883953824f89b52fae0b05a9c153",
       "version_major": 2,
       "version_minor": 0
      },
      "text/plain": [
       "sci_xrsf-l2-flx1s_g17_d20180812_v2-1-0.nc:   0%|          | 0.00/5.05M [00:00<?, ?B/s]"
      ]
     },
     "metadata": {},
     "output_type": "display_data"
    },
    {
     "data": {
      "application/vnd.jupyter.widget-view+json": {
       "model_id": "748e2f4f7204406da5ec8867090c0a36",
       "version_major": 2,
       "version_minor": 0
      },
      "text/plain": [
       "sci_xrsf-l2-flx1s_g17_d20180813_v2-1-0.nc:   0%|          | 0.00/5.05M [00:00<?, ?B/s]"
      ]
     },
     "metadata": {},
     "output_type": "display_data"
    },
    {
     "data": {
      "application/vnd.jupyter.widget-view+json": {
       "model_id": "d487927b235347a19bead80b4b4e0dd7",
       "version_major": 2,
       "version_minor": 0
      },
      "text/plain": [
       "sci_xrsf-l2-flx1s_g17_d20180817_v2-1-0.nc:   0%|          | 0.00/5.06M [00:00<?, ?B/s]"
      ]
     },
     "metadata": {},
     "output_type": "display_data"
    },
    {
     "data": {
      "application/vnd.jupyter.widget-view+json": {
       "model_id": "b73cf17a60b14fa99b8b12ce69d7c47d",
       "version_major": 2,
       "version_minor": 0
      },
      "text/plain": [
       "sci_xrsf-l2-flx1s_g17_d20180814_v2-1-0.nc:   0%|          | 0.00/5.05M [00:00<?, ?B/s]"
      ]
     },
     "metadata": {},
     "output_type": "display_data"
    },
    {
     "data": {
      "application/vnd.jupyter.widget-view+json": {
       "model_id": "1cf18f5b14114670a2959928d654762b",
       "version_major": 2,
       "version_minor": 0
      },
      "text/plain": [
       "sci_xrsf-l2-flx1s_g17_d20180816_v2-1-0.nc:   0%|          | 0.00/5.06M [00:00<?, ?B/s]"
      ]
     },
     "metadata": {},
     "output_type": "display_data"
    },
    {
     "data": {
      "application/vnd.jupyter.widget-view+json": {
       "model_id": "65dd32c932174d5aaadab37fdf6e0e8d",
       "version_major": 2,
       "version_minor": 0
      },
      "text/plain": [
       "sci_xrsf-l2-flx1s_g17_d20180815_v2-1-0.nc:   0%|          | 0.00/5.06M [00:00<?, ?B/s]"
      ]
     },
     "metadata": {},
     "output_type": "display_data"
    },
    {
     "data": {
      "application/vnd.jupyter.widget-view+json": {
       "model_id": "fa42624828a14406aea75e2a1a77fbc5",
       "version_major": 2,
       "version_minor": 0
      },
      "text/plain": [
       "sci_xrsf-l2-flx1s_g17_d20180818_v2-1-0.nc:   0%|          | 0.00/5.10M [00:00<?, ?B/s]"
      ]
     },
     "metadata": {},
     "output_type": "display_data"
    },
    {
     "data": {
      "application/vnd.jupyter.widget-view+json": {
       "model_id": "8dd04abfeadf43a2986c2e08850b6db3",
       "version_major": 2,
       "version_minor": 0
      },
      "text/plain": [
       "sci_xrsf-l2-flx1s_g17_d20180821_v2-1-0.nc:   0%|          | 0.00/5.13M [00:00<?, ?B/s]"
      ]
     },
     "metadata": {},
     "output_type": "display_data"
    },
    {
     "data": {
      "application/vnd.jupyter.widget-view+json": {
       "model_id": "16c371ec3d384b4eb6f479f16def14f4",
       "version_major": 2,
       "version_minor": 0
      },
      "text/plain": [
       "sci_xrsf-l2-flx1s_g17_d20180819_v2-1-0.nc:   0%|          | 0.00/5.11M [00:00<?, ?B/s]"
      ]
     },
     "metadata": {},
     "output_type": "display_data"
    },
    {
     "data": {
      "application/vnd.jupyter.widget-view+json": {
       "model_id": "f0135e3ad7fd416196e480bb8478d983",
       "version_major": 2,
       "version_minor": 0
      },
      "text/plain": [
       "sci_xrsf-l2-flx1s_g17_d20180820_v2-1-0.nc:   0%|          | 0.00/4.70M [00:00<?, ?B/s]"
      ]
     },
     "metadata": {},
     "output_type": "display_data"
    },
    {
     "data": {
      "application/vnd.jupyter.widget-view+json": {
       "model_id": "d6740b9ed2bb463f86db5c7d1573d17a",
       "version_major": 2,
       "version_minor": 0
      },
      "text/plain": [
       "sci_xrsf-l2-flx1s_g17_d20180822_v2-1-0.nc:   0%|          | 0.00/5.09M [00:00<?, ?B/s]"
      ]
     },
     "metadata": {},
     "output_type": "display_data"
    },
    {
     "data": {
      "application/vnd.jupyter.widget-view+json": {
       "model_id": "88ff1483b9a94065b07128b169cf91e9",
       "version_major": 2,
       "version_minor": 0
      },
      "text/plain": [
       "sci_xrsf-l2-flx1s_g17_d20180824_v2-1-0.nc:   0%|          | 0.00/5.07M [00:00<?, ?B/s]"
      ]
     },
     "metadata": {},
     "output_type": "display_data"
    },
    {
     "data": {
      "application/vnd.jupyter.widget-view+json": {
       "model_id": "9dc41f9593c942f7b08ebb1865becf68",
       "version_major": 2,
       "version_minor": 0
      },
      "text/plain": [
       "sci_xrsf-l2-flx1s_g17_d20180825_v2-1-0.nc:   0%|          | 0.00/5.07M [00:00<?, ?B/s]"
      ]
     },
     "metadata": {},
     "output_type": "display_data"
    },
    {
     "data": {
      "application/vnd.jupyter.widget-view+json": {
       "model_id": "268036b3048648198ab692902bb397e5",
       "version_major": 2,
       "version_minor": 0
      },
      "text/plain": [
       "sci_xrsf-l2-flx1s_g17_d20180826_v2-1-0.nc:   0%|          | 0.00/5.09M [00:00<?, ?B/s]"
      ]
     },
     "metadata": {},
     "output_type": "display_data"
    },
    {
     "data": {
      "application/vnd.jupyter.widget-view+json": {
       "model_id": "31450ead33ec47f8ba98278712d64111",
       "version_major": 2,
       "version_minor": 0
      },
      "text/plain": [
       "sci_xrsf-l2-flx1s_g17_d20180823_v2-1-0.nc:   0%|          | 0.00/5.08M [00:00<?, ?B/s]"
      ]
     },
     "metadata": {},
     "output_type": "display_data"
    },
    {
     "data": {
      "application/vnd.jupyter.widget-view+json": {
       "model_id": "98db556d60c944e68ab278c86c178765",
       "version_major": 2,
       "version_minor": 0
      },
      "text/plain": [
       "sci_xrsf-l2-flx1s_g17_d20180827_v2-1-0.nc:   0%|          | 0.00/5.10M [00:00<?, ?B/s]"
      ]
     },
     "metadata": {},
     "output_type": "display_data"
    },
    {
     "data": {
      "application/vnd.jupyter.widget-view+json": {
       "model_id": "c8d0de7483114028bd12ee5c66ef1c49",
       "version_major": 2,
       "version_minor": 0
      },
      "text/plain": [
       "sci_xrsf-l2-flx1s_g17_d20180828_v2-1-0.nc:   0%|          | 0.00/5.18M [00:00<?, ?B/s]"
      ]
     },
     "metadata": {},
     "output_type": "display_data"
    },
    {
     "data": {
      "application/vnd.jupyter.widget-view+json": {
       "model_id": "01de43c4ad984a9fab432081164ffdf8",
       "version_major": 2,
       "version_minor": 0
      },
      "text/plain": [
       "sci_xrsf-l2-flx1s_g17_d20180830_v2-1-0.nc:   0%|          | 0.00/5.21M [00:00<?, ?B/s]"
      ]
     },
     "metadata": {},
     "output_type": "display_data"
    },
    {
     "data": {
      "application/vnd.jupyter.widget-view+json": {
       "model_id": "590292c4660c4fe291d7ab2e622d18bf",
       "version_major": 2,
       "version_minor": 0
      },
      "text/plain": [
       "sci_xrsf-l2-flx1s_g17_d20180901_v2-1-0.nc:   0%|          | 0.00/5.12M [00:00<?, ?B/s]"
      ]
     },
     "metadata": {},
     "output_type": "display_data"
    },
    {
     "data": {
      "application/vnd.jupyter.widget-view+json": {
       "model_id": "98b700bb5e1b40f88353cd3f4fe23188",
       "version_major": 2,
       "version_minor": 0
      },
      "text/plain": [
       "sci_xrsf-l2-flx1s_g17_d20180831_v2-1-0.nc:   0%|          | 0.00/5.15M [00:00<?, ?B/s]"
      ]
     },
     "metadata": {},
     "output_type": "display_data"
    },
    {
     "data": {
      "application/vnd.jupyter.widget-view+json": {
       "model_id": "90e03e5830204299b285e1f560927151",
       "version_major": 2,
       "version_minor": 0
      },
      "text/plain": [
       "sci_xrsf-l2-flx1s_g17_d20180829_v2-1-0.nc:   0%|          | 0.00/5.19M [00:00<?, ?B/s]"
      ]
     },
     "metadata": {},
     "output_type": "display_data"
    },
    {
     "data": {
      "application/vnd.jupyter.widget-view+json": {
       "model_id": "608af552e71048dd8c247726e0d8a8a5",
       "version_major": 2,
       "version_minor": 0
      },
      "text/plain": [
       "sci_xrsf-l2-flx1s_g17_d20180903_v2-1-0.nc:   0%|          | 0.00/5.10M [00:00<?, ?B/s]"
      ]
     },
     "metadata": {},
     "output_type": "display_data"
    },
    {
     "data": {
      "application/vnd.jupyter.widget-view+json": {
       "model_id": "018c6856eb5d41ccbeef35467dc0001b",
       "version_major": 2,
       "version_minor": 0
      },
      "text/plain": [
       "sci_xrsf-l2-flx1s_g17_d20180902_v2-1-0.nc:   0%|          | 0.00/5.11M [00:00<?, ?B/s]"
      ]
     },
     "metadata": {},
     "output_type": "display_data"
    },
    {
     "data": {
      "application/vnd.jupyter.widget-view+json": {
       "model_id": "6383661350254b6db98e099d3ffff213",
       "version_major": 2,
       "version_minor": 0
      },
      "text/plain": [
       "sci_xrsf-l2-flx1s_g17_d20180904_v2-1-0.nc:   0%|          | 0.00/5.10M [00:00<?, ?B/s]"
      ]
     },
     "metadata": {},
     "output_type": "display_data"
    },
    {
     "data": {
      "application/vnd.jupyter.widget-view+json": {
       "model_id": "de7bb88a61cd4a8da6ddfc72719f688f",
       "version_major": 2,
       "version_minor": 0
      },
      "text/plain": [
       "sci_xrsf-l2-flx1s_g17_d20180905_v2-1-0.nc:   0%|          | 0.00/5.11M [00:00<?, ?B/s]"
      ]
     },
     "metadata": {},
     "output_type": "display_data"
    },
    {
     "data": {
      "application/vnd.jupyter.widget-view+json": {
       "model_id": "41621879fadd4dc6a1a54eeb3afcf8ce",
       "version_major": 2,
       "version_minor": 0
      },
      "text/plain": [
       "sci_xrsf-l2-flx1s_g17_d20180906_v2-1-0.nc:   0%|          | 0.00/5.12M [00:00<?, ?B/s]"
      ]
     },
     "metadata": {},
     "output_type": "display_data"
    },
    {
     "data": {
      "application/vnd.jupyter.widget-view+json": {
       "model_id": "c9f70ff5d72e494faeb9b86a9ed17c46",
       "version_major": 2,
       "version_minor": 0
      },
      "text/plain": [
       "sci_xrsf-l2-flx1s_g17_d20180908_v2-1-0.nc:   0%|          | 0.00/5.11M [00:00<?, ?B/s]"
      ]
     },
     "metadata": {},
     "output_type": "display_data"
    },
    {
     "data": {
      "application/vnd.jupyter.widget-view+json": {
       "model_id": "d7578037f55047ddbdd5d8eeecca780f",
       "version_major": 2,
       "version_minor": 0
      },
      "text/plain": [
       "sci_xrsf-l2-flx1s_g17_d20180909_v2-1-0.nc:   0%|          | 0.00/5.12M [00:00<?, ?B/s]"
      ]
     },
     "metadata": {},
     "output_type": "display_data"
    },
    {
     "data": {
      "application/vnd.jupyter.widget-view+json": {
       "model_id": "33daab13952144419e2898c23db28234",
       "version_major": 2,
       "version_minor": 0
      },
      "text/plain": [
       "sci_xrsf-l2-flx1s_g17_d20180910_v2-1-0.nc:   0%|          | 0.00/4.44M [00:00<?, ?B/s]"
      ]
     },
     "metadata": {},
     "output_type": "display_data"
    },
    {
     "data": {
      "application/vnd.jupyter.widget-view+json": {
       "model_id": "c40ef3588c8e4c92bf1f7af2cb570d5c",
       "version_major": 2,
       "version_minor": 0
      },
      "text/plain": [
       "sci_xrsf-l2-flx1s_g17_d20180907_v2-1-0.nc:   0%|          | 0.00/5.11M [00:00<?, ?B/s]"
      ]
     },
     "metadata": {},
     "output_type": "display_data"
    },
    {
     "data": {
      "application/vnd.jupyter.widget-view+json": {
       "model_id": "1e81e69ffc2a4852825d268cf28e9594",
       "version_major": 2,
       "version_minor": 0
      },
      "text/plain": [
       "sci_xrsf-l2-flx1s_g17_d20180911_v2-1-0.nc:   0%|          | 0.00/3.65M [00:00<?, ?B/s]"
      ]
     },
     "metadata": {},
     "output_type": "display_data"
    },
    {
     "data": {
      "application/vnd.jupyter.widget-view+json": {
       "model_id": "6382519a4f47473787351ed7089a0b43",
       "version_major": 2,
       "version_minor": 0
      },
      "text/plain": [
       "sci_xrsf-l2-flx1s_g17_d20180913_v2-1-0.nc:   0%|          | 0.00/5.14M [00:00<?, ?B/s]"
      ]
     },
     "metadata": {},
     "output_type": "display_data"
    },
    {
     "data": {
      "application/vnd.jupyter.widget-view+json": {
       "model_id": "dcb3aed4038f4f60a0767b0adb2e6823",
       "version_major": 2,
       "version_minor": 0
      },
      "text/plain": [
       "sci_xrsf-l2-flx1s_g17_d20180912_v2-1-0.nc:   0%|          | 0.00/5.16M [00:00<?, ?B/s]"
      ]
     },
     "metadata": {},
     "output_type": "display_data"
    },
    {
     "data": {
      "application/vnd.jupyter.widget-view+json": {
       "model_id": "395becf4bbec4a56b47b6209d1da4791",
       "version_major": 2,
       "version_minor": 0
      },
      "text/plain": [
       "sci_xrsf-l2-flx1s_g17_d20180914_v2-1-0.nc:   0%|          | 0.00/5.16M [00:00<?, ?B/s]"
      ]
     },
     "metadata": {},
     "output_type": "display_data"
    },
    {
     "data": {
      "application/vnd.jupyter.widget-view+json": {
       "model_id": "55349d8bf81845169bcd5d263b3755e5",
       "version_major": 2,
       "version_minor": 0
      },
      "text/plain": [
       "sci_xrsf-l2-flx1s_g17_d20180915_v2-1-0.nc:   0%|          | 0.00/5.17M [00:00<?, ?B/s]"
      ]
     },
     "metadata": {},
     "output_type": "display_data"
    },
    {
     "data": {
      "application/vnd.jupyter.widget-view+json": {
       "model_id": "818d28511ff2437f93ea7144559cc18d",
       "version_major": 2,
       "version_minor": 0
      },
      "text/plain": [
       "sci_xrsf-l2-flx1s_g17_d20180916_v2-1-0.nc:   0%|          | 0.00/5.18M [00:00<?, ?B/s]"
      ]
     },
     "metadata": {},
     "output_type": "display_data"
    },
    {
     "data": {
      "application/vnd.jupyter.widget-view+json": {
       "model_id": "eefd36c34adc4282b49b5a1fcc46adea",
       "version_major": 2,
       "version_minor": 0
      },
      "text/plain": [
       "sci_xrsf-l2-flx1s_g17_d20180917_v2-1-0.nc:   0%|          | 0.00/5.09M [00:00<?, ?B/s]"
      ]
     },
     "metadata": {},
     "output_type": "display_data"
    },
    {
     "data": {
      "application/vnd.jupyter.widget-view+json": {
       "model_id": "801bb65967e843baab9acdb208a760f7",
       "version_major": 2,
       "version_minor": 0
      },
      "text/plain": [
       "sci_xrsf-l2-flx1s_g17_d20180918_v2-1-0.nc:   0%|          | 0.00/5.13M [00:00<?, ?B/s]"
      ]
     },
     "metadata": {},
     "output_type": "display_data"
    },
    {
     "data": {
      "application/vnd.jupyter.widget-view+json": {
       "model_id": "d0977de5139043aa83925cebc6693fb6",
       "version_major": 2,
       "version_minor": 0
      },
      "text/plain": [
       "sci_xrsf-l2-flx1s_g17_d20180923_v2-1-0.nc:   0%|          | 0.00/5.12M [00:00<?, ?B/s]"
      ]
     },
     "metadata": {},
     "output_type": "display_data"
    },
    {
     "data": {
      "application/vnd.jupyter.widget-view+json": {
       "model_id": "9e8a30f6a8b04cebbd662d0a26de1289",
       "version_major": 2,
       "version_minor": 0
      },
      "text/plain": [
       "sci_xrsf-l2-flx1s_g17_d20180921_v2-1-0.nc:   0%|          | 0.00/5.12M [00:00<?, ?B/s]"
      ]
     },
     "metadata": {},
     "output_type": "display_data"
    },
    {
     "data": {
      "application/vnd.jupyter.widget-view+json": {
       "model_id": "7f2baf4ada944e618fb93866f6ca5b83",
       "version_major": 2,
       "version_minor": 0
      },
      "text/plain": [
       "sci_xrsf-l2-flx1s_g17_d20180919_v2-1-0.nc:   0%|          | 0.00/5.13M [00:00<?, ?B/s]"
      ]
     },
     "metadata": {},
     "output_type": "display_data"
    },
    {
     "data": {
      "application/vnd.jupyter.widget-view+json": {
       "model_id": "e2f2462be1624a67a963f1b4e6287ec6",
       "version_major": 2,
       "version_minor": 0
      },
      "text/plain": [
       "sci_xrsf-l2-flx1s_g17_d20180922_v2-1-0.nc:   0%|          | 0.00/5.13M [00:00<?, ?B/s]"
      ]
     },
     "metadata": {},
     "output_type": "display_data"
    },
    {
     "data": {
      "application/vnd.jupyter.widget-view+json": {
       "model_id": "83943cbe97ad4a7db682ffe31450eb2e",
       "version_major": 2,
       "version_minor": 0
      },
      "text/plain": [
       "sci_xrsf-l2-flx1s_g17_d20180920_v2-1-0.nc:   0%|          | 0.00/5.12M [00:00<?, ?B/s]"
      ]
     },
     "metadata": {},
     "output_type": "display_data"
    },
    {
     "data": {
      "application/vnd.jupyter.widget-view+json": {
       "model_id": "498fb2dd563b4af992bfbdcf1079716f",
       "version_major": 2,
       "version_minor": 0
      },
      "text/plain": [
       "sci_xrsf-l2-flx1s_g17_d20180927_v2-1-0.nc:   0%|          | 0.00/5.14M [00:00<?, ?B/s]"
      ]
     },
     "metadata": {},
     "output_type": "display_data"
    },
    {
     "data": {
      "application/vnd.jupyter.widget-view+json": {
       "model_id": "f8b3401cd03f4ce1886a09ec68852be7",
       "version_major": 2,
       "version_minor": 0
      },
      "text/plain": [
       "sci_xrsf-l2-flx1s_g17_d20180924_v2-1-0.nc:   0%|          | 0.00/5.09M [00:00<?, ?B/s]"
      ]
     },
     "metadata": {},
     "output_type": "display_data"
    },
    {
     "data": {
      "application/vnd.jupyter.widget-view+json": {
       "model_id": "2d46bb9e2ac143689b93a1c3dc688fab",
       "version_major": 2,
       "version_minor": 0
      },
      "text/plain": [
       "sci_xrsf-l2-flx1s_g17_d20180926_v2-1-0.nc:   0%|          | 0.00/5.10M [00:00<?, ?B/s]"
      ]
     },
     "metadata": {},
     "output_type": "display_data"
    },
    {
     "data": {
      "application/vnd.jupyter.widget-view+json": {
       "model_id": "4bf93c985b98415580f5f776222ff90e",
       "version_major": 2,
       "version_minor": 0
      },
      "text/plain": [
       "sci_xrsf-l2-flx1s_g17_d20180925_v2-1-0.nc:   0%|          | 0.00/5.11M [00:00<?, ?B/s]"
      ]
     },
     "metadata": {},
     "output_type": "display_data"
    },
    {
     "data": {
      "application/vnd.jupyter.widget-view+json": {
       "model_id": "08e5f40c7df5429e874e4f082206171e",
       "version_major": 2,
       "version_minor": 0
      },
      "text/plain": [
       "sci_xrsf-l2-flx1s_g17_d20180928_v2-1-0.nc:   0%|          | 0.00/5.11M [00:00<?, ?B/s]"
      ]
     },
     "metadata": {},
     "output_type": "display_data"
    },
    {
     "data": {
      "application/vnd.jupyter.widget-view+json": {
       "model_id": "132ce7f772c947bdbe1269ccc01e7812",
       "version_major": 2,
       "version_minor": 0
      },
      "text/plain": [
       "sci_xrsf-l2-flx1s_g17_d20180929_v2-1-0.nc:   0%|          | 0.00/5.10M [00:00<?, ?B/s]"
      ]
     },
     "metadata": {},
     "output_type": "display_data"
    },
    {
     "data": {
      "application/vnd.jupyter.widget-view+json": {
       "model_id": "583865b5a6094ad2bfdc0d859f9caab3",
       "version_major": 2,
       "version_minor": 0
      },
      "text/plain": [
       "sci_xrsf-l2-flx1s_g17_d20180930_v2-1-0.nc:   0%|          | 0.00/5.11M [00:00<?, ?B/s]"
      ]
     },
     "metadata": {},
     "output_type": "display_data"
    },
    {
     "data": {
      "application/vnd.jupyter.widget-view+json": {
       "model_id": "52099e29b0e34dd3b2127b9f141b52b9",
       "version_major": 2,
       "version_minor": 0
      },
      "text/plain": [
       "sci_xrsf-l2-flx1s_g17_d20181002_v2-1-0.nc:   0%|          | 0.00/5.11M [00:00<?, ?B/s]"
      ]
     },
     "metadata": {},
     "output_type": "display_data"
    },
    {
     "data": {
      "application/vnd.jupyter.widget-view+json": {
       "model_id": "ae538afc14884bb3a6bf3aa006857069",
       "version_major": 2,
       "version_minor": 0
      },
      "text/plain": [
       "sci_xrsf-l2-flx1s_g17_d20181001_v2-1-0.nc:   0%|          | 0.00/5.10M [00:00<?, ?B/s]"
      ]
     },
     "metadata": {},
     "output_type": "display_data"
    },
    {
     "data": {
      "application/vnd.jupyter.widget-view+json": {
       "model_id": "0e8114a2c7f34171b4c14565d9b49471",
       "version_major": 2,
       "version_minor": 0
      },
      "text/plain": [
       "sci_xrsf-l2-flx1s_g17_d20181003_v2-1-0.nc:   0%|          | 0.00/5.09M [00:00<?, ?B/s]"
      ]
     },
     "metadata": {},
     "output_type": "display_data"
    },
    {
     "data": {
      "application/vnd.jupyter.widget-view+json": {
       "model_id": "53c38a4477c14c9484b8774196b3888c",
       "version_major": 2,
       "version_minor": 0
      },
      "text/plain": [
       "sci_xrsf-l2-flx1s_g17_d20181005_v2-1-0.nc:   0%|          | 0.00/5.10M [00:00<?, ?B/s]"
      ]
     },
     "metadata": {},
     "output_type": "display_data"
    },
    {
     "data": {
      "application/vnd.jupyter.widget-view+json": {
       "model_id": "b4d1373642484dfe85928f6a168a55a6",
       "version_major": 2,
       "version_minor": 0
      },
      "text/plain": [
       "sci_xrsf-l2-flx1s_g17_d20181004_v2-1-0.nc:   0%|          | 0.00/5.09M [00:00<?, ?B/s]"
      ]
     },
     "metadata": {},
     "output_type": "display_data"
    },
    {
     "data": {
      "application/vnd.jupyter.widget-view+json": {
       "model_id": "0456d156942542e689c941f60c87ecdc",
       "version_major": 2,
       "version_minor": 0
      },
      "text/plain": [
       "sci_xrsf-l2-flx1s_g17_d20181007_v2-1-0.nc:   0%|          | 0.00/5.10M [00:00<?, ?B/s]"
      ]
     },
     "metadata": {},
     "output_type": "display_data"
    },
    {
     "data": {
      "application/vnd.jupyter.widget-view+json": {
       "model_id": "2559ca3dd5bc48ce98a758176e82501f",
       "version_major": 2,
       "version_minor": 0
      },
      "text/plain": [
       "sci_xrsf-l2-flx1s_g17_d20181006_v2-1-0.nc:   0%|          | 0.00/5.11M [00:00<?, ?B/s]"
      ]
     },
     "metadata": {},
     "output_type": "display_data"
    },
    {
     "data": {
      "application/vnd.jupyter.widget-view+json": {
       "model_id": "f4d1257eb1fd487fb503d60698058916",
       "version_major": 2,
       "version_minor": 0
      },
      "text/plain": [
       "sci_xrsf-l2-flx1s_g17_d20181008_v2-1-0.nc:   0%|          | 0.00/5.13M [00:00<?, ?B/s]"
      ]
     },
     "metadata": {},
     "output_type": "display_data"
    },
    {
     "data": {
      "application/vnd.jupyter.widget-view+json": {
       "model_id": "742a5a784e194ad9a86565fb842427ec",
       "version_major": 2,
       "version_minor": 0
      },
      "text/plain": [
       "sci_xrsf-l2-flx1s_g17_d20181010_v2-1-0.nc:   0%|          | 0.00/5.16M [00:00<?, ?B/s]"
      ]
     },
     "metadata": {},
     "output_type": "display_data"
    },
    {
     "data": {
      "application/vnd.jupyter.widget-view+json": {
       "model_id": "2d080439768143a39d32cef4aa662c1e",
       "version_major": 2,
       "version_minor": 0
      },
      "text/plain": [
       "sci_xrsf-l2-flx1s_g17_d20181009_v2-1-0.nc:   0%|          | 0.00/5.15M [00:00<?, ?B/s]"
      ]
     },
     "metadata": {},
     "output_type": "display_data"
    },
    {
     "data": {
      "application/vnd.jupyter.widget-view+json": {
       "model_id": "1e6703597bbc42e485132b7826e3b175",
       "version_major": 2,
       "version_minor": 0
      },
      "text/plain": [
       "sci_xrsf-l2-flx1s_g17_d20181011_v2-1-0.nc:   0%|          | 0.00/5.16M [00:00<?, ?B/s]"
      ]
     },
     "metadata": {},
     "output_type": "display_data"
    },
    {
     "data": {
      "application/vnd.jupyter.widget-view+json": {
       "model_id": "e0ecf9e44db64c57af1c95f317a3ba43",
       "version_major": 2,
       "version_minor": 0
      },
      "text/plain": [
       "sci_xrsf-l2-flx1s_g17_d20181012_v2-1-0.nc:   0%|          | 0.00/5.19M [00:00<?, ?B/s]"
      ]
     },
     "metadata": {},
     "output_type": "display_data"
    },
    {
     "data": {
      "application/vnd.jupyter.widget-view+json": {
       "model_id": "26b80aebc0e0497eb99ce1fc9fb052ec",
       "version_major": 2,
       "version_minor": 0
      },
      "text/plain": [
       "sci_xrsf-l2-flx1s_g17_d20181013_v2-1-0.nc:   0%|          | 0.00/5.14M [00:00<?, ?B/s]"
      ]
     },
     "metadata": {},
     "output_type": "display_data"
    },
    {
     "data": {
      "application/vnd.jupyter.widget-view+json": {
       "model_id": "fdee6bd55bae4bed9d21487fdd5bdcd3",
       "version_major": 2,
       "version_minor": 0
      },
      "text/plain": [
       "sci_xrsf-l2-flx1s_g17_d20181014_v2-1-0.nc:   0%|          | 0.00/5.07M [00:00<?, ?B/s]"
      ]
     },
     "metadata": {},
     "output_type": "display_data"
    },
    {
     "data": {
      "application/vnd.jupyter.widget-view+json": {
       "model_id": "40d03c4c6e144a4fa69b114e0216b1c1",
       "version_major": 2,
       "version_minor": 0
      },
      "text/plain": [
       "sci_xrsf-l2-flx1s_g17_d20181016_v2-1-0.nc:   0%|          | 0.00/5.07M [00:00<?, ?B/s]"
      ]
     },
     "metadata": {},
     "output_type": "display_data"
    },
    {
     "data": {
      "application/vnd.jupyter.widget-view+json": {
       "model_id": "a1c3beb8ed0845a3b9f44c83acb777da",
       "version_major": 2,
       "version_minor": 0
      },
      "text/plain": [
       "sci_xrsf-l2-flx1s_g17_d20181015_v2-1-0.nc:   0%|          | 0.00/5.04M [00:00<?, ?B/s]"
      ]
     },
     "metadata": {},
     "output_type": "display_data"
    },
    {
     "data": {
      "application/vnd.jupyter.widget-view+json": {
       "model_id": "d8c5b1980abd4b639bfd8bf7247d30e7",
       "version_major": 2,
       "version_minor": 0
      },
      "text/plain": [
       "sci_xrsf-l2-flx1s_g17_d20181017_v2-1-0.nc:   0%|          | 0.00/5.06M [00:00<?, ?B/s]"
      ]
     },
     "metadata": {},
     "output_type": "display_data"
    },
    {
     "data": {
      "application/vnd.jupyter.widget-view+json": {
       "model_id": "a657ea3fb21947a3bc8656d10044e5c0",
       "version_major": 2,
       "version_minor": 0
      },
      "text/plain": [
       "sci_xrsf-l2-flx1s_g17_d20181018_v2-1-0.nc:   0%|          | 0.00/5.05M [00:00<?, ?B/s]"
      ]
     },
     "metadata": {},
     "output_type": "display_data"
    },
    {
     "data": {
      "application/vnd.jupyter.widget-view+json": {
       "model_id": "b93976297c72413183bfea2ee83702af",
       "version_major": 2,
       "version_minor": 0
      },
      "text/plain": [
       "sci_xrsf-l2-flx1s_g17_d20181022_v2-1-0.nc:   0%|          | 0.00/5.04M [00:00<?, ?B/s]"
      ]
     },
     "metadata": {},
     "output_type": "display_data"
    },
    {
     "data": {
      "application/vnd.jupyter.widget-view+json": {
       "model_id": "37031b1319f140019be12ed15dc536e4",
       "version_major": 2,
       "version_minor": 0
      },
      "text/plain": [
       "sci_xrsf-l2-flx1s_g17_d20181020_v2-1-0.nc:   0%|          | 0.00/5.04M [00:00<?, ?B/s]"
      ]
     },
     "metadata": {},
     "output_type": "display_data"
    },
    {
     "data": {
      "application/vnd.jupyter.widget-view+json": {
       "model_id": "4ffe596feddf4df6a0ac9224f793b613",
       "version_major": 2,
       "version_minor": 0
      },
      "text/plain": [
       "sci_xrsf-l2-flx1s_g17_d20181021_v2-1-0.nc:   0%|          | 0.00/5.04M [00:00<?, ?B/s]"
      ]
     },
     "metadata": {},
     "output_type": "display_data"
    },
    {
     "data": {
      "application/vnd.jupyter.widget-view+json": {
       "model_id": "20e7a5e7b3924509bb69034f65161cbd",
       "version_major": 2,
       "version_minor": 0
      },
      "text/plain": [
       "sci_xrsf-l2-flx1s_g17_d20181019_v2-1-0.nc:   0%|          | 0.00/5.05M [00:00<?, ?B/s]"
      ]
     },
     "metadata": {},
     "output_type": "display_data"
    },
    {
     "data": {
      "application/vnd.jupyter.widget-view+json": {
       "model_id": "f07c92697e3244ec8e3a09d3d453ffe2",
       "version_major": 2,
       "version_minor": 0
      },
      "text/plain": [
       "sci_xrsf-l2-flx1s_g17_d20181024_v2-1-0.nc:   0%|          | 0.00/3.68M [00:00<?, ?B/s]"
      ]
     },
     "metadata": {},
     "output_type": "display_data"
    },
    {
     "data": {
      "application/vnd.jupyter.widget-view+json": {
       "model_id": "6b07750e34b140a886ada1ba38dfe419",
       "version_major": 2,
       "version_minor": 0
      },
      "text/plain": [
       "sci_xrsf-l2-flx1s_g17_d20181025_v2-1-0.nc:   0%|          | 0.00/1.75M [00:00<?, ?B/s]"
      ]
     },
     "metadata": {},
     "output_type": "display_data"
    },
    {
     "data": {
      "application/vnd.jupyter.widget-view+json": {
       "model_id": "1dbe50540ecd44bfa9ec70b6809672b3",
       "version_major": 2,
       "version_minor": 0
      },
      "text/plain": [
       "sci_xrsf-l2-flx1s_g17_d20181027_v2-1-0.nc:   0%|          | 0.00/1.75M [00:00<?, ?B/s]"
      ]
     },
     "metadata": {},
     "output_type": "display_data"
    },
    {
     "data": {
      "application/vnd.jupyter.widget-view+json": {
       "model_id": "f38f18c5710c4b39992aaa43348b5c37",
       "version_major": 2,
       "version_minor": 0
      },
      "text/plain": [
       "sci_xrsf-l2-flx1s_g17_d20181023_v2-1-0.nc:   0%|          | 0.00/5.04M [00:00<?, ?B/s]"
      ]
     },
     "metadata": {},
     "output_type": "display_data"
    },
    {
     "data": {
      "application/vnd.jupyter.widget-view+json": {
       "model_id": "84c97c52787144bc8e39da9e9750b11e",
       "version_major": 2,
       "version_minor": 0
      },
      "text/plain": [
       "sci_xrsf-l2-flx1s_g17_d20181026_v2-1-0.nc:   0%|          | 0.00/1.75M [00:00<?, ?B/s]"
      ]
     },
     "metadata": {},
     "output_type": "display_data"
    },
    {
     "data": {
      "application/vnd.jupyter.widget-view+json": {
       "model_id": "008d712546614afb85ab0c6fb8e4abd4",
       "version_major": 2,
       "version_minor": 0
      },
      "text/plain": [
       "sci_xrsf-l2-flx1s_g17_d20181028_v2-1-0.nc:   0%|          | 0.00/1.75M [00:00<?, ?B/s]"
      ]
     },
     "metadata": {},
     "output_type": "display_data"
    },
    {
     "data": {
      "application/vnd.jupyter.widget-view+json": {
       "model_id": "35bb1de887e24251b2435fe8ceadaf01",
       "version_major": 2,
       "version_minor": 0
      },
      "text/plain": [
       "sci_xrsf-l2-flx1s_g17_d20181030_v2-1-0.nc:   0%|          | 0.00/1.75M [00:00<?, ?B/s]"
      ]
     },
     "metadata": {},
     "output_type": "display_data"
    },
    {
     "data": {
      "application/vnd.jupyter.widget-view+json": {
       "model_id": "43f9c78d93e94736843528c0f0563e68",
       "version_major": 2,
       "version_minor": 0
      },
      "text/plain": [
       "sci_xrsf-l2-flx1s_g17_d20181029_v2-1-0.nc:   0%|          | 0.00/1.75M [00:00<?, ?B/s]"
      ]
     },
     "metadata": {},
     "output_type": "display_data"
    },
    {
     "data": {
      "application/vnd.jupyter.widget-view+json": {
       "model_id": "51639a7536da4ea19378eefc27803c33",
       "version_major": 2,
       "version_minor": 0
      },
      "text/plain": [
       "sci_xrsf-l2-flx1s_g17_d20181031_v2-1-0.nc:   0%|          | 0.00/1.75M [00:00<?, ?B/s]"
      ]
     },
     "metadata": {},
     "output_type": "display_data"
    },
    {
     "data": {
      "application/vnd.jupyter.widget-view+json": {
       "model_id": "2cc36236cd0b44f38d8ad0c897e284c9",
       "version_major": 2,
       "version_minor": 0
      },
      "text/plain": [
       "sci_xrsf-l2-flx1s_g17_d20181103_v2-1-0.nc:   0%|          | 0.00/1.75M [00:00<?, ?B/s]"
      ]
     },
     "metadata": {},
     "output_type": "display_data"
    },
    {
     "data": {
      "application/vnd.jupyter.widget-view+json": {
       "model_id": "db67359b861a4a3794357a60005a368c",
       "version_major": 2,
       "version_minor": 0
      },
      "text/plain": [
       "sci_xrsf-l2-flx1s_g17_d20181101_v2-1-0.nc:   0%|          | 0.00/1.75M [00:00<?, ?B/s]"
      ]
     },
     "metadata": {},
     "output_type": "display_data"
    },
    {
     "data": {
      "application/vnd.jupyter.widget-view+json": {
       "model_id": "f0d4b045ced54dcf8f69cf998b137b29",
       "version_major": 2,
       "version_minor": 0
      },
      "text/plain": [
       "sci_xrsf-l2-flx1s_g17_d20181102_v2-1-0.nc:   0%|          | 0.00/1.75M [00:00<?, ?B/s]"
      ]
     },
     "metadata": {},
     "output_type": "display_data"
    },
    {
     "data": {
      "application/vnd.jupyter.widget-view+json": {
       "model_id": "14298ff0dd5140e388a4680e39b04ee1",
       "version_major": 2,
       "version_minor": 0
      },
      "text/plain": [
       "sci_xrsf-l2-flx1s_g17_d20181106_v2-1-0.nc:   0%|          | 0.00/1.75M [00:00<?, ?B/s]"
      ]
     },
     "metadata": {},
     "output_type": "display_data"
    },
    {
     "data": {
      "application/vnd.jupyter.widget-view+json": {
       "model_id": "36a69adfe4624b5e81bee26481e30b31",
       "version_major": 2,
       "version_minor": 0
      },
      "text/plain": [
       "sci_xrsf-l2-flx1s_g17_d20181107_v2-1-0.nc:   0%|          | 0.00/1.75M [00:00<?, ?B/s]"
      ]
     },
     "metadata": {},
     "output_type": "display_data"
    },
    {
     "data": {
      "application/vnd.jupyter.widget-view+json": {
       "model_id": "8e65f365e3794777829d1955b78a802e",
       "version_major": 2,
       "version_minor": 0
      },
      "text/plain": [
       "sci_xrsf-l2-flx1s_g17_d20181108_v2-1-0.nc:   0%|          | 0.00/1.75M [00:00<?, ?B/s]"
      ]
     },
     "metadata": {},
     "output_type": "display_data"
    },
    {
     "data": {
      "application/vnd.jupyter.widget-view+json": {
       "model_id": "263775c947da4ee2a10a64c5398943c8",
       "version_major": 2,
       "version_minor": 0
      },
      "text/plain": [
       "sci_xrsf-l2-flx1s_g17_d20181109_v2-1-0.nc:   0%|          | 0.00/1.75M [00:00<?, ?B/s]"
      ]
     },
     "metadata": {},
     "output_type": "display_data"
    },
    {
     "data": {
      "application/vnd.jupyter.widget-view+json": {
       "model_id": "b2f494bda6224c80adb3b2cb8dad2a66",
       "version_major": 2,
       "version_minor": 0
      },
      "text/plain": [
       "sci_xrsf-l2-flx1s_g17_d20181110_v2-1-0.nc:   0%|          | 0.00/1.75M [00:00<?, ?B/s]"
      ]
     },
     "metadata": {},
     "output_type": "display_data"
    },
    {
     "data": {
      "application/vnd.jupyter.widget-view+json": {
       "model_id": "05802338566044c8af0f47bed0e0622b",
       "version_major": 2,
       "version_minor": 0
      },
      "text/plain": [
       "sci_xrsf-l2-flx1s_g17_d20181112_v2-1-0.nc:   0%|          | 0.00/1.75M [00:00<?, ?B/s]"
      ]
     },
     "metadata": {},
     "output_type": "display_data"
    },
    {
     "data": {
      "application/vnd.jupyter.widget-view+json": {
       "model_id": "ba80428049ee4bf682032f2a766ef12b",
       "version_major": 2,
       "version_minor": 0
      },
      "text/plain": [
       "sci_xrsf-l2-flx1s_g17_d20181113_v2-1-0.nc:   0%|          | 0.00/3.66M [00:00<?, ?B/s]"
      ]
     },
     "metadata": {},
     "output_type": "display_data"
    },
    {
     "data": {
      "application/vnd.jupyter.widget-view+json": {
       "model_id": "783e8ffe329c4db3816af6ce54a8cc3f",
       "version_major": 2,
       "version_minor": 0
      },
      "text/plain": [
       "sci_xrsf-l2-flx1s_g17_d20181114_v2-1-0.nc:   0%|          | 0.00/5.08M [00:00<?, ?B/s]"
      ]
     },
     "metadata": {},
     "output_type": "display_data"
    },
    {
     "data": {
      "application/vnd.jupyter.widget-view+json": {
       "model_id": "83b08f30e308498ebf603614bf5f2cf5",
       "version_major": 2,
       "version_minor": 0
      },
      "text/plain": [
       "sci_xrsf-l2-flx1s_g17_d20181125_v2-1-0.nc:   0%|          | 0.00/5.05M [00:00<?, ?B/s]"
      ]
     },
     "metadata": {},
     "output_type": "display_data"
    },
    {
     "data": {
      "application/vnd.jupyter.widget-view+json": {
       "model_id": "2fd9171c81bd479180f1fe38744b7729",
       "version_major": 2,
       "version_minor": 0
      },
      "text/plain": [
       "sci_xrsf-l2-flx1s_g17_d20181124_v2-1-0.nc:   0%|          | 0.00/5.03M [00:00<?, ?B/s]"
      ]
     },
     "metadata": {},
     "output_type": "display_data"
    },
    {
     "data": {
      "application/vnd.jupyter.widget-view+json": {
       "model_id": "288f7ae86e8a4cdf950224336d22a544",
       "version_major": 2,
       "version_minor": 0
      },
      "text/plain": [
       "sci_xrsf-l2-flx1s_g17_d20181126_v2-1-0.nc:   0%|          | 0.00/5.05M [00:00<?, ?B/s]"
      ]
     },
     "metadata": {},
     "output_type": "display_data"
    },
    {
     "data": {
      "application/vnd.jupyter.widget-view+json": {
       "model_id": "109c626a3dba45a9aebdf52e08fa0663",
       "version_major": 2,
       "version_minor": 0
      },
      "text/plain": [
       "sci_xrsf-l2-flx1s_g17_d20181127_v2-1-0.nc:   0%|          | 0.00/5.03M [00:00<?, ?B/s]"
      ]
     },
     "metadata": {},
     "output_type": "display_data"
    },
    {
     "data": {
      "application/vnd.jupyter.widget-view+json": {
       "model_id": "5de52f0958324e0a9f22b7f9c1edf45f",
       "version_major": 2,
       "version_minor": 0
      },
      "text/plain": [
       "sci_xrsf-l2-flx1s_g17_d20181216_v2-1-0.nc:   0%|          | 0.00/5.04M [00:00<?, ?B/s]"
      ]
     },
     "metadata": {},
     "output_type": "display_data"
    },
    {
     "data": {
      "application/vnd.jupyter.widget-view+json": {
       "model_id": "41df5d57cddb4b6f8c41297ffae6970a",
       "version_major": 2,
       "version_minor": 0
      },
      "text/plain": [
       "sci_xrsf-l2-flx1s_g17_d20181215_v2-1-0.nc:   0%|          | 0.00/5.04M [00:00<?, ?B/s]"
      ]
     },
     "metadata": {},
     "output_type": "display_data"
    },
    {
     "data": {
      "application/vnd.jupyter.widget-view+json": {
       "model_id": "46c92e4dafc244259a8a5ef07772d906",
       "version_major": 2,
       "version_minor": 0
      },
      "text/plain": [
       "sci_xrsf-l2-flx1s_g17_d20181218_v2-1-0.nc:   0%|          | 0.00/5.02M [00:00<?, ?B/s]"
      ]
     },
     "metadata": {},
     "output_type": "display_data"
    },
    {
     "data": {
      "application/vnd.jupyter.widget-view+json": {
       "model_id": "5f44c8ba6a204ea28cd7496fda4a2e7c",
       "version_major": 2,
       "version_minor": 0
      },
      "text/plain": [
       "sci_xrsf-l2-flx1s_g17_d20181217_v2-1-0.nc:   0%|          | 0.00/5.02M [00:00<?, ?B/s]"
      ]
     },
     "metadata": {},
     "output_type": "display_data"
    },
    {
     "data": {
      "application/vnd.jupyter.widget-view+json": {
       "model_id": "9b14f6a7ff634ffc84a2834c03fa633c",
       "version_major": 2,
       "version_minor": 0
      },
      "text/plain": [
       "sci_xrsf-l2-flx1s_g17_d20181220_v2-1-0.nc:   0%|          | 0.00/5.03M [00:00<?, ?B/s]"
      ]
     },
     "metadata": {},
     "output_type": "display_data"
    },
    {
     "data": {
      "application/vnd.jupyter.widget-view+json": {
       "model_id": "6d05713401af4047bccf74aabae13345",
       "version_major": 2,
       "version_minor": 0
      },
      "text/plain": [
       "sci_xrsf-l2-flx1s_g17_d20181222_v2-1-0.nc:   0%|          | 0.00/5.04M [00:00<?, ?B/s]"
      ]
     },
     "metadata": {},
     "output_type": "display_data"
    },
    {
     "data": {
      "application/vnd.jupyter.widget-view+json": {
       "model_id": "0d84411efb424018bb9872be51006ba5",
       "version_major": 2,
       "version_minor": 0
      },
      "text/plain": [
       "sci_xrsf-l2-flx1s_g17_d20181221_v2-1-0.nc:   0%|          | 0.00/5.04M [00:00<?, ?B/s]"
      ]
     },
     "metadata": {},
     "output_type": "display_data"
    },
    {
     "data": {
      "application/vnd.jupyter.widget-view+json": {
       "model_id": "39460d78fc624f138115505ab0aa6d28",
       "version_major": 2,
       "version_minor": 0
      },
      "text/plain": [
       "sci_xrsf-l2-flx1s_g17_d20181223_v2-1-0.nc:   0%|          | 0.00/5.04M [00:00<?, ?B/s]"
      ]
     },
     "metadata": {},
     "output_type": "display_data"
    },
    {
     "data": {
      "application/vnd.jupyter.widget-view+json": {
       "model_id": "0b3cc80f919e44e7bfcd152f0d4e9bd4",
       "version_major": 2,
       "version_minor": 0
      },
      "text/plain": [
       "sci_xrsf-l2-flx1s_g17_d20181224_v2-1-0.nc:   0%|          | 0.00/5.03M [00:00<?, ?B/s]"
      ]
     },
     "metadata": {},
     "output_type": "display_data"
    },
    {
     "data": {
      "application/vnd.jupyter.widget-view+json": {
       "model_id": "fd1a78c812f74f6db26dcb5ca91562bc",
       "version_major": 2,
       "version_minor": 0
      },
      "text/plain": [
       "sci_xrsf-l2-flx1s_g17_d20181225_v2-1-0.nc:   0%|          | 0.00/5.00M [00:00<?, ?B/s]"
      ]
     },
     "metadata": {},
     "output_type": "display_data"
    },
    {
     "data": {
      "application/vnd.jupyter.widget-view+json": {
       "model_id": "1844e926e8614193a5b08735ecbebb1a",
       "version_major": 2,
       "version_minor": 0
      },
      "text/plain": [
       "sci_xrsf-l2-flx1s_g17_d20181226_v2-1-0.nc:   0%|          | 0.00/5.02M [00:00<?, ?B/s]"
      ]
     },
     "metadata": {},
     "output_type": "display_data"
    },
    {
     "data": {
      "application/vnd.jupyter.widget-view+json": {
       "model_id": "6ec42f1bdbe947b7887b2603cce4d611",
       "version_major": 2,
       "version_minor": 0
      },
      "text/plain": [
       "sci_xrsf-l2-flx1s_g17_d20181229_v2-1-0.nc:   0%|          | 0.00/5.07M [00:00<?, ?B/s]"
      ]
     },
     "metadata": {},
     "output_type": "display_data"
    },
    {
     "data": {
      "application/vnd.jupyter.widget-view+json": {
       "model_id": "ec37b6c0ec2a4c79b638bf01216d4f2a",
       "version_major": 2,
       "version_minor": 0
      },
      "text/plain": [
       "sci_xrsf-l2-flx1s_g17_d20181228_v2-1-0.nc:   0%|          | 0.00/5.03M [00:00<?, ?B/s]"
      ]
     },
     "metadata": {},
     "output_type": "display_data"
    },
    {
     "data": {
      "application/vnd.jupyter.widget-view+json": {
       "model_id": "ef0d3ac3480746eea21f99ee5f908814",
       "version_major": 2,
       "version_minor": 0
      },
      "text/plain": [
       "sci_xrsf-l2-flx1s_g17_d20181227_v2-1-0.nc:   0%|          | 0.00/5.01M [00:00<?, ?B/s]"
      ]
     },
     "metadata": {},
     "output_type": "display_data"
    },
    {
     "data": {
      "application/vnd.jupyter.widget-view+json": {
       "model_id": "15c0f7fda60847a2a839a39b78ef761b",
       "version_major": 2,
       "version_minor": 0
      },
      "text/plain": [
       "sci_xrsf-l2-flx1s_g17_d20181230_v2-1-0.nc:   0%|          | 0.00/5.07M [00:00<?, ?B/s]"
      ]
     },
     "metadata": {},
     "output_type": "display_data"
    },
    {
     "data": {
      "application/vnd.jupyter.widget-view+json": {
       "model_id": "729d572ee45f4eb5bf18cad8ec61a8c3",
       "version_major": 2,
       "version_minor": 0
      },
      "text/plain": [
       "sci_xrsf-l2-flx1s_g17_d20181231_v2-1-0.nc:   0%|          | 0.00/5.04M [00:00<?, ?B/s]"
      ]
     },
     "metadata": {},
     "output_type": "display_data"
    },
    {
     "data": {
      "application/vnd.jupyter.widget-view+json": {
       "model_id": "d0f158b3b2b64d8b83fc14e5e5783cd9",
       "version_major": 2,
       "version_minor": 0
      },
      "text/plain": [
       "sci_gxrs-l2-irrad_g14_d20180101_v0-0-0.nc:   0%|          | 0.00/847k [00:00<?, ?B/s]"
      ]
     },
     "metadata": {},
     "output_type": "display_data"
    },
    {
     "data": {
      "application/vnd.jupyter.widget-view+json": {
       "model_id": "576c929f529943b098cb85128641854d",
       "version_major": 2,
       "version_minor": 0
      },
      "text/plain": [
       "sci_gxrs-l2-irrad_g14_d20180102_v0-0-0.nc:   0%|          | 0.00/846k [00:00<?, ?B/s]"
      ]
     },
     "metadata": {},
     "output_type": "display_data"
    },
    {
     "data": {
      "application/vnd.jupyter.widget-view+json": {
       "model_id": "9e3b878c72c54506bd4e897ee6a8fd98",
       "version_major": 2,
       "version_minor": 0
      },
      "text/plain": [
       "sci_gxrs-l2-irrad_g14_d20180103_v0-0-0.nc:   0%|          | 0.00/846k [00:00<?, ?B/s]"
      ]
     },
     "metadata": {},
     "output_type": "display_data"
    },
    {
     "data": {
      "application/vnd.jupyter.widget-view+json": {
       "model_id": "9e047e5db670449a8fcbfec5605dcb11",
       "version_major": 2,
       "version_minor": 0
      },
      "text/plain": [
       "sci_gxrs-l2-irrad_g14_d20180104_v0-0-0.nc:   0%|          | 0.00/845k [00:00<?, ?B/s]"
      ]
     },
     "metadata": {},
     "output_type": "display_data"
    },
    {
     "data": {
      "application/vnd.jupyter.widget-view+json": {
       "model_id": "d13c5f993478433b842320034ba0bf32",
       "version_major": 2,
       "version_minor": 0
      },
      "text/plain": [
       "sci_gxrs-l2-irrad_g14_d20180105_v0-0-0.nc:   0%|          | 0.00/848k [00:00<?, ?B/s]"
      ]
     },
     "metadata": {},
     "output_type": "display_data"
    },
    {
     "data": {
      "application/vnd.jupyter.widget-view+json": {
       "model_id": "ebc9f91faea040ce8f8c834994cf0b5e",
       "version_major": 2,
       "version_minor": 0
      },
      "text/plain": [
       "sci_gxrs-l2-irrad_g14_d20180106_v0-0-0.nc:   0%|          | 0.00/846k [00:00<?, ?B/s]"
      ]
     },
     "metadata": {},
     "output_type": "display_data"
    },
    {
     "data": {
      "application/vnd.jupyter.widget-view+json": {
       "model_id": "6afdcc78e7204a32b5a06939693c748a",
       "version_major": 2,
       "version_minor": 0
      },
      "text/plain": [
       "sci_gxrs-l2-irrad_g14_d20180107_v0-0-0.nc:   0%|          | 0.00/846k [00:00<?, ?B/s]"
      ]
     },
     "metadata": {},
     "output_type": "display_data"
    },
    {
     "data": {
      "application/vnd.jupyter.widget-view+json": {
       "model_id": "5b914e4cb66346c2929d818e0cbbba91",
       "version_major": 2,
       "version_minor": 0
      },
      "text/plain": [
       "sci_gxrs-l2-irrad_g14_d20180108_v0-0-0.nc:   0%|          | 0.00/846k [00:00<?, ?B/s]"
      ]
     },
     "metadata": {},
     "output_type": "display_data"
    },
    {
     "data": {
      "application/vnd.jupyter.widget-view+json": {
       "model_id": "4bdd611c9f0044ad822d3bee7e597b31",
       "version_major": 2,
       "version_minor": 0
      },
      "text/plain": [
       "sci_gxrs-l2-irrad_g14_d20180109_v0-0-0.nc:   0%|          | 0.00/846k [00:00<?, ?B/s]"
      ]
     },
     "metadata": {},
     "output_type": "display_data"
    },
    {
     "data": {
      "application/vnd.jupyter.widget-view+json": {
       "model_id": "cfa7e97690894b52a59409b0cac34e1a",
       "version_major": 2,
       "version_minor": 0
      },
      "text/plain": [
       "sci_gxrs-l2-irrad_g14_d20180110_v0-0-0.nc:   0%|          | 0.00/844k [00:00<?, ?B/s]"
      ]
     },
     "metadata": {},
     "output_type": "display_data"
    },
    {
     "data": {
      "application/vnd.jupyter.widget-view+json": {
       "model_id": "489a47a08aa4461d94a2d83b516bd871",
       "version_major": 2,
       "version_minor": 0
      },
      "text/plain": [
       "sci_gxrs-l2-irrad_g14_d20180111_v0-0-0.nc:   0%|          | 0.00/846k [00:00<?, ?B/s]"
      ]
     },
     "metadata": {},
     "output_type": "display_data"
    },
    {
     "data": {
      "application/vnd.jupyter.widget-view+json": {
       "model_id": "e7319995a65f4697b7fb77072c1e39e6",
       "version_major": 2,
       "version_minor": 0
      },
      "text/plain": [
       "sci_gxrs-l2-irrad_g14_d20180113_v0-0-0.nc:   0%|          | 0.00/846k [00:00<?, ?B/s]"
      ]
     },
     "metadata": {},
     "output_type": "display_data"
    },
    {
     "data": {
      "application/vnd.jupyter.widget-view+json": {
       "model_id": "3575f40be5e649fcb5ccd3273b731515",
       "version_major": 2,
       "version_minor": 0
      },
      "text/plain": [
       "sci_gxrs-l2-irrad_g14_d20180112_v0-0-0.nc:   0%|          | 0.00/846k [00:00<?, ?B/s]"
      ]
     },
     "metadata": {},
     "output_type": "display_data"
    },
    {
     "data": {
      "application/vnd.jupyter.widget-view+json": {
       "model_id": "d06c18d92700496d8ca8299c4c5c2c2b",
       "version_major": 2,
       "version_minor": 0
      },
      "text/plain": [
       "sci_gxrs-l2-irrad_g14_d20180114_v0-0-0.nc:   0%|          | 0.00/845k [00:00<?, ?B/s]"
      ]
     },
     "metadata": {},
     "output_type": "display_data"
    },
    {
     "data": {
      "application/vnd.jupyter.widget-view+json": {
       "model_id": "6eab0473d048455f80276660a4b98bdf",
       "version_major": 2,
       "version_minor": 0
      },
      "text/plain": [
       "sci_gxrs-l2-irrad_g14_d20180115_v0-0-0.nc:   0%|          | 0.00/844k [00:00<?, ?B/s]"
      ]
     },
     "metadata": {},
     "output_type": "display_data"
    },
    {
     "data": {
      "application/vnd.jupyter.widget-view+json": {
       "model_id": "83652a965bd64b75818de9e75b473a15",
       "version_major": 2,
       "version_minor": 0
      },
      "text/plain": [
       "sci_gxrs-l2-irrad_g14_d20180116_v0-0-0.nc:   0%|          | 0.00/844k [00:00<?, ?B/s]"
      ]
     },
     "metadata": {},
     "output_type": "display_data"
    },
    {
     "data": {
      "application/vnd.jupyter.widget-view+json": {
       "model_id": "4275c5c233de429cae8f1af7d68c00ed",
       "version_major": 2,
       "version_minor": 0
      },
      "text/plain": [
       "sci_gxrs-l2-irrad_g14_d20180117_v0-0-0.nc:   0%|          | 0.00/841k [00:00<?, ?B/s]"
      ]
     },
     "metadata": {},
     "output_type": "display_data"
    },
    {
     "data": {
      "application/vnd.jupyter.widget-view+json": {
       "model_id": "4604f38f0491441aa93dd5fe88436d37",
       "version_major": 2,
       "version_minor": 0
      },
      "text/plain": [
       "sci_gxrs-l2-irrad_g14_d20180118_v0-0-0.nc:   0%|          | 0.00/844k [00:00<?, ?B/s]"
      ]
     },
     "metadata": {},
     "output_type": "display_data"
    },
    {
     "data": {
      "application/vnd.jupyter.widget-view+json": {
       "model_id": "cdd6ed121f1c4dc0a11d835e30695705",
       "version_major": 2,
       "version_minor": 0
      },
      "text/plain": [
       "sci_gxrs-l2-irrad_g14_d20180120_v0-0-0.nc:   0%|          | 0.00/840k [00:00<?, ?B/s]"
      ]
     },
     "metadata": {},
     "output_type": "display_data"
    },
    {
     "data": {
      "application/vnd.jupyter.widget-view+json": {
       "model_id": "46e138ce82f646d98c7625f45f413efb",
       "version_major": 2,
       "version_minor": 0
      },
      "text/plain": [
       "sci_gxrs-l2-irrad_g14_d20180119_v0-0-0.nc:   0%|          | 0.00/833k [00:00<?, ?B/s]"
      ]
     },
     "metadata": {},
     "output_type": "display_data"
    },
    {
     "data": {
      "application/vnd.jupyter.widget-view+json": {
       "model_id": "bba7b0cfdef642caaf27ddf491a528ff",
       "version_major": 2,
       "version_minor": 0
      },
      "text/plain": [
       "sci_gxrs-l2-irrad_g14_d20180122_v0-0-0.nc:   0%|          | 0.00/808k [00:00<?, ?B/s]"
      ]
     },
     "metadata": {},
     "output_type": "display_data"
    },
    {
     "data": {
      "application/vnd.jupyter.widget-view+json": {
       "model_id": "b2af360a2db84008b9f5ba1f7eb8a572",
       "version_major": 2,
       "version_minor": 0
      },
      "text/plain": [
       "sci_gxrs-l2-irrad_g14_d20180123_v0-0-0.nc:   0%|          | 0.00/838k [00:00<?, ?B/s]"
      ]
     },
     "metadata": {},
     "output_type": "display_data"
    },
    {
     "data": {
      "application/vnd.jupyter.widget-view+json": {
       "model_id": "a5abbdda925e4494b1f2eb8884356847",
       "version_major": 2,
       "version_minor": 0
      },
      "text/plain": [
       "sci_gxrs-l2-irrad_g14_d20180124_v0-0-0.nc:   0%|          | 0.00/837k [00:00<?, ?B/s]"
      ]
     },
     "metadata": {},
     "output_type": "display_data"
    },
    {
     "data": {
      "application/vnd.jupyter.widget-view+json": {
       "model_id": "02a051b046cc4ea88c9ffd96e7de22c7",
       "version_major": 2,
       "version_minor": 0
      },
      "text/plain": [
       "sci_gxrs-l2-irrad_g14_d20180126_v0-0-0.nc:   0%|          | 0.00/836k [00:00<?, ?B/s]"
      ]
     },
     "metadata": {},
     "output_type": "display_data"
    },
    {
     "data": {
      "application/vnd.jupyter.widget-view+json": {
       "model_id": "62034ab4ef004a49b172e78796041f98",
       "version_major": 2,
       "version_minor": 0
      },
      "text/plain": [
       "sci_gxrs-l2-irrad_g14_d20180129_v0-0-0.nc:   0%|          | 0.00/835k [00:00<?, ?B/s]"
      ]
     },
     "metadata": {},
     "output_type": "display_data"
    },
    {
     "data": {
      "application/vnd.jupyter.widget-view+json": {
       "model_id": "b794061b22994cfab767576bca40f7c6",
       "version_major": 2,
       "version_minor": 0
      },
      "text/plain": [
       "sci_gxrs-l2-irrad_g14_d20180201_v0-0-0.nc:   0%|          | 0.00/837k [00:00<?, ?B/s]"
      ]
     },
     "metadata": {},
     "output_type": "display_data"
    },
    {
     "data": {
      "application/vnd.jupyter.widget-view+json": {
       "model_id": "eb6e58e47f0e474da32b19a020457d02",
       "version_major": 2,
       "version_minor": 0
      },
      "text/plain": [
       "sci_gxrs-l2-irrad_g14_d20180202_v0-0-0.nc:   0%|          | 0.00/837k [00:00<?, ?B/s]"
      ]
     },
     "metadata": {},
     "output_type": "display_data"
    },
    {
     "data": {
      "application/vnd.jupyter.widget-view+json": {
       "model_id": "7583c211e7264ff983129a6da18d2362",
       "version_major": 2,
       "version_minor": 0
      },
      "text/plain": [
       "sci_gxrs-l2-irrad_g14_d20180203_v0-0-0.nc:   0%|          | 0.00/834k [00:00<?, ?B/s]"
      ]
     },
     "metadata": {},
     "output_type": "display_data"
    },
    {
     "data": {
      "application/vnd.jupyter.widget-view+json": {
       "model_id": "74b9b908e0b343a5b53506d3dc87f2bd",
       "version_major": 2,
       "version_minor": 0
      },
      "text/plain": [
       "sci_gxrs-l2-irrad_g14_d20180206_v0-0-0.nc:   0%|          | 0.00/838k [00:00<?, ?B/s]"
      ]
     },
     "metadata": {},
     "output_type": "display_data"
    },
    {
     "data": {
      "application/vnd.jupyter.widget-view+json": {
       "model_id": "b32051aaeea644a2a787a87c1460b7d2",
       "version_major": 2,
       "version_minor": 0
      },
      "text/plain": [
       "sci_gxrs-l2-irrad_g14_d20180207_v0-0-0.nc:   0%|          | 0.00/843k [00:00<?, ?B/s]"
      ]
     },
     "metadata": {},
     "output_type": "display_data"
    },
    {
     "data": {
      "application/vnd.jupyter.widget-view+json": {
       "model_id": "9f904d7ba81241bf9b5b69d8f88e5f24",
       "version_major": 2,
       "version_minor": 0
      },
      "text/plain": [
       "sci_gxrs-l2-irrad_g14_d20180208_v0-0-0.nc:   0%|          | 0.00/839k [00:00<?, ?B/s]"
      ]
     },
     "metadata": {},
     "output_type": "display_data"
    },
    {
     "data": {
      "application/vnd.jupyter.widget-view+json": {
       "model_id": "d3c262bc4abc4d8a85d719a7c1bb0bac",
       "version_major": 2,
       "version_minor": 0
      },
      "text/plain": [
       "sci_gxrs-l2-irrad_g14_d20180211_v0-0-0.nc:   0%|          | 0.00/834k [00:00<?, ?B/s]"
      ]
     },
     "metadata": {},
     "output_type": "display_data"
    },
    {
     "data": {
      "application/vnd.jupyter.widget-view+json": {
       "model_id": "c86181af7ffe4dff928c03d928762e37",
       "version_major": 2,
       "version_minor": 0
      },
      "text/plain": [
       "sci_gxrs-l2-irrad_g14_d20180210_v0-0-0.nc:   0%|          | 0.00/836k [00:00<?, ?B/s]"
      ]
     },
     "metadata": {},
     "output_type": "display_data"
    },
    {
     "data": {
      "application/vnd.jupyter.widget-view+json": {
       "model_id": "8895797f26504e97b2d098902f35bf73",
       "version_major": 2,
       "version_minor": 0
      },
      "text/plain": [
       "sci_gxrs-l2-irrad_g14_d20180212_v0-0-0.nc:   0%|          | 0.00/833k [00:00<?, ?B/s]"
      ]
     },
     "metadata": {},
     "output_type": "display_data"
    },
    {
     "data": {
      "application/vnd.jupyter.widget-view+json": {
       "model_id": "ca4d6d02e4cf47b6814984308cdd9256",
       "version_major": 2,
       "version_minor": 0
      },
      "text/plain": [
       "sci_gxrs-l2-irrad_g14_d20180214_v0-0-0.nc:   0%|          | 0.00/797k [00:00<?, ?B/s]"
      ]
     },
     "metadata": {},
     "output_type": "display_data"
    },
    {
     "data": {
      "application/vnd.jupyter.widget-view+json": {
       "model_id": "b901a66cc874413186d62d16f5dcec36",
       "version_major": 2,
       "version_minor": 0
      },
      "text/plain": [
       "sci_gxrs-l2-irrad_g14_d20180213_v0-0-0.nc:   0%|          | 0.00/829k [00:00<?, ?B/s]"
      ]
     },
     "metadata": {},
     "output_type": "display_data"
    },
    {
     "data": {
      "application/vnd.jupyter.widget-view+json": {
       "model_id": "151129e9bb2b45e68efb75c8706749b9",
       "version_major": 2,
       "version_minor": 0
      },
      "text/plain": [
       "sci_gxrs-l2-irrad_g14_d20180215_v0-0-0.nc:   0%|          | 0.00/830k [00:00<?, ?B/s]"
      ]
     },
     "metadata": {},
     "output_type": "display_data"
    },
    {
     "data": {
      "application/vnd.jupyter.widget-view+json": {
       "model_id": "63aa1d85aa9a4c68bbce17fbbd3e22bc",
       "version_major": 2,
       "version_minor": 0
      },
      "text/plain": [
       "sci_gxrs-l2-irrad_g14_d20180216_v0-0-0.nc:   0%|          | 0.00/830k [00:00<?, ?B/s]"
      ]
     },
     "metadata": {},
     "output_type": "display_data"
    },
    {
     "data": {
      "application/vnd.jupyter.widget-view+json": {
       "model_id": "02b079ac96724b3188826e134b9fa360",
       "version_major": 2,
       "version_minor": 0
      },
      "text/plain": [
       "sci_gxrs-l2-irrad_g14_d20180218_v0-0-0.nc:   0%|          | 0.00/829k [00:00<?, ?B/s]"
      ]
     },
     "metadata": {},
     "output_type": "display_data"
    },
    {
     "data": {
      "application/vnd.jupyter.widget-view+json": {
       "model_id": "14cf930f877b4d79b9c51c4d899b0dd6",
       "version_major": 2,
       "version_minor": 0
      },
      "text/plain": [
       "sci_gxrs-l2-irrad_g14_d20180217_v0-0-0.nc:   0%|          | 0.00/830k [00:00<?, ?B/s]"
      ]
     },
     "metadata": {},
     "output_type": "display_data"
    },
    {
     "data": {
      "application/vnd.jupyter.widget-view+json": {
       "model_id": "a76d488834ba4b7292ccfd2eefd8fd17",
       "version_major": 2,
       "version_minor": 0
      },
      "text/plain": [
       "sci_gxrs-l2-irrad_g14_d20180219_v0-0-0.nc:   0%|          | 0.00/831k [00:00<?, ?B/s]"
      ]
     },
     "metadata": {},
     "output_type": "display_data"
    },
    {
     "data": {
      "application/vnd.jupyter.widget-view+json": {
       "model_id": "c5e6d847c56d4ea099beb135de485613",
       "version_major": 2,
       "version_minor": 0
      },
      "text/plain": [
       "sci_gxrs-l2-irrad_g14_d20180221_v0-0-0.nc:   0%|          | 0.00/832k [00:00<?, ?B/s]"
      ]
     },
     "metadata": {},
     "output_type": "display_data"
    },
    {
     "data": {
      "application/vnd.jupyter.widget-view+json": {
       "model_id": "d890fb2d19254eca94ea15d862fd41d7",
       "version_major": 2,
       "version_minor": 0
      },
      "text/plain": [
       "sci_gxrs-l2-irrad_g14_d20180220_v0-0-0.nc:   0%|          | 0.00/831k [00:00<?, ?B/s]"
      ]
     },
     "metadata": {},
     "output_type": "display_data"
    },
    {
     "data": {
      "application/vnd.jupyter.widget-view+json": {
       "model_id": "266e63797a5647d39058066834fbef5b",
       "version_major": 2,
       "version_minor": 0
      },
      "text/plain": [
       "sci_gxrs-l2-irrad_g14_d20180222_v0-0-0.nc:   0%|          | 0.00/832k [00:00<?, ?B/s]"
      ]
     },
     "metadata": {},
     "output_type": "display_data"
    },
    {
     "data": {
      "application/vnd.jupyter.widget-view+json": {
       "model_id": "a0210664289a4c89b5dd3f615720ef13",
       "version_major": 2,
       "version_minor": 0
      },
      "text/plain": [
       "sci_gxrs-l2-irrad_g14_d20180225_v0-0-0.nc:   0%|          | 0.00/831k [00:00<?, ?B/s]"
      ]
     },
     "metadata": {},
     "output_type": "display_data"
    },
    {
     "data": {
      "application/vnd.jupyter.widget-view+json": {
       "model_id": "0076283f49b9428a804db6c64d328660",
       "version_major": 2,
       "version_minor": 0
      },
      "text/plain": [
       "sci_gxrs-l2-irrad_g14_d20180226_v0-0-0.nc:   0%|          | 0.00/831k [00:00<?, ?B/s]"
      ]
     },
     "metadata": {},
     "output_type": "display_data"
    },
    {
     "data": {
      "application/vnd.jupyter.widget-view+json": {
       "model_id": "05c9798e28c74f3882795ef880929217",
       "version_major": 2,
       "version_minor": 0
      },
      "text/plain": [
       "sci_gxrs-l2-irrad_g14_d20180224_v0-0-0.nc:   0%|          | 0.00/831k [00:00<?, ?B/s]"
      ]
     },
     "metadata": {},
     "output_type": "display_data"
    },
    {
     "data": {
      "application/vnd.jupyter.widget-view+json": {
       "model_id": "d7ffd1df82014c1cb9800f770daa0738",
       "version_major": 2,
       "version_minor": 0
      },
      "text/plain": [
       "sci_gxrs-l2-irrad_g14_d20180223_v0-0-0.nc:   0%|          | 0.00/825k [00:00<?, ?B/s]"
      ]
     },
     "metadata": {},
     "output_type": "display_data"
    },
    {
     "data": {
      "application/vnd.jupyter.widget-view+json": {
       "model_id": "6211d62dbb404852a88366b856b65b6e",
       "version_major": 2,
       "version_minor": 0
      },
      "text/plain": [
       "sci_gxrs-l2-irrad_g14_d20180227_v0-0-0.nc:   0%|          | 0.00/795k [00:00<?, ?B/s]"
      ]
     },
     "metadata": {},
     "output_type": "display_data"
    },
    {
     "data": {
      "application/vnd.jupyter.widget-view+json": {
       "model_id": "0e68d612110448e88933fe79bcf32405",
       "version_major": 2,
       "version_minor": 0
      },
      "text/plain": [
       "sci_gxrs-l2-irrad_g14_d20180228_v0-0-0.nc:   0%|          | 0.00/823k [00:00<?, ?B/s]"
      ]
     },
     "metadata": {},
     "output_type": "display_data"
    },
    {
     "data": {
      "application/vnd.jupyter.widget-view+json": {
       "model_id": "45b011d51dce428886109813b7caa860",
       "version_major": 2,
       "version_minor": 0
      },
      "text/plain": [
       "sci_gxrs-l2-irrad_g14_d20180302_v0-0-0.nc:   0%|          | 0.00/717k [00:00<?, ?B/s]"
      ]
     },
     "metadata": {},
     "output_type": "display_data"
    },
    {
     "data": {
      "application/vnd.jupyter.widget-view+json": {
       "model_id": "d26d1d3698da46639b471c9677f388ac",
       "version_major": 2,
       "version_minor": 0
      },
      "text/plain": [
       "sci_gxrs-l2-irrad_g14_d20180301_v0-0-0.nc:   0%|          | 0.00/827k [00:00<?, ?B/s]"
      ]
     },
     "metadata": {},
     "output_type": "display_data"
    },
    {
     "data": {
      "application/vnd.jupyter.widget-view+json": {
       "model_id": "96f9a24607724ef786962fad3ac2aa8f",
       "version_major": 2,
       "version_minor": 0
      },
      "text/plain": [
       "sci_gxrs-l2-irrad_g14_d20180303_v0-0-0.nc:   0%|          | 0.00/825k [00:00<?, ?B/s]"
      ]
     },
     "metadata": {},
     "output_type": "display_data"
    }
   ],
   "source": [
    "file_goes = Fido.fetch(result)"
   ]
  },
  {
   "cell_type": "code",
   "execution_count": 4,
   "metadata": {},
   "outputs": [
    {
     "data": {
      "text/plain": [
       "[<sunpy.timeseries.sources.goes.XRSTimeSeries at 0x13aeee6d0>,\n",
       " <sunpy.timeseries.sources.goes.XRSTimeSeries at 0x13aef5160>,\n",
       " <sunpy.timeseries.sources.goes.XRSTimeSeries at 0x13aef57f0>,\n",
       " <sunpy.timeseries.sources.goes.XRSTimeSeries at 0x13aeeeb20>,\n",
       " <sunpy.timeseries.sources.goes.XRSTimeSeries at 0x13aef5460>,\n",
       " <sunpy.timeseries.sources.goes.XRSTimeSeries at 0x13aef5dc0>,\n",
       " <sunpy.timeseries.sources.goes.XRSTimeSeries at 0x13af06460>,\n",
       " <sunpy.timeseries.sources.goes.XRSTimeSeries at 0x13af06b20>,\n",
       " <sunpy.timeseries.sources.goes.XRSTimeSeries at 0x13b375220>,\n",
       " <sunpy.timeseries.sources.goes.XRSTimeSeries at 0x13af06f10>,\n",
       " <sunpy.timeseries.sources.goes.XRSTimeSeries at 0x13af06130>,\n",
       " <sunpy.timeseries.sources.goes.XRSTimeSeries at 0x13aeeeca0>,\n",
       " <sunpy.timeseries.sources.goes.XRSTimeSeries at 0x13aef5be0>,\n",
       " <sunpy.timeseries.sources.goes.XRSTimeSeries at 0x13b375b20>,\n",
       " <sunpy.timeseries.sources.goes.XRSTimeSeries at 0x13b375fa0>,\n",
       " <sunpy.timeseries.sources.goes.XRSTimeSeries at 0x13b381460>,\n",
       " <sunpy.timeseries.sources.goes.XRSTimeSeries at 0x13b381b20>,\n",
       " <sunpy.timeseries.sources.goes.XRSTimeSeries at 0x13b375910>,\n",
       " <sunpy.timeseries.sources.goes.XRSTimeSeries at 0x13aef5f10>,\n",
       " <sunpy.timeseries.sources.goes.XRSTimeSeries at 0x13af06c40>,\n",
       " <sunpy.timeseries.sources.goes.XRSTimeSeries at 0x13b381250>,\n",
       " <sunpy.timeseries.sources.goes.XRSTimeSeries at 0x13b381fd0>,\n",
       " <sunpy.timeseries.sources.goes.XRSTimeSeries at 0x13b34f490>,\n",
       " <sunpy.timeseries.sources.goes.XRSTimeSeries at 0x13b34f910>,\n",
       " <sunpy.timeseries.sources.goes.XRSTimeSeries at 0x13b381040>,\n",
       " <sunpy.timeseries.sources.goes.XRSTimeSeries at 0x13af06790>,\n",
       " <sunpy.timeseries.sources.goes.XRSTimeSeries at 0x13b375d00>,\n",
       " <sunpy.timeseries.sources.goes.XRSTimeSeries at 0x13b34f550>,\n",
       " <sunpy.timeseries.sources.goes.XRSTimeSeries at 0x13b34fe80>,\n",
       " <sunpy.timeseries.sources.goes.XRSTimeSeries at 0x13b35a340>,\n",
       " <sunpy.timeseries.sources.goes.XRSTimeSeries at 0x13b35a7c0>,\n",
       " <sunpy.timeseries.sources.goes.XRSTimeSeries at 0x13b35aca0>,\n",
       " <sunpy.timeseries.sources.goes.XRSTimeSeries at 0x13b34f6a0>,\n",
       " <sunpy.timeseries.sources.goes.XRSTimeSeries at 0x13aef54c0>,\n",
       " <sunpy.timeseries.sources.goes.XRSTimeSeries at 0x13b381100>,\n",
       " <sunpy.timeseries.sources.goes.XRSTimeSeries at 0x13b35a070>,\n",
       " <sunpy.timeseries.sources.goes.XRSTimeSeries at 0x13aef9160>,\n",
       " <sunpy.timeseries.sources.goes.XRSTimeSeries at 0x13aef95e0>,\n",
       " <sunpy.timeseries.sources.goes.XRSTimeSeries at 0x13aef9a60>,\n",
       " <sunpy.timeseries.sources.goes.XRSTimeSeries at 0x13b35a100>,\n",
       " <sunpy.timeseries.sources.goes.XRSTimeSeries at 0x13b381220>,\n",
       " <sunpy.timeseries.sources.goes.XRSTimeSeries at 0x13b34ff10>,\n",
       " <sunpy.timeseries.sources.goes.XRSTimeSeries at 0x13aef9640>,\n",
       " <sunpy.timeseries.sources.goes.XRSTimeSeries at 0x13aef9fd0>,\n",
       " <sunpy.timeseries.sources.goes.XRSTimeSeries at 0x13b36d4c0>,\n",
       " <sunpy.timeseries.sources.goes.XRSTimeSeries at 0x13b36d940>,\n",
       " <sunpy.timeseries.sources.goes.XRSTimeSeries at 0x13b36de20>,\n",
       " <sunpy.timeseries.sources.goes.XRSTimeSeries at 0x13aef97f0>,\n",
       " <sunpy.timeseries.sources.goes.XRSTimeSeries at 0x13b3815b0>,\n",
       " <sunpy.timeseries.sources.goes.XRSTimeSeries at 0x13b36d9a0>,\n",
       " <sunpy.timeseries.sources.goes.XRSTimeSeries at 0x13b36d160>,\n",
       " <sunpy.timeseries.sources.goes.XRSTimeSeries at 0x13af162e0>,\n",
       " <sunpy.timeseries.sources.goes.XRSTimeSeries at 0x13af16760>,\n",
       " <sunpy.timeseries.sources.goes.XRSTimeSeries at 0x13af16be0>,\n",
       " <sunpy.timeseries.sources.goes.XRSTimeSeries at 0x13af16970>,\n",
       " <sunpy.timeseries.sources.goes.XRSTimeSeries at 0x13af16370>,\n",
       " <sunpy.timeseries.sources.goes.XRSTimeSeries at 0x13b36d6d0>,\n",
       " <sunpy.timeseries.sources.goes.XRSTimeSeries at 0x13b35a5e0>,\n",
       " <sunpy.timeseries.sources.goes.XRSTimeSeries at 0x13af1d1c0>,\n",
       " <sunpy.timeseries.sources.goes.XRSTimeSeries at 0x13af1d640>,\n",
       " <sunpy.timeseries.sources.goes.XRSTimeSeries at 0x13af1dac0>,\n",
       " <sunpy.timeseries.sources.goes.XRSTimeSeries at 0x13af1dfa0>,\n",
       " <sunpy.timeseries.sources.goes.XRSTimeSeries at 0x13af1d910>,\n",
       " <sunpy.timeseries.sources.goes.XRSTimeSeries at 0x13af1d040>,\n",
       " <sunpy.timeseries.sources.goes.XRSTimeSeries at 0x13b36d7f0>,\n",
       " <sunpy.timeseries.sources.goes.XRSTimeSeries at 0x13af16880>,\n",
       " <sunpy.timeseries.sources.goes.XRSTimeSeries at 0x13af27460>,\n",
       " <sunpy.timeseries.sources.goes.XRSTimeSeries at 0x13af278e0>,\n",
       " <sunpy.timeseries.sources.goes.XRSTimeSeries at 0x13af27d60>,\n",
       " <sunpy.timeseries.sources.goes.XRSTimeSeries at 0x13af27b80>,\n",
       " <sunpy.timeseries.sources.goes.XRSTimeSeries at 0x13af27310>,\n",
       " <sunpy.timeseries.sources.goes.XRSTimeSeries at 0x13af16520>,\n",
       " <sunpy.timeseries.sources.goes.XRSTimeSeries at 0x13aef9220>,\n",
       " <sunpy.timeseries.sources.goes.XRSTimeSeries at 0x13af31340>,\n",
       " <sunpy.timeseries.sources.goes.XRSTimeSeries at 0x13af317c0>,\n",
       " <sunpy.timeseries.sources.goes.XRSTimeSeries at 0x13af31c40>,\n",
       " <sunpy.timeseries.sources.goes.XRSTimeSeries at 0x13af3c160>,\n",
       " <sunpy.timeseries.sources.goes.XRSTimeSeries at 0x13af318e0>,\n",
       " <sunpy.timeseries.sources.goes.XRSTimeSeries at 0x13af311c0>,\n",
       " <sunpy.timeseries.sources.goes.XRSTimeSeries at 0x13b36d0d0>,\n",
       " <sunpy.timeseries.sources.goes.XRSTimeSeries at 0x13af27a00>,\n",
       " <sunpy.timeseries.sources.goes.XRSTimeSeries at 0x13af3c5e0>,\n",
       " <sunpy.timeseries.sources.goes.XRSTimeSeries at 0x13af3ca60>,\n",
       " <sunpy.timeseries.sources.goes.XRSTimeSeries at 0x13af3cee0>,\n",
       " <sunpy.timeseries.sources.goes.XRSTimeSeries at 0x13af3cd00>,\n",
       " <sunpy.timeseries.sources.goes.XRSTimeSeries at 0x13af3c340>,\n",
       " <sunpy.timeseries.sources.goes.XRSTimeSeries at 0x13af27940>,\n",
       " <sunpy.timeseries.sources.goes.XRSTimeSeries at 0x13af31670>,\n",
       " <sunpy.timeseries.sources.goes.XRSTimeSeries at 0x13af464c0>,\n",
       " <sunpy.timeseries.sources.goes.XRSTimeSeries at 0x13af46940>,\n",
       " <sunpy.timeseries.sources.goes.XRSTimeSeries at 0x13af46dc0>,\n",
       " <sunpy.timeseries.sources.goes.XRSTimeSeries at 0x13af502e0>,\n",
       " <sunpy.timeseries.sources.goes.XRSTimeSeries at 0x13af469a0>,\n",
       " <sunpy.timeseries.sources.goes.XRSTimeSeries at 0x13af462e0>,\n",
       " <sunpy.timeseries.sources.goes.XRSTimeSeries at 0x13af16a30>,\n",
       " <sunpy.timeseries.sources.goes.XRSTimeSeries at 0x13af3cca0>,\n",
       " <sunpy.timeseries.sources.goes.XRSTimeSeries at 0x13af50760>,\n",
       " <sunpy.timeseries.sources.goes.XRSTimeSeries at 0x13af50be0>,\n",
       " <sunpy.timeseries.sources.goes.XRSTimeSeries at 0x13af50fd0>,\n",
       " <sunpy.timeseries.sources.goes.XRSTimeSeries at 0x13af50ca0>,\n",
       " <sunpy.timeseries.sources.goes.XRSTimeSeries at 0x13af50400>,\n",
       " <sunpy.timeseries.sources.goes.XRSTimeSeries at 0x13af46b50>,\n",
       " <sunpy.timeseries.sources.goes.XRSTimeSeries at 0x13af3c430>,\n",
       " <sunpy.timeseries.sources.goes.XRSTimeSeries at 0x13af31160>,\n",
       " <sunpy.timeseries.sources.goes.XRSTimeSeries at 0x13af270d0>,\n",
       " <sunpy.timeseries.sources.goes.XRSTimeSeries at 0x13b35ad00>,\n",
       " <sunpy.timeseries.sources.goes.XRSTimeSeries at 0x13af5c550>,\n",
       " <sunpy.timeseries.sources.goes.XRSTimeSeries at 0x13aef9df0>,\n",
       " <sunpy.timeseries.sources.goes.XRSTimeSeries at 0x13af31e50>,\n",
       " <sunpy.timeseries.sources.goes.XRSTimeSeries at 0x13af465b0>,\n",
       " <sunpy.timeseries.sources.goes.XRSTimeSeries at 0x13af508e0>,\n",
       " <sunpy.timeseries.sources.goes.XRSTimeSeries at 0x13af5c970>,\n",
       " <sunpy.timeseries.sources.goes.XRSTimeSeries at 0x13af5cdf0>,\n",
       " <sunpy.timeseries.sources.goes.XRSTimeSeries at 0x13af612b0>,\n",
       " <sunpy.timeseries.sources.goes.XRSTimeSeries at 0x13af5cca0>,\n",
       " <sunpy.timeseries.sources.goes.XRSTimeSeries at 0x13af5c460>,\n",
       " <sunpy.timeseries.sources.goes.XRSTimeSeries at 0x13af46ac0>,\n",
       " <sunpy.timeseries.sources.goes.XRSTimeSeries at 0x13b375fd0>,\n",
       " <sunpy.timeseries.sources.goes.XRSTimeSeries at 0x13af616d0>,\n",
       " <sunpy.timeseries.sources.goes.XRSTimeSeries at 0x13af61b50>,\n",
       " <sunpy.timeseries.sources.goes.XRSTimeSeries at 0x13af61fd0>,\n",
       " <sunpy.timeseries.sources.goes.XRSTimeSeries at 0x13af6b490>,\n",
       " <sunpy.timeseries.sources.goes.XRSTimeSeries at 0x13af61910>,\n",
       " <sunpy.timeseries.sources.goes.XRSTimeSeries at 0x13b34fc70>,\n",
       " <sunpy.timeseries.sources.goes.XRSTimeSeries at 0x13af50820>,\n",
       " <sunpy.timeseries.sources.goes.XRSTimeSeries at 0x13af6b280>,\n",
       " <sunpy.timeseries.sources.goes.XRSTimeSeries at 0x13af6b8b0>,\n",
       " <sunpy.timeseries.sources.goes.XRSTimeSeries at 0x13af6bd30>,\n",
       " <sunpy.timeseries.sources.goes.XRSTimeSeries at 0x13af741f0>,\n",
       " <sunpy.timeseries.sources.goes.XRSTimeSeries at 0x13af6be20>,\n",
       " <sunpy.timeseries.sources.goes.XRSTimeSeries at 0x13af6b700>,\n",
       " <sunpy.timeseries.sources.goes.XRSTimeSeries at 0x13af5ca90>,\n",
       " <sunpy.timeseries.sources.goes.XRSTimeSeries at 0x13af617c0>,\n",
       " <sunpy.timeseries.sources.goes.XRSTimeSeries at 0x13af74610>,\n",
       " <sunpy.timeseries.sources.goes.XRSTimeSeries at 0x13af74a90>,\n",
       " <sunpy.timeseries.sources.goes.XRSTimeSeries at 0x13af74f10>,\n",
       " <sunpy.timeseries.sources.goes.XRSTimeSeries at 0x13af7f3d0>,\n",
       " <sunpy.timeseries.sources.goes.XRSTimeSeries at 0x13af74790>,\n",
       " <sunpy.timeseries.sources.goes.XRSTimeSeries at 0x13af74280>,\n",
       " <sunpy.timeseries.sources.goes.XRSTimeSeries at 0x13af5c6d0>,\n",
       " <sunpy.timeseries.sources.goes.XRSTimeSeries at 0x13af6bd60>,\n",
       " <sunpy.timeseries.sources.goes.XRSTimeSeries at 0x13af7f7f0>,\n",
       " <sunpy.timeseries.sources.goes.XRSTimeSeries at 0x13af7fc70>,\n",
       " <sunpy.timeseries.sources.goes.XRSTimeSeries at 0x13af7ffa0>,\n",
       " <sunpy.timeseries.sources.goes.XRSTimeSeries at 0x13af7ff40>,\n",
       " <sunpy.timeseries.sources.goes.XRSTimeSeries at 0x13af7f5e0>,\n",
       " <sunpy.timeseries.sources.goes.XRSTimeSeries at 0x13af5c820>,\n",
       " <sunpy.timeseries.sources.goes.XRSTimeSeries at 0x13af747f0>,\n",
       " <sunpy.timeseries.sources.goes.XRSTimeSeries at 0x13af8b550>,\n",
       " <sunpy.timeseries.sources.goes.XRSTimeSeries at 0x13af8b9d0>,\n",
       " <sunpy.timeseries.sources.goes.XRSTimeSeries at 0x13af8be50>,\n",
       " <sunpy.timeseries.sources.goes.XRSTimeSeries at 0x13af95310>,\n",
       " <sunpy.timeseries.sources.goes.XRSTimeSeries at 0x13af8ba30>,\n",
       " <sunpy.timeseries.sources.goes.XRSTimeSeries at 0x13af8b1f0>,\n",
       " <sunpy.timeseries.sources.goes.XRSTimeSeries at 0x13af275e0>,\n",
       " <sunpy.timeseries.sources.goes.XRSTimeSeries at 0x13af7fd60>,\n",
       " <sunpy.timeseries.sources.goes.XRSTimeSeries at 0x13af95730>,\n",
       " <sunpy.timeseries.sources.goes.XRSTimeSeries at 0x13af95bb0>,\n",
       " <sunpy.timeseries.sources.goes.XRSTimeSeries at 0x13af95fd0>,\n",
       " <sunpy.timeseries.sources.goes.XRSTimeSeries at 0x13af95e80>,\n",
       " <sunpy.timeseries.sources.goes.XRSTimeSeries at 0x13af95520>,\n",
       " <sunpy.timeseries.sources.goes.XRSTimeSeries at 0x13af6b100>,\n",
       " <sunpy.timeseries.sources.goes.XRSTimeSeries at 0x13af8ba60>,\n",
       " <sunpy.timeseries.sources.goes.XRSTimeSeries at 0x13afa1490>,\n",
       " <sunpy.timeseries.sources.goes.XRSTimeSeries at 0x13afa1910>,\n",
       " <sunpy.timeseries.sources.goes.XRSTimeSeries at 0x13afa1d90>,\n",
       " <sunpy.timeseries.sources.goes.XRSTimeSeries at 0x13afa9250>,\n",
       " <sunpy.timeseries.sources.goes.XRSTimeSeries at 0x13afa1a30>,\n",
       " <sunpy.timeseries.sources.goes.XRSTimeSeries at 0x13afa1160>,\n",
       " <sunpy.timeseries.sources.goes.XRSTimeSeries at 0x13af61d60>,\n",
       " <sunpy.timeseries.sources.goes.XRSTimeSeries at 0x13af95c40>,\n",
       " <sunpy.timeseries.sources.goes.XRSTimeSeries at 0x13afa9670>,\n",
       " <sunpy.timeseries.sources.goes.XRSTimeSeries at 0x13afa9af0>,\n",
       " <sunpy.timeseries.sources.goes.XRSTimeSeries at 0x13afa9f70>,\n",
       " <sunpy.timeseries.sources.goes.XRSTimeSeries at 0x13afa9d90>,\n",
       " <sunpy.timeseries.sources.goes.XRSTimeSeries at 0x13afa93d0>,\n",
       " <sunpy.timeseries.sources.goes.XRSTimeSeries at 0x13af95940>,\n",
       " <sunpy.timeseries.sources.goes.XRSTimeSeries at 0x13afa17c0>,\n",
       " <sunpy.timeseries.sources.goes.XRSTimeSeries at 0x13afb83d0>,\n",
       " <sunpy.timeseries.sources.goes.XRSTimeSeries at 0x13afb8850>,\n",
       " <sunpy.timeseries.sources.goes.XRSTimeSeries at 0x13afb8cd0>,\n",
       " <sunpy.timeseries.sources.goes.XRSTimeSeries at 0x13afc2190>,\n",
       " <sunpy.timeseries.sources.goes.XRSTimeSeries at 0x13afb8ac0>,\n",
       " <sunpy.timeseries.sources.goes.XRSTimeSeries at 0x13afb8160>,\n",
       " <sunpy.timeseries.sources.goes.XRSTimeSeries at 0x13af74820>,\n",
       " <sunpy.timeseries.sources.goes.XRSTimeSeries at 0x13afa9940>,\n",
       " <sunpy.timeseries.sources.goes.XRSTimeSeries at 0x13afc25e0>,\n",
       " <sunpy.timeseries.sources.goes.XRSTimeSeries at 0x13afc2a60>,\n",
       " <sunpy.timeseries.sources.goes.XRSTimeSeries at 0x13afc2ee0>,\n",
       " <sunpy.timeseries.sources.goes.XRSTimeSeries at 0x13afc2be0>,\n",
       " <sunpy.timeseries.sources.goes.XRSTimeSeries at 0x13afc2670>,\n",
       " <sunpy.timeseries.sources.goes.XRSTimeSeries at 0x13afb8610>,\n",
       " <sunpy.timeseries.sources.goes.XRSTimeSeries at 0x13afb8280>,\n",
       " <sunpy.timeseries.sources.goes.XRSTimeSeries at 0x13afa1e50>,\n",
       " <sunpy.timeseries.sources.goes.XRSTimeSeries at 0x13af951c0>,\n",
       " <sunpy.timeseries.sources.goes.XRSTimeSeries at 0x13af744c0>,\n",
       " <sunpy.timeseries.sources.goes.XRSTimeSeries at 0x13af5c190>,\n",
       " <sunpy.timeseries.sources.goes.XRSTimeSeries at 0x13af6b4f0>,\n",
       " <sunpy.timeseries.sources.goes.XRSTimeSeries at 0x13afa1940>,\n",
       " <sunpy.timeseries.sources.goes.XRSTimeSeries at 0x13afb8880>,\n",
       " <sunpy.timeseries.sources.goes.XRSTimeSeries at 0x13afc2880>,\n",
       " <sunpy.timeseries.sources.goes.XRSTimeSeries at 0x13afcf7c0>,\n",
       " <sunpy.timeseries.sources.goes.XRSTimeSeries at 0x13afcfc40>,\n",
       " <sunpy.timeseries.sources.goes.XRSTimeSeries at 0x13afcffd0>,\n",
       " <sunpy.timeseries.sources.goes.XRSTimeSeries at 0x13afcff10>,\n",
       " <sunpy.timeseries.sources.goes.XRSTimeSeries at 0x13afcf5b0>,\n",
       " <sunpy.timeseries.sources.goes.XRSTimeSeries at 0x13afc2430>,\n",
       " <sunpy.timeseries.sources.goes.XRSTimeSeries at 0x13af8b3a0>,\n",
       " <sunpy.timeseries.sources.goes.XRSTimeSeries at 0x13afd7520>,\n",
       " <sunpy.timeseries.sources.goes.XRSTimeSeries at 0x13afd79a0>,\n",
       " <sunpy.timeseries.sources.goes.XRSTimeSeries at 0x13afd7e20>,\n",
       " <sunpy.timeseries.sources.goes.XRSTimeSeries at 0x13afe02e0>,\n",
       " <sunpy.timeseries.sources.goes.XRSTimeSeries at 0x13afd79d0>,\n",
       " <sunpy.timeseries.sources.goes.XRSTimeSeries at 0x13afd7220>,\n",
       " <sunpy.timeseries.sources.goes.XRSTimeSeries at 0x13afb8f70>,\n",
       " <sunpy.timeseries.sources.goes.XRSTimeSeries at 0x13afcfca0>,\n",
       " <sunpy.timeseries.sources.goes.XRSTimeSeries at 0x13afe0700>,\n",
       " <sunpy.timeseries.sources.goes.XRSTimeSeries at 0x13afe0b80>,\n",
       " <sunpy.timeseries.sources.goes.XRSTimeSeries at 0x13afe0fd0>,\n",
       " <sunpy.timeseries.sources.goes.XRSTimeSeries at 0x13afe0e50>,\n",
       " <sunpy.timeseries.sources.goes.XRSTimeSeries at 0x13afe04f0>,\n",
       " <sunpy.timeseries.sources.goes.XRSTimeSeries at 0x13afc2d30>,\n",
       " <sunpy.timeseries.sources.goes.XRSTimeSeries at 0x13afd7a00>,\n",
       " <sunpy.timeseries.sources.goes.XRSTimeSeries at 0x13afea460>,\n",
       " <sunpy.timeseries.sources.goes.XRSTimeSeries at 0x13afea8e0>,\n",
       " <sunpy.timeseries.sources.goes.XRSTimeSeries at 0x13afead60>,\n",
       " <sunpy.timeseries.sources.goes.XRSTimeSeries at 0x13aff4220>,\n",
       " <sunpy.timeseries.sources.goes.XRSTimeSeries at 0x13afeabb0>,\n",
       " <sunpy.timeseries.sources.goes.XRSTimeSeries at 0x13afea3a0>,\n",
       " <sunpy.timeseries.sources.goes.XRSTimeSeries at 0x13af7f490>,\n",
       " <sunpy.timeseries.sources.goes.XRSTimeSeries at 0x13afe0a30>,\n",
       " <sunpy.timeseries.sources.goes.XRSTimeSeries at 0x13aff4640>,\n",
       " <sunpy.timeseries.sources.goes.XRSTimeSeries at 0x13aff4ac0>,\n",
       " <sunpy.timeseries.sources.goes.XRSTimeSeries at 0x13aff4f40>,\n",
       " <sunpy.timeseries.sources.goes.XRSTimeSeries at 0x13aff4cd0>,\n",
       " <sunpy.timeseries.sources.goes.XRSTimeSeries at 0x13aff4070>,\n",
       " <sunpy.timeseries.sources.goes.XRSTimeSeries at 0x13afe0760>,\n",
       " <sunpy.timeseries.sources.goes.XRSTimeSeries at 0x13afea580>,\n",
       " <sunpy.timeseries.sources.goes.XRSTimeSeries at 0x13afff3a0>,\n",
       " <sunpy.timeseries.sources.goes.XRSTimeSeries at 0x13afff820>,\n",
       " <sunpy.timeseries.sources.goes.XRSTimeSeries at 0x13afffca0>,\n",
       " <sunpy.timeseries.sources.goes.XRSTimeSeries at 0x13b009160>,\n",
       " <sunpy.timeseries.sources.goes.XRSTimeSeries at 0x13afffa90>,\n",
       " <sunpy.timeseries.sources.goes.XRSTimeSeries at 0x13afff130>,\n",
       " <sunpy.timeseries.sources.goes.XRSTimeSeries at 0x13afd7ee0>,\n",
       " <sunpy.timeseries.sources.goes.XRSTimeSeries at 0x13aff4880>,\n",
       " <sunpy.timeseries.sources.goes.XRSTimeSeries at 0x13b009580>,\n",
       " <sunpy.timeseries.sources.goes.XRSTimeSeries at 0x13b009a00>,\n",
       " <sunpy.timeseries.sources.goes.XRSTimeSeries at 0x13b009e80>,\n",
       " <sunpy.timeseries.sources.goes.XRSTimeSeries at 0x13b009d30>,\n",
       " <sunpy.timeseries.sources.goes.XRSTimeSeries at 0x13b0095e0>,\n",
       " <sunpy.timeseries.sources.goes.XRSTimeSeries at 0x13aff43a0>,\n",
       " <sunpy.timeseries.sources.goes.XRSTimeSeries at 0x13afeafd0>,\n",
       " <sunpy.timeseries.sources.goes.XRSTimeSeries at 0x13b0132e0>,\n",
       " <sunpy.timeseries.sources.goes.XRSTimeSeries at 0x13b013760>,\n",
       " <sunpy.timeseries.sources.goes.XRSTimeSeries at 0x13b013be0>,\n",
       " <sunpy.timeseries.sources.goes.XRSTimeSeries at 0x13b013fd0>,\n",
       " <sunpy.timeseries.sources.goes.XRSTimeSeries at 0x13b0139d0>,\n",
       " <sunpy.timeseries.sources.goes.XRSTimeSeries at 0x13b013070>,\n",
       " <sunpy.timeseries.sources.goes.XRSTimeSeries at 0x13afcfa00>,\n",
       " <sunpy.timeseries.sources.goes.XRSTimeSeries at 0x13b009790>,\n",
       " <sunpy.timeseries.sources.goes.XRSTimeSeries at 0x13b01d4c0>,\n",
       " <sunpy.timeseries.sources.goes.XRSTimeSeries at 0x13b01d940>,\n",
       " <sunpy.timeseries.sources.goes.XRSTimeSeries at 0x13b01ddc0>,\n",
       " <sunpy.timeseries.sources.goes.XRSTimeSeries at 0x13b01dac0>,\n",
       " <sunpy.timeseries.sources.goes.XRSTimeSeries at 0x13b01d4f0>,\n",
       " <sunpy.timeseries.sources.goes.XRSTimeSeries at 0x13b0092e0>,\n",
       " <sunpy.timeseries.sources.goes.XRSTimeSeries at 0x13afffaf0>,\n",
       " <sunpy.timeseries.sources.goes.XRSTimeSeries at 0x13b013e50>,\n",
       " <sunpy.timeseries.sources.goes.XRSTimeSeries at 0x13b02b6a0>,\n",
       " <sunpy.timeseries.sources.goes.XRSTimeSeries at 0x13b02bb20>,\n",
       " <sunpy.timeseries.sources.goes.XRSTimeSeries at 0x13b02bfa0>,\n",
       " <sunpy.timeseries.sources.goes.XRSTimeSeries at 0x13b02b940>,\n",
       " <sunpy.timeseries.sources.goes.XRSTimeSeries at 0x13b02b130>,\n",
       " <sunpy.timeseries.sources.goes.XRSTimeSeries at 0x13afe0c70>,\n",
       " <sunpy.timeseries.sources.goes.XRSTimeSeries at 0x13b01d9d0>,\n",
       " <sunpy.timeseries.sources.goes.XRSTimeSeries at 0x13b036400>,\n",
       " <sunpy.timeseries.sources.goes.XRSTimeSeries at 0x13b036880>,\n",
       " <sunpy.timeseries.sources.goes.XRSTimeSeries at 0x13b036d00>,\n",
       " <sunpy.timeseries.sources.goes.XRSTimeSeries at 0x13b036a00>,\n",
       " <sunpy.timeseries.sources.goes.XRSTimeSeries at 0x13b036430>,\n",
       " <sunpy.timeseries.sources.goes.XRSTimeSeries at 0x13b02b760>,\n",
       " <sunpy.timeseries.sources.goes.XRSTimeSeries at 0x13b02b040>,\n",
       " <sunpy.timeseries.sources.goes.XRSTimeSeries at 0x13b01d130>,\n",
       " <sunpy.timeseries.sources.goes.XRSTimeSeries at 0x13b009040>,\n",
       " <sunpy.timeseries.sources.goes.XRSTimeSeries at 0x13aff40d0>,\n",
       " <sunpy.timeseries.sources.goes.XRSTimeSeries at 0x13afcf250>,\n",
       " <sunpy.timeseries.sources.goes.XRSTimeSeries at 0x13afea1c0>,\n",
       " <sunpy.timeseries.sources.goes.XRSTimeSeries at 0x13b013820>,\n",
       " <sunpy.timeseries.sources.goes.XRSTimeSeries at 0x13b02b8e0>,\n",
       " <sunpy.timeseries.sources.goes.XRSTimeSeries at 0x13b036910>,\n",
       " <sunpy.timeseries.sources.goes.XRSTimeSeries at 0x13b0425b0>,\n",
       " <sunpy.timeseries.sources.goes.XRSTimeSeries at 0x13b042a30>,\n",
       " <sunpy.timeseries.sources.goes.XRSTimeSeries at 0x13b042eb0>,\n",
       " <sunpy.timeseries.sources.goes.XRSTimeSeries at 0x13b042d60>,\n",
       " <sunpy.timeseries.sources.goes.XRSTimeSeries at 0x13b042610>,\n",
       " <sunpy.timeseries.sources.goes.XRSTimeSeries at 0x13b036250>,\n",
       " <sunpy.timeseries.sources.goes.XRSTimeSeries at 0x13b013100>,\n",
       " <sunpy.timeseries.sources.goes.XRSTimeSeries at 0x13b048310>,\n",
       " <sunpy.timeseries.sources.goes.XRSTimeSeries at 0x13b048790>,\n",
       " <sunpy.timeseries.sources.goes.XRSTimeSeries at 0x13b048c10>,\n",
       " <sunpy.timeseries.sources.goes.XRSTimeSeries at 0x13b048fd0>,\n",
       " <sunpy.timeseries.sources.goes.XRSTimeSeries at 0x13b048a00>,\n",
       " <sunpy.timeseries.sources.goes.XRSTimeSeries at 0x13b0480a0>,\n",
       " <sunpy.timeseries.sources.goes.XRSTimeSeries at 0x13b01d190>,\n",
       " <sunpy.timeseries.sources.goes.XRSTimeSeries at 0x13b0427c0>,\n",
       " <sunpy.timeseries.sources.goes.XRSTimeSeries at 0x13b0534f0>,\n",
       " <sunpy.timeseries.sources.goes.XRSTimeSeries at 0x13b053970>,\n",
       " <sunpy.timeseries.sources.goes.XRSTimeSeries at 0x13b053df0>,\n",
       " <sunpy.timeseries.sources.goes.XRSTimeSeries at 0x13b053af0>,\n",
       " <sunpy.timeseries.sources.goes.XRSTimeSeries at 0x13b053520>,\n",
       " <sunpy.timeseries.sources.goes.XRSTimeSeries at 0x13b042310>,\n",
       " <sunpy.timeseries.sources.goes.XRSTimeSeries at 0x13afd7340>,\n",
       " <sunpy.timeseries.sources.goes.XRSTimeSeries at 0x13b048e80>,\n",
       " <sunpy.timeseries.sources.goes.XRSTimeSeries at 0x13b05d6d0>,\n",
       " <sunpy.timeseries.sources.goes.XRSTimeSeries at 0x13b05db50>,\n",
       " <sunpy.timeseries.sources.goes.XRSTimeSeries at 0x13b05dfd0>,\n",
       " <sunpy.timeseries.sources.goes.XRSTimeSeries at 0x13b05d970>,\n",
       " <sunpy.timeseries.sources.goes.XRSTimeSeries at 0x13b05d160>,\n",
       " <sunpy.timeseries.sources.goes.XRSTimeSeries at 0x13afff220>,\n",
       " <sunpy.timeseries.sources.goes.XRSTimeSeries at 0x13b053a00>,\n",
       " <sunpy.timeseries.sources.goes.XRSTimeSeries at 0x13b066430>,\n",
       " <sunpy.timeseries.sources.goes.XRSTimeSeries at 0x13b0668b0>,\n",
       " <sunpy.timeseries.sources.goes.XRSTimeSeries at 0x13b066d30>,\n",
       " <sunpy.timeseries.sources.goes.XRSTimeSeries at 0x13b066a30>,\n",
       " <sunpy.timeseries.sources.goes.XRSTimeSeries at 0x13b066460>,\n",
       " <sunpy.timeseries.sources.goes.XRSTimeSeries at 0x13b053250>,\n",
       " <sunpy.timeseries.sources.goes.XRSTimeSeries at 0x13b048c70>,\n",
       " <sunpy.timeseries.sources.goes.XRSTimeSeries at 0x13b05dd90>,\n",
       " <sunpy.timeseries.sources.goes.XRSTimeSeries at 0x13b071610>,\n",
       " <sunpy.timeseries.sources.goes.XRSTimeSeries at 0x13b071a90>,\n",
       " <sunpy.timeseries.sources.goes.XRSTimeSeries at 0x13b071f10>,\n",
       " <sunpy.timeseries.sources.goes.XRSTimeSeries at 0x13b0718b0>,\n",
       " <sunpy.timeseries.sources.goes.XRSTimeSeries at 0x13b0710a0>,\n",
       " <sunpy.timeseries.sources.goes.XRSTimeSeries at 0x13b048cd0>,\n",
       " <sunpy.timeseries.sources.goes.XRSTimeSeries at 0x13b066940>,\n",
       " <sunpy.timeseries.sources.goes.XRSTimeSeries at 0x13b07b370>,\n",
       " <sunpy.timeseries.sources.goes.XRSTimeSeries at 0x13b07b7f0>,\n",
       " <sunpy.timeseries.sources.goes.XRSTimeSeries at 0x13b07bc70>,\n",
       " <sunpy.timeseries.sources.goes.XRSTimeSeries at 0x13b07bd00>,\n",
       " <sunpy.timeseries.sources.goes.XRSTimeSeries at 0x13b07b460>,\n",
       " <sunpy.timeseries.sources.goes.XRSTimeSeries at 0x13b066160>,\n",
       " <sunpy.timeseries.sources.goes.XRSTimeSeries at 0x13b05db80>,\n",
       " <sunpy.timeseries.sources.goes.XRSTimeSeries at 0x13b071b80>,\n",
       " <sunpy.timeseries.sources.goes.XRSTimeSeries at 0x13b087550>,\n",
       " <sunpy.timeseries.sources.goes.XRSTimeSeries at 0x13b0879d0>,\n",
       " <sunpy.timeseries.sources.goes.XRSTimeSeries at 0x13b087e50>,\n",
       " <sunpy.timeseries.sources.goes.XRSTimeSeries at 0x13b05d430>,\n",
       " <sunpy.timeseries.sources.goes.XRSTimeSeries at 0x13b07bac0>,\n",
       " <sunpy.timeseries.sources.goes.XRSTimeSeries at 0x13b087a90>,\n",
       " <sunpy.timeseries.sources.goes.XRSTimeSeries at 0x13b087310>,\n",
       " <sunpy.timeseries.sources.goes.XRSTimeSeries at 0x13b0912b0>,\n",
       " <sunpy.timeseries.sources.goes.XRSTimeSeries at 0x13b091730>,\n",
       " <sunpy.timeseries.sources.goes.XRSTimeSeries at 0x13b091bb0>,\n",
       " <sunpy.timeseries.sources.goes.XRSTimeSeries at 0x13b0871f0>,\n",
       " <sunpy.timeseries.sources.goes.XRSTimeSeries at 0x13b07b850>,\n",
       " <sunpy.timeseries.sources.goes.XRSTimeSeries at 0x13b071ac0>,\n",
       " <sunpy.timeseries.sources.goes.XRSTimeSeries at 0x13b0917c0>,\n",
       " <sunpy.timeseries.sources.goes.XRSTimeSeries at 0x13b091fd0>,\n",
       " <sunpy.timeseries.sources.goes.XRSTimeSeries at 0x13b09d490>,\n",
       " <sunpy.timeseries.sources.goes.XRSTimeSeries at 0x13b09d910>,\n",
       " <sunpy.timeseries.sources.goes.XRSTimeSeries at 0x13b09dd90>,\n",
       " <sunpy.timeseries.sources.goes.XRSTimeSeries at 0x13b091940>,\n",
       " <sunpy.timeseries.sources.goes.XRSTimeSeries at 0x13b07ba90>]"
      ]
     },
     "execution_count": 4,
     "metadata": {},
     "output_type": "execute_result"
    }
   ],
   "source": [
    "goes_ts = ts.TimeSeries(file_goes)\n",
    "goes_ts"
   ]
  },
  {
   "cell_type": "code",
   "execution_count": 5,
   "metadata": {},
   "outputs": [
    {
     "name": "stderr",
     "output_type": "stream",
     "text": [
      "/Users/mariusgiger/repos/master/mse-unsupervised-deep-learning/lib/python3.8/site-packages/ipykernel/ipkernel.py:283: DeprecationWarning: `should_run_async` will not call `transform_cell` automatically in the future. Please pass the result to `transformed_cell` argument and any exception that happen during thetransform in `preprocessing_exc_tuple` in IPython 7.17 and above.\n",
      "  and should_run_async(code)\n"
     ]
    }
   ],
   "source": [
    "import pandas as pd\n",
    "df = pd.DataFrame()\n",
    "\n",
    "for ts in goes_ts: \n",
    "    df = pd.concat([df, ts.to_dataframe()])"
   ]
  },
  {
   "cell_type": "code",
   "execution_count": 6,
   "metadata": {},
   "outputs": [
    {
     "name": "stderr",
     "output_type": "stream",
     "text": [
      "/Users/mariusgiger/repos/master/mse-unsupervised-deep-learning/lib/python3.8/site-packages/ipykernel/ipkernel.py:283: DeprecationWarning: `should_run_async` will not call `transform_cell` automatically in the future. Please pass the result to `transformed_cell` argument and any exception that happen during thetransform in `preprocessing_exc_tuple` in IPython 7.17 and above.\n",
      "  and should_run_async(code)\n"
     ]
    }
   ],
   "source": [
    "goes_ts = None"
   ]
  },
  {
   "cell_type": "code",
   "execution_count": 7,
   "metadata": {},
   "outputs": [
    {
     "name": "stderr",
     "output_type": "stream",
     "text": [
      "/Users/mariusgiger/repos/master/mse-unsupervised-deep-learning/lib/python3.8/site-packages/ipykernel/ipkernel.py:283: DeprecationWarning: `should_run_async` will not call `transform_cell` automatically in the future. Please pass the result to `transformed_cell` argument and any exception that happen during thetransform in `preprocessing_exc_tuple` in IPython 7.17 and above.\n",
      "  and should_run_async(code)\n"
     ]
    },
    {
     "data": {
      "text/html": [
       "<div>\n",
       "<style scoped>\n",
       "    .dataframe tbody tr th:only-of-type {\n",
       "        vertical-align: middle;\n",
       "    }\n",
       "\n",
       "    .dataframe tbody tr th {\n",
       "        vertical-align: top;\n",
       "    }\n",
       "\n",
       "    .dataframe thead th {\n",
       "        text-align: right;\n",
       "    }\n",
       "</style>\n",
       "<table border=\"1\" class=\"dataframe\">\n",
       "  <thead>\n",
       "    <tr style=\"text-align: right;\">\n",
       "      <th></th>\n",
       "      <th>xrsa</th>\n",
       "      <th>xrsb</th>\n",
       "    </tr>\n",
       "  </thead>\n",
       "  <tbody>\n",
       "    <tr>\n",
       "      <th>2018-11-10 23:59:59.094999790</th>\n",
       "      <td>8.288800e-09</td>\n",
       "      <td>5.082500e-09</td>\n",
       "    </tr>\n",
       "    <tr>\n",
       "      <th>2018-11-11 00:00:01.141999960</th>\n",
       "      <td>7.174300e-09</td>\n",
       "      <td>2.459300e-09</td>\n",
       "    </tr>\n",
       "    <tr>\n",
       "      <th>2018-11-11 00:00:03.188999891</th>\n",
       "      <td>8.288800e-09</td>\n",
       "      <td>7.705800e-09</td>\n",
       "    </tr>\n",
       "    <tr>\n",
       "      <th>2018-11-11 00:00:05.238999844</th>\n",
       "      <td>7.174300e-09</td>\n",
       "      <td>7.705800e-09</td>\n",
       "    </tr>\n",
       "    <tr>\n",
       "      <th>2018-11-11 00:00:07.284999847</th>\n",
       "      <td>7.174300e-09</td>\n",
       "      <td>5.082500e-09</td>\n",
       "    </tr>\n",
       "    <tr>\n",
       "      <th>...</th>\n",
       "      <td>...</td>\n",
       "      <td>...</td>\n",
       "    </tr>\n",
       "    <tr>\n",
       "      <th>2018-08-18 23:59:49.678999901</th>\n",
       "      <td>8.288800e-09</td>\n",
       "      <td>1.557500e-08</td>\n",
       "    </tr>\n",
       "    <tr>\n",
       "      <th>2018-08-18 23:59:51.728999853</th>\n",
       "      <td>9.403300e-09</td>\n",
       "      <td>1.557500e-08</td>\n",
       "    </tr>\n",
       "    <tr>\n",
       "      <th>2018-08-18 23:59:53.774999857</th>\n",
       "      <td>8.288800e-09</td>\n",
       "      <td>1.819900e-08</td>\n",
       "    </tr>\n",
       "    <tr>\n",
       "      <th>2018-08-18 23:59:55.821999788</th>\n",
       "      <td>8.288800e-09</td>\n",
       "      <td>2.082200e-08</td>\n",
       "    </tr>\n",
       "    <tr>\n",
       "      <th>2018-08-18 23:59:57.871999979</th>\n",
       "      <td>7.174300e-09</td>\n",
       "      <td>1.819900e-08</td>\n",
       "    </tr>\n",
       "  </tbody>\n",
       "</table>\n",
       "<p>15212132 rows × 2 columns</p>\n",
       "</div>"
      ],
      "text/plain": [
       "                                       xrsa          xrsb\n",
       "2018-11-10 23:59:59.094999790  8.288800e-09  5.082500e-09\n",
       "2018-11-11 00:00:01.141999960  7.174300e-09  2.459300e-09\n",
       "2018-11-11 00:00:03.188999891  8.288800e-09  7.705800e-09\n",
       "2018-11-11 00:00:05.238999844  7.174300e-09  7.705800e-09\n",
       "2018-11-11 00:00:07.284999847  7.174300e-09  5.082500e-09\n",
       "...                                     ...           ...\n",
       "2018-08-18 23:59:49.678999901  8.288800e-09  1.557500e-08\n",
       "2018-08-18 23:59:51.728999853  9.403300e-09  1.557500e-08\n",
       "2018-08-18 23:59:53.774999857  8.288800e-09  1.819900e-08\n",
       "2018-08-18 23:59:55.821999788  8.288800e-09  2.082200e-08\n",
       "2018-08-18 23:59:57.871999979  7.174300e-09  1.819900e-08\n",
       "\n",
       "[15212132 rows x 2 columns]"
      ]
     },
     "execution_count": 7,
     "metadata": {},
     "output_type": "execute_result"
    }
   ],
   "source": [
    "df"
   ]
  },
  {
   "cell_type": "code",
   "execution_count": 8,
   "metadata": {},
   "outputs": [
    {
     "name": "stderr",
     "output_type": "stream",
     "text": [
      "/Users/mariusgiger/repos/master/mse-unsupervised-deep-learning/lib/python3.8/site-packages/ipykernel/ipkernel.py:283: DeprecationWarning: `should_run_async` will not call `transform_cell` automatically in the future. Please pass the result to `transformed_cell` argument and any exception that happen during thetransform in `preprocessing_exc_tuple` in IPython 7.17 and above.\n",
      "  and should_run_async(code)\n"
     ]
    },
    {
     "data": {
      "text/html": [
       "<div>\n",
       "<style scoped>\n",
       "    .dataframe tbody tr th:only-of-type {\n",
       "        vertical-align: middle;\n",
       "    }\n",
       "\n",
       "    .dataframe tbody tr th {\n",
       "        vertical-align: top;\n",
       "    }\n",
       "\n",
       "    .dataframe thead th {\n",
       "        text-align: right;\n",
       "    }\n",
       "</style>\n",
       "<table border=\"1\" class=\"dataframe\">\n",
       "  <thead>\n",
       "    <tr style=\"text-align: right;\">\n",
       "      <th></th>\n",
       "      <th>xrsa</th>\n",
       "      <th>xrsb</th>\n",
       "    </tr>\n",
       "  </thead>\n",
       "  <tbody>\n",
       "    <tr>\n",
       "      <th>count</th>\n",
       "      <td>1.521213e+07</td>\n",
       "      <td>1.521213e+07</td>\n",
       "    </tr>\n",
       "    <tr>\n",
       "      <th>mean</th>\n",
       "      <td>5.347222e-09</td>\n",
       "      <td>2.825690e-08</td>\n",
       "    </tr>\n",
       "    <tr>\n",
       "      <th>std</th>\n",
       "      <td>6.970722e-09</td>\n",
       "      <td>6.350555e-08</td>\n",
       "    </tr>\n",
       "    <tr>\n",
       "      <th>min</th>\n",
       "      <td>0.000000e+00</td>\n",
       "      <td>0.000000e+00</td>\n",
       "    </tr>\n",
       "    <tr>\n",
       "      <th>25%</th>\n",
       "      <td>1.602000e-09</td>\n",
       "      <td>1.032900e-08</td>\n",
       "    </tr>\n",
       "    <tr>\n",
       "      <th>50%</th>\n",
       "      <td>3.831000e-09</td>\n",
       "      <td>1.819900e-08</td>\n",
       "    </tr>\n",
       "    <tr>\n",
       "      <th>75%</th>\n",
       "      <td>7.174300e-09</td>\n",
       "      <td>3.131500e-08</td>\n",
       "    </tr>\n",
       "    <tr>\n",
       "      <th>max</th>\n",
       "      <td>2.014300e-06</td>\n",
       "      <td>8.348300e-06</td>\n",
       "    </tr>\n",
       "  </tbody>\n",
       "</table>\n",
       "</div>"
      ],
      "text/plain": [
       "               xrsa          xrsb\n",
       "count  1.521213e+07  1.521213e+07\n",
       "mean   5.347222e-09  2.825690e-08\n",
       "std    6.970722e-09  6.350555e-08\n",
       "min    0.000000e+00  0.000000e+00\n",
       "25%    1.602000e-09  1.032900e-08\n",
       "50%    3.831000e-09  1.819900e-08\n",
       "75%    7.174300e-09  3.131500e-08\n",
       "max    2.014300e-06  8.348300e-06"
      ]
     },
     "execution_count": 8,
     "metadata": {},
     "output_type": "execute_result"
    }
   ],
   "source": [
    "df.describe()"
   ]
  },
  {
   "cell_type": "code",
   "execution_count": 9,
   "metadata": {},
   "outputs": [
    {
     "name": "stderr",
     "output_type": "stream",
     "text": [
      "/Users/mariusgiger/repos/master/mse-unsupervised-deep-learning/lib/python3.8/site-packages/ipykernel/ipkernel.py:283: DeprecationWarning: `should_run_async` will not call `transform_cell` automatically in the future. Please pass the result to `transformed_cell` argument and any exception that happen during thetransform in `preprocessing_exc_tuple` in IPython 7.17 and above.\n",
      "  and should_run_async(code)\n"
     ]
    },
    {
     "data": {
      "text/plain": [
       "1.819899964061733e-08"
      ]
     },
     "execution_count": 9,
     "metadata": {},
     "output_type": "execute_result"
    }
   ],
   "source": [
    "df[\"xrsb\"].median()"
   ]
  },
  {
   "cell_type": "code",
   "execution_count": 10,
   "metadata": {},
   "outputs": [
    {
     "name": "stderr",
     "output_type": "stream",
     "text": [
      "/Users/mariusgiger/repos/master/mse-unsupervised-deep-learning/lib/python3.8/site-packages/ipykernel/ipkernel.py:283: DeprecationWarning: `should_run_async` will not call `transform_cell` automatically in the future. Please pass the result to `transformed_cell` argument and any exception that happen during thetransform in `preprocessing_exc_tuple` in IPython 7.17 and above.\n",
      "  and should_run_async(code)\n"
     ]
    },
    {
     "data": {
      "text/plain": [
       "3.8309999617069934e-09"
      ]
     },
     "execution_count": 10,
     "metadata": {},
     "output_type": "execute_result"
    }
   ],
   "source": [
    "df[\"xrsa\"].median()"
   ]
  },
  {
   "cell_type": "code",
   "execution_count": 11,
   "metadata": {},
   "outputs": [
    {
     "name": "stderr",
     "output_type": "stream",
     "text": [
      "/Users/mariusgiger/repos/master/mse-unsupervised-deep-learning/lib/python3.8/site-packages/ipykernel/ipkernel.py:283: DeprecationWarning: `should_run_async` will not call `transform_cell` automatically in the future. Please pass the result to `transformed_cell` argument and any exception that happen during thetransform in `preprocessing_exc_tuple` in IPython 7.17 and above.\n",
      "  and should_run_async(code)\n"
     ]
    },
    {
     "data": {
      "image/png": "[encoded data removed]",
      "text/plain": [
       "<Figure size 432x288 with 1 Axes>"
      ]
     },
     "metadata": {
      "needs_background": "light"
     },
     "output_type": "display_data"
    }
   ],
   "source": [
    "from matplotlib.ticker import FormatStrFormatter\n",
    "\n",
    "fig, ax = plt.subplots()\n",
    "\n",
    "ax.plot(df.index, df[\"xrsb\"])\n",
    "ax.set_ylabel(\"Flux (Wm$^{-2}$)\")\n",
    "ax.set_xlabel(\"Time\")\n",
    "ax.yaxis.set_major_formatter(FormatStrFormatter('%.15f'))\n",
    "\n",
    "fig.autofmt_xdate()\n",
    "plt.show()"
   ]
  },
  {
   "cell_type": "code",
   "execution_count": 12,
   "metadata": {},
   "outputs": [
    {
     "name": "stderr",
     "output_type": "stream",
     "text": [
      "/Users/mariusgiger/repos/master/mse-unsupervised-deep-learning/lib/python3.8/site-packages/ipykernel/ipkernel.py:283: DeprecationWarning: `should_run_async` will not call `transform_cell` automatically in the future. Please pass the result to `transformed_cell` argument and any exception that happen during thetransform in `preprocessing_exc_tuple` in IPython 7.17 and above.\n",
      "  and should_run_async(code)\n"
     ]
    },
    {
     "data": {
      "image/png": "[encoded data removed]",
      "text/plain": [
       "<Figure size 432x288 with 1 Axes>"
      ]
     },
     "metadata": {
      "needs_background": "light"
     },
     "output_type": "display_data"
    }
   ],
   "source": [
    "fig, ax = plt.subplots()\n",
    "\n",
    "ax.plot(df.index, df[\"xrsa\"])\n",
    "ax.set_ylabel(\"Flux (Wm$^{-2}$)\")\n",
    "ax.set_xlabel(\"Time\")\n",
    "\n",
    "fig.autofmt_xdate()\n",
    "plt.show()"
   ]
  },
  {
   "cell_type": "code",
   "execution_count": null,
   "metadata": {},
   "outputs": [],
   "source": []
  }
 ],
 "metadata": {
  "kernelspec": {
   "display_name": "Python 3",
   "language": "python",
   "name": "python3"
  },
  "language_info": {
   "codemirror_mode": {
    "name": "ipython",
    "version": 3
   },
   "file_extension": ".py",
   "mimetype": "text/x-python",
   "name": "python",
   "nbconvert_exporter": "python",
   "pygments_lexer": "ipython3",
   "version": "3.8.0"
  }
 },
 "nbformat": 4,
 "nbformat_minor": 4
}
