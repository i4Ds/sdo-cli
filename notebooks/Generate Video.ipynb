{
 "cells": [
  {
   "cell_type": "code",
   "execution_count": 10,
   "id": "3ec9bdee",
   "metadata": {},
   "outputs": [
    {
     "data": {
      "text/plain": [
       "(None, None)"
      ]
     },
     "execution_count": 10,
     "metadata": {},
     "output_type": "execute_result"
    }
   ],
   "source": [
    "import ffmpeg\n",
    "\n",
    "(\n",
    "    ffmpeg\n",
    "    .input('./output/analytics/video/*.jpeg', pattern_type='glob', framerate=3)\n",
    "    .output('movie3.mp4')\n",
    "    .run()\n",
    ")"
   ]
  },
  {
   "cell_type": "code",
   "execution_count": 9,
   "id": "31ad3f05",
   "metadata": {},
   "outputs": [
    {
     "name": "stdout",
     "output_type": "stream",
     "text": [
      "Help on module ffmpeg._ffmpeg in ffmpeg:\n",
      "\n",
      "NAME\n",
      "    ffmpeg._ffmpeg\n",
      "\n",
      "FUNCTIONS\n",
      "    input(filename, **kwargs)\n",
      "        Input file URL (ffmpeg ``-i`` option)\n",
      "        \n",
      "        Any supplied kwargs are passed to ffmpeg verbatim (e.g. ``t=20``,\n",
      "        ``f='mp4'``, ``acodec='pcm'``, etc.).\n",
      "        \n",
      "        To tell ffmpeg to read from stdin, use ``pipe:`` as the filename.\n",
      "        \n",
      "        Official documentation: `Main options <https://ffmpeg.org/ffmpeg.html#Main-options>`__\n",
      "    \n",
      "    merge_outputs(*streams)\n",
      "        Include all given outputs in one ffmpeg command line\n",
      "    \n",
      "    output(*streams_and_filename, **kwargs)\n",
      "        Output file URL\n",
      "        \n",
      "        Syntax:\n",
      "            `ffmpeg.output(stream1[, stream2, stream3...], filename, **ffmpeg_args)`\n",
      "        \n",
      "        Any supplied keyword arguments are passed to ffmpeg verbatim (e.g.\n",
      "        ``t=20``, ``f='mp4'``, ``acodec='pcm'``, ``vcodec='rawvideo'``,\n",
      "        etc.).  Some keyword-arguments are handled specially, as shown below.\n",
      "        \n",
      "        Args:\n",
      "            video_bitrate: parameter for ``-b:v``, e.g. ``video_bitrate=1000``.\n",
      "            audio_bitrate: parameter for ``-b:a``, e.g. ``audio_bitrate=200``.\n",
      "            format: alias for ``-f`` parameter, e.g. ``format='mp4'``\n",
      "                (equivalent to ``f='mp4'``).\n",
      "        \n",
      "        If multiple streams are provided, they are mapped to the same\n",
      "        output.\n",
      "        \n",
      "        To tell ffmpeg to write to stdout, use ``pipe:`` as the filename.\n",
      "        \n",
      "        Official documentation: `Synopsis <https://ffmpeg.org/ffmpeg.html#Synopsis>`__\n",
      "    \n",
      "    overwrite_output(stream)\n",
      "        Overwrite output files without asking (ffmpeg ``-y`` option)\n",
      "        \n",
      "        Official documentation: `Main options <https://ffmpeg.org/ffmpeg.html#Main-options>`__\n",
      "\n",
      "DATA\n",
      "    __all__ = ['input', 'merge_outputs', 'output', 'overwrite_output']\n",
      "\n",
      "FILE\n",
      "    /Users/mariusgiger/repos/master/sdo-cli/.venv/lib/python3.8/site-packages/ffmpeg/_ffmpeg.py\n",
      "\n",
      "\n"
     ]
    }
   ],
   "source": [
    "help(\"ffmpeg._ffmpeg\")"
   ]
  },
  {
   "cell_type": "code",
   "execution_count": null,
   "id": "21470394",
   "metadata": {},
   "outputs": [],
   "source": []
  }
 ],
 "metadata": {
  "kernelspec": {
   "display_name": "sdo-cli",
   "language": "python",
   "name": "sdo-cli"
  },
  "language_info": {
   "codemirror_mode": {
    "name": "ipython",
    "version": 3
   },
   "file_extension": ".py",
   "mimetype": "text/x-python",
   "name": "python",
   "nbconvert_exporter": "python",
   "pygments_lexer": "ipython3",
   "version": "3.9.13"
  }
 },
 "nbformat": 4,
 "nbformat_minor": 5
}
